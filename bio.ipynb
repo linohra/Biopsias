{
 "cells": [
  {
   "cell_type": "code",
   "execution_count": 1,
   "metadata": {},
   "outputs": [],
   "source": [
    "### A Pluto.jl notebook ###\n",
    "# v0.19.24\n",
    "\n",
    "using Markdown\n",
    "using InteractiveUtils"
   ]
  },
  {
   "cell_type": "code",
   "execution_count": 2,
   "metadata": {},
   "outputs": [],
   "source": [
    "using Pkg "
   ]
  },
  {
   "cell_type": "code",
   "execution_count": 3,
   "metadata": {},
   "outputs": [],
   "source": [
    "using XLSX,DataFrames,CSV"
   ]
  },
  {
   "cell_type": "code",
   "execution_count": 4,
   "metadata": {},
   "outputs": [],
   "source": [
    "#Pkg.add(\"StatsBase\")\n",
    "#Pkg.add(\"Plots\")\n",
    "#Pkg.add(\"Gtk\")\n",
    "#Pkg.add(\"FreqTables\")"
   ]
  },
  {
   "cell_type": "code",
   "execution_count": 5,
   "metadata": {},
   "outputs": [
    {
     "name": "stderr",
     "output_type": "stream",
     "text": [
      "Gtk-Message: 22:29:32.469: Failed to load module \"canberra-gtk-module\"\n",
      "Gtk-Message: 22:29:32.470: Failed to load module \"canberra-gtk-module\"\n"
     ]
    }
   ],
   "source": [
    "using StatsBase,Plots, Statistics,Gtk,FreqTables"
   ]
  },
  {
   "cell_type": "markdown",
   "metadata": {},
   "source": [
    "Ejemplo \n",
    "Tomando como datos una base de datos en Excel de Biopsias realizadas"
   ]
  },
  {
   "cell_type": "code",
   "execution_count": 6,
   "metadata": {},
   "outputs": [
    {
     "data": {
      "text/plain": [
       "\"/media/linor/2T_1/CienciadeDatos/Biopsias/Biopsias/bio.xlsx\""
      ]
     },
     "execution_count": 6,
     "metadata": {},
     "output_type": "execute_result"
    }
   ],
   "source": [
    "archivo_xlsx=open_dialog(\"Gestor de Archivos\")"
   ]
  },
  {
   "cell_type": "code",
   "execution_count": 7,
   "metadata": {},
   "outputs": [],
   "source": [
    "#fichero_xlsx=\"/media/linor/2T_1/CienciadeDatos/curso_julia/biopsias/bio.xlsx\"\n",
    "#fichero_xlsx=open_dialog(\"Gestor de Archivos\")"
   ]
  },
  {
   "cell_type": "code",
   "execution_count": 8,
   "metadata": {},
   "outputs": [
    {
     "data": {
      "text/plain": [
       "XLSX.DataTable(Any[Any[2, 3, 4, 5, 6, 7, 8, 9, 10, 11  …  16193, 16194, 16195, 16196, 16197, 16198, 16199, 16200, 16201, 16202], Any[58, 53, 27, 80, 40, 23, 24, 47, 50, 58  …  26, 74, 74, 55, 65, 60, 86, 55, 96, 84], Any[\"F\", \"F\", \"F\", \"F\", \"F\", \"F\", \"M\", \"F\", \"F\", \"F\"  …  \"F\", \"F\", \"F\", \"F\", \"F\", \"F\", \"M\", \"F\", \"M\", \"F\"], Any[\"M\", \"B\", \"B\", \"B\", \"M\", \"B\", \"N\", \"B\", \"B\", \"B\"  …  \"N\", \"B\", \"B\", \"B\", \"B\", \"B\", \"B\", \"B\", \"B\", \"B\"], Any[4, 4, 1, 1, 4, 4, 1, 1, 1, 1  …  4, 4, 4, 4, 4, 4, 4, 4, 4, 4], Any[181776, 98295, 2099, 143217, 181776, 181719, 143221, 12126, 143217, 12126  …  65028, 65885, 65885, 54563, 65885, 94755, 92696, 92696, 92696, 79810], Any[\"Colectomia Izquierda y derecha de ovarios\", \"  Colectomia \", \"  Descartar lesion intrapiterial de alto grado\", \"carepi \", \"Miomas uterinos\", \"  Embarazo ectopico izkierdo\", \"  Papiloma paladar duro    \", \"descartar VAING\", \"Cancinoma epidermoide  Carcinoma basal\", \"  Descartar LIEAG\"  …  \"  PAPILOMA\", \"  CARCINOMA BASAL \", \"  CARCINOMA BASAL \", \"  T CANAL ANAL \", \"  CARCINOMA BASAL   \", \"  NEVUS MELANOCITICO \", \"  CARCINOMA BASAL ULCERADO \", \"  SINDROME DE SWEETH\", \"  CARCINOMA BASAL ULCERADO   \", \"  NODULO DE MAMA DERECHA  \"], Any[803, 201, 803, 211, 803, 803, 211, 803, 211, 803  …  204, 108, 108, 209, 108, 108, 108, 108, 108, 201], Any[\"  ROTULADO COMO QUISTE DE OVARIO IZQUIERDO Y CUÑA DE OVARIO DERECGO  2 PIEZAS EN 1 MISMO FRASCO , LA MAYOR CORRESPONDE A TROMPA Y OVARIO IZQUIERDO QUE MIDE 3*1 CM , SEROSA PARDA CLARA , LISA Y BRILLANTE , AL CORTE PAREDES DELGADAS , LUZ POCO VISIBLE OVARIO\", \"  Vesicula biliar de 10 x 4 x 3 cm, serosa verde oscura lisa y brillante a su apertura peredes delgada luz ocupada por varias formaciones blanquesinas irregulares de 1 cm de aspecto litíasico ,mucosa que conserva su aspecto afelpado.  3/1 c/r\", \"  3 PONCHES DE TEJIDO PARDO CLARO DE O.5CM                                         3 EN 1 SIN RESTO\", \"  FRAGMENTO DE TEJIDO ,BLANCO IRREGULAR DE 5*2 CM QUE EN LA SUPERFICIE PRESENTA FORMACION BLANCA DE ASPECTO VERRUGOSO QUE IMPRESIONAN COINCIDIR CON UNO DE LOS BSQ, AL CORTE BLANCO CON AREAS PARDO OSCURAS\", \"  UTERO DE 19X14X10CM SEROSA PARDA CLARA IRREGULAR MULTINODULAR CON VARIAS FORMACIONES EN SU SUPERFICIE LA MAYOR DE 6X5CM CON EXOCERVIX BLANCO ANACARADO OCE RASGADO CANAL PERMIABLE AL CORTES PAREDES FIBROSAS A LOS CORTES DE CUERPO YFONDO CEC MIOMETRIO TRAV\", \"  Rotulado como salpingectomía bilateral no así en la boleta    Se reciive trompa de 4 x 2 cm con serosa parda clara lisa y brillante dislacerada al corte paredes delgada , luz dilatada en su tercio medio, con contenido pardo oscuro de aspecto hemático   2\", \"   Fragmento de tejido blanquesino  de 0.5 cm que en la superficie presenta formación oboide blanca , elevada de 0.4 cm especimen que se destina integro a proceso ténico  1/1 s/r\", \"    3 ponches de tejido blanquesino de 0.5 cm   3/1 s/r\", \"  SE RESIVE PIEL REDONDEADA DE4*3CM HACIA SU CENTRO FORMACION ULCERADA DE0.8CM BLANCA GRISACEA AL CORTE BLANQUESINO  \", \"  3 PONCHES DE TEJIDOS BLANQUECINO DE 0,3CM \"  …  \"2 FRAGMENTOS DE TEJIDO EL MAYOR DE 0,8X0,3CM BLANCO GRIS IRREGULAR \", \"PIEL REDONDA DE 1,5CM BLANCO AL CORTE FORMACION BLANQUECINA APLANADA DE 0,8X0,4CM AL CORTE BLANQUECINO \", \"NULL\", \"FRAGMENTO DE TEJIDO PARDO CLARO OVOIDE  QUE MIDE 0,8 X0.5 X0.3 CM DE SUPERFICIE IRREGULAR AL CORTE PARDO CLARO T/1 SR \", \"PIEL ELIPTICA DE2X0,6 CM BLANCA CON PRESENCIA DE BELLOS EN SU SUPERFICIE QUE HACIA SU CENTRO PRESENTA UNA FORMACION REDONDEADA ELEVADA HIPOCOLOREADA DE 0,2CM AL CORTE BLANQUECINO\", \"I- PIEL ELIPTICA BLANCA DE 0,4 X 0,2 CM EN SU CENTRO PRESENTA PEQUEÑOFORMACION DE 0,1 CM   II- PIEL ELIPTICA BLANCA DE 0,4 X 0,2 CM QUE HACIA SU CENTRO PRESENTA FORMACION ELEVADA DE SUPERFICIE LISA DE 0,2 CM \", \"PIEL DISLACERADO EN 3 FRAGMENTO ULCERADO DE 0,3CM BLANCO GRIS \", \"PIEL ELIPTICA PARDA CLARA QUE MIDE 1X0,3CM SE DESTINA INTEGRO AL PROCESO \", \"NULL\", \"  NODULO DE MAMA DERECHA DE 5 X 4,5 X 2 CM BLANCO AMARILLENTO DURO ELASTICO , AL TACTO , AL CORTE SE OBSERVAN FORMACION BLANCA AMARILLENTA DE 3,5 X 2,5 CM DURA CON BORDES IRREGULARES QUE INFILTRA HASTA LA GRASA 4/1 CR \"]], [:IdBuiopsia, :Edad, :Sexo, :Raza, :IdTipoBiopsia, :IdMedico, :DiagnosticoMedico, :IdEspecialidad, :DescripcionBiopsia], Dict(:IdBuiopsia => 1, :DiagnosticoMedico => 7, :IdMedico => 6, :Raza => 4, :IdTipoBiopsia => 5, :IdEspecialidad => 8, :DescripcionBiopsia => 9, :Sexo => 3, :Edad => 2))"
      ]
     },
     "execution_count": 8,
     "metadata": {},
     "output_type": "execute_result"
    }
   ],
   "source": [
    "hoja_de_calculo = XLSX.readtable(archivo_xlsx,\"registro\")"
   ]
  },
  {
   "cell_type": "code",
   "execution_count": 9,
   "metadata": {},
   "outputs": [
    {
     "data": {
      "text/html": [
       "<div><div style = \"float: left;\"><span>18569×9 DataFrame</span></div><div style = \"float: right;\"><span style = \"font-style: italic;\">18544 rows omitted</span></div><div style = \"clear: both;\"></div></div><div class = \"data-frame\" style = \"overflow-x: scroll;\"><table class = \"data-frame\" style = \"margin-bottom: 6px;\"><thead><tr class = \"header\"><th class = \"rowNumber\" style = \"font-weight: bold; text-align: right;\">Row</th><th style = \"text-align: left;\">IdBuiopsia</th><th style = \"text-align: left;\">Edad</th><th style = \"text-align: left;\">Sexo</th><th style = \"text-align: left;\">Raza</th><th style = \"text-align: left;\">IdTipoBiopsia</th><th style = \"text-align: left;\">IdMedico</th><th style = \"text-align: left;\">DiagnosticoMedico</th><th style = \"text-align: left;\">IdEspecialidad</th><th style = \"text-align: left;\">DescripcionBiopsia</th></tr><tr class = \"subheader headerLastRow\"><th class = \"rowNumber\" style = \"font-weight: bold; text-align: right;\"></th><th title = \"Any\" style = \"text-align: left;\">Any</th><th title = \"Any\" style = \"text-align: left;\">Any</th><th title = \"Any\" style = \"text-align: left;\">Any</th><th title = \"Any\" style = \"text-align: left;\">Any</th><th title = \"Any\" style = \"text-align: left;\">Any</th><th title = \"Any\" style = \"text-align: left;\">Any</th><th title = \"Any\" style = \"text-align: left;\">Any</th><th title = \"Any\" style = \"text-align: left;\">Any</th><th title = \"Any\" style = \"text-align: left;\">Any</th></tr></thead><tbody><tr><td class = \"rowNumber\" style = \"font-weight: bold; text-align: right;\">1</td><td style = \"text-align: left;\">2</td><td style = \"text-align: left;\">58</td><td style = \"text-align: left;\">F</td><td style = \"text-align: left;\">M</td><td style = \"text-align: left;\">4</td><td style = \"text-align: left;\">181776</td><td style = \"text-align: left;\">Colectomia Izquierda y derecha de ovarios</td><td style = \"text-align: left;\">803</td><td style = \"text-align: left;\">  ROTULADO COMO QUISTE DE OVARIO IZQUIERDO Y CUÑA DE OVARIO DERECGO  2 PIEZAS EN 1 MISMO FRASCO , LA MAYOR CORRESPONDE A TROMPA Y OVARIO IZQUIERDO QUE MIDE 3*1 CM , SEROSA PARDA CLARA , LISA Y BRILLANTE , AL CORTE PAREDES DELGADAS , LUZ POCO VISIBLE OVARIO</td></tr><tr><td class = \"rowNumber\" style = \"font-weight: bold; text-align: right;\">2</td><td style = \"text-align: left;\">3</td><td style = \"text-align: left;\">53</td><td style = \"text-align: left;\">F</td><td style = \"text-align: left;\">B</td><td style = \"text-align: left;\">4</td><td style = \"text-align: left;\">98295</td><td style = \"text-align: left;\">  Colectomia </td><td style = \"text-align: left;\">201</td><td style = \"text-align: left;\">  Vesicula biliar de 10 x 4 x 3 cm, serosa verde oscura lisa y brillante a su apertura peredes delgada luz ocupada por varias formaciones blanquesinas irregulares de 1 cm de aspecto litíasico ,mucosa que conserva su aspecto afelpado.  3/1 c/r</td></tr><tr><td class = \"rowNumber\" style = \"font-weight: bold; text-align: right;\">3</td><td style = \"text-align: left;\">4</td><td style = \"text-align: left;\">27</td><td style = \"text-align: left;\">F</td><td style = \"text-align: left;\">B</td><td style = \"text-align: left;\">1</td><td style = \"text-align: left;\">2099</td><td style = \"text-align: left;\">  Descartar lesion intrapiterial de alto grado</td><td style = \"text-align: left;\">803</td><td style = \"text-align: left;\">  3 PONCHES DE TEJIDO PARDO CLARO DE O.5CM                                         3 EN 1 SIN RESTO</td></tr><tr><td class = \"rowNumber\" style = \"font-weight: bold; text-align: right;\">4</td><td style = \"text-align: left;\">5</td><td style = \"text-align: left;\">80</td><td style = \"text-align: left;\">F</td><td style = \"text-align: left;\">B</td><td style = \"text-align: left;\">1</td><td style = \"text-align: left;\">143217</td><td style = \"text-align: left;\">carepi </td><td style = \"text-align: left;\">211</td><td style = \"text-align: left;\">  FRAGMENTO DE TEJIDO ,BLANCO IRREGULAR DE 5*2 CM QUE EN LA SUPERFICIE PRESENTA FORMACION BLANCA DE ASPECTO VERRUGOSO QUE IMPRESIONAN COINCIDIR CON UNO DE LOS BSQ, AL CORTE BLANCO CON AREAS PARDO OSCURAS</td></tr><tr><td class = \"rowNumber\" style = \"font-weight: bold; text-align: right;\">5</td><td style = \"text-align: left;\">6</td><td style = \"text-align: left;\">40</td><td style = \"text-align: left;\">F</td><td style = \"text-align: left;\">M</td><td style = \"text-align: left;\">4</td><td style = \"text-align: left;\">181776</td><td style = \"text-align: left;\">Miomas uterinos</td><td style = \"text-align: left;\">803</td><td style = \"text-align: left;\">  UTERO DE 19X14X10CM SEROSA PARDA CLARA IRREGULAR MULTINODULAR CON VARIAS FORMACIONES EN SU SUPERFICIE LA MAYOR DE 6X5CM CON EXOCERVIX BLANCO ANACARADO OCE RASGADO CANAL PERMIABLE AL CORTES PAREDES FIBROSAS A LOS CORTES DE CUERPO YFONDO CEC MIOMETRIO TRAV</td></tr><tr><td class = \"rowNumber\" style = \"font-weight: bold; text-align: right;\">6</td><td style = \"text-align: left;\">7</td><td style = \"text-align: left;\">23</td><td style = \"text-align: left;\">F</td><td style = \"text-align: left;\">B</td><td style = \"text-align: left;\">4</td><td style = \"text-align: left;\">181719</td><td style = \"text-align: left;\">  Embarazo ectopico izkierdo</td><td style = \"text-align: left;\">803</td><td style = \"text-align: left;\">  Rotulado como salpingectomía bilateral no así en la boleta    Se reciive trompa de 4 x 2 cm con serosa parda clara lisa y brillante dislacerada al corte paredes delgada , luz dilatada en su tercio medio, con contenido pardo oscuro de aspecto hemático   2</td></tr><tr><td class = \"rowNumber\" style = \"font-weight: bold; text-align: right;\">7</td><td style = \"text-align: left;\">8</td><td style = \"text-align: left;\">24</td><td style = \"text-align: left;\">M</td><td style = \"text-align: left;\">N</td><td style = \"text-align: left;\">1</td><td style = \"text-align: left;\">143221</td><td style = \"text-align: left;\">  Papiloma paladar duro    </td><td style = \"text-align: left;\">211</td><td style = \"text-align: left;\">   Fragmento de tejido blanquesino  de 0.5 cm que en la superficie presenta formación oboide blanca , elevada de 0.4 cm especimen que se destina integro a proceso ténico  1/1 s/r</td></tr><tr><td class = \"rowNumber\" style = \"font-weight: bold; text-align: right;\">8</td><td style = \"text-align: left;\">9</td><td style = \"text-align: left;\">47</td><td style = \"text-align: left;\">F</td><td style = \"text-align: left;\">B</td><td style = \"text-align: left;\">1</td><td style = \"text-align: left;\">12126</td><td style = \"text-align: left;\">descartar VAING</td><td style = \"text-align: left;\">803</td><td style = \"text-align: left;\">    3 ponches de tejido blanquesino de 0.5 cm   3/1 s/r</td></tr><tr><td class = \"rowNumber\" style = \"font-weight: bold; text-align: right;\">9</td><td style = \"text-align: left;\">10</td><td style = \"text-align: left;\">50</td><td style = \"text-align: left;\">F</td><td style = \"text-align: left;\">B</td><td style = \"text-align: left;\">1</td><td style = \"text-align: left;\">143217</td><td style = \"text-align: left;\">Cancinoma epidermoide  Carcinoma basal</td><td style = \"text-align: left;\">211</td><td style = \"text-align: left;\">  SE RESIVE PIEL REDONDEADA DE4*3CM HACIA SU CENTRO FORMACION ULCERADA DE0.8CM BLANCA GRISACEA AL CORTE BLANQUESINO  </td></tr><tr><td class = \"rowNumber\" style = \"font-weight: bold; text-align: right;\">10</td><td style = \"text-align: left;\">11</td><td style = \"text-align: left;\">58</td><td style = \"text-align: left;\">F</td><td style = \"text-align: left;\">B</td><td style = \"text-align: left;\">1</td><td style = \"text-align: left;\">12126</td><td style = \"text-align: left;\">  Descartar LIEAG</td><td style = \"text-align: left;\">803</td><td style = \"text-align: left;\">  3 PONCHES DE TEJIDOS BLANQUECINO DE 0,3CM </td></tr><tr><td class = \"rowNumber\" style = \"font-weight: bold; text-align: right;\">11</td><td style = \"text-align: left;\">12</td><td style = \"text-align: left;\">58</td><td style = \"text-align: left;\">F</td><td style = \"text-align: left;\">B</td><td style = \"text-align: left;\">2</td><td style = \"text-align: left;\">122490</td><td style = \"text-align: left;\">medula osea en estudio </td><td style = \"text-align: left;\">111</td><td style = \"text-align: left;\">NULL</td></tr><tr><td class = \"rowNumber\" style = \"font-weight: bold; text-align: right;\">12</td><td style = \"text-align: left;\">13</td><td style = \"text-align: left;\">49</td><td style = \"text-align: left;\">F</td><td style = \"text-align: left;\">B</td><td style = \"text-align: left;\">5</td><td style = \"text-align: left;\">12126</td><td style = \"text-align: left;\">  Lesion Intrapiterial de alto Grado</td><td style = \"text-align: left;\">803</td><td style = \"text-align: left;\">    fragmento de tejido grisacéo de 2 x 1.5 cm , al corte de iguales caracteristicas   9/1  s/r</td></tr><tr><td class = \"rowNumber\" style = \"font-weight: bold; text-align: right;\">13</td><td style = \"text-align: left;\">14</td><td style = \"text-align: left;\">67</td><td style = \"text-align: left;\">M</td><td style = \"text-align: left;\">B</td><td style = \"text-align: left;\">4</td><td style = \"text-align: left;\">74112</td><td style = \"text-align: left;\">   biopsia de medula osea en estudio </td><td style = \"text-align: left;\">108</td><td style = \"text-align: left;\">  2 cilindros medulares pardo claro de 1cm el uno se destina integro al proceso tecnico   </td></tr><tr><td style = \"text-align: right;\">&vellip;</td><td style = \"text-align: right;\">&vellip;</td><td style = \"text-align: right;\">&vellip;</td><td style = \"text-align: right;\">&vellip;</td><td style = \"text-align: right;\">&vellip;</td><td style = \"text-align: right;\">&vellip;</td><td style = \"text-align: right;\">&vellip;</td><td style = \"text-align: right;\">&vellip;</td><td style = \"text-align: right;\">&vellip;</td><td style = \"text-align: right;\">&vellip;</td></tr><tr><td class = \"rowNumber\" style = \"font-weight: bold; text-align: right;\">18558</td><td style = \"text-align: left;\">16191</td><td style = \"text-align: left;\">69</td><td style = \"text-align: left;\">M</td><td style = \"text-align: left;\">B</td><td style = \"text-align: left;\">4</td><td style = \"text-align: left;\">92696</td><td style = \"text-align: left;\">  CARCINOMA EPIDERMOIDE </td><td style = \"text-align: left;\">108</td><td style = \"text-align: left;\">PIEL ELIPTICA DE 2X1CM BLANCA CON PRESENCIA DE BELLOS EN SU SUPERFICIE QUE HACIA SU CENTRO PRESENTA UNA FORMACION REDONDEADA ELEVADA HIPOCOLOREADA DE 1,2CM AL CORTE BLANQUECINO</td></tr><tr><td class = \"rowNumber\" style = \"font-weight: bold; text-align: right;\">18559</td><td style = \"text-align: left;\">16192</td><td style = \"text-align: left;\">76</td><td style = \"text-align: left;\">M</td><td style = \"text-align: left;\">B</td><td style = \"text-align: left;\">4</td><td style = \"text-align: left;\">79773</td><td style = \"text-align: left;\">  NEVUS PIGMENTADO</td><td style = \"text-align: left;\">206</td><td style = \"text-align: left;\">PIEL ELIPTICA BLANCO 1,5X0,8CM AL CORTE PRESENTA P`ROCESO ULCERADO PARDO CLARO DE BORDES IRREGULARES DE 0,8CM AL CORTE BLANQUECINO </td></tr><tr><td class = \"rowNumber\" style = \"font-weight: bold; text-align: right;\">18560</td><td style = \"text-align: left;\">16193</td><td style = \"text-align: left;\">26</td><td style = \"text-align: left;\">F</td><td style = \"text-align: left;\">N</td><td style = \"text-align: left;\">4</td><td style = \"text-align: left;\">65028</td><td style = \"text-align: left;\">  PAPILOMA</td><td style = \"text-align: left;\">204</td><td style = \"text-align: left;\">2 FRAGMENTOS DE TEJIDO EL MAYOR DE 0,8X0,3CM BLANCO GRIS IRREGULAR </td></tr><tr><td class = \"rowNumber\" style = \"font-weight: bold; text-align: right;\">18561</td><td style = \"text-align: left;\">16194</td><td style = \"text-align: left;\">74</td><td style = \"text-align: left;\">F</td><td style = \"text-align: left;\">B</td><td style = \"text-align: left;\">4</td><td style = \"text-align: left;\">65885</td><td style = \"text-align: left;\">  CARCINOMA BASAL </td><td style = \"text-align: left;\">108</td><td style = \"text-align: left;\">PIEL REDONDA DE 1,5CM BLANCO AL CORTE FORMACION BLANQUECINA APLANADA DE 0,8X0,4CM AL CORTE BLANQUECINO </td></tr><tr><td class = \"rowNumber\" style = \"font-weight: bold; text-align: right;\">18562</td><td style = \"text-align: left;\">16195</td><td style = \"text-align: left;\">74</td><td style = \"text-align: left;\">F</td><td style = \"text-align: left;\">B</td><td style = \"text-align: left;\">4</td><td style = \"text-align: left;\">65885</td><td style = \"text-align: left;\">  CARCINOMA BASAL </td><td style = \"text-align: left;\">108</td><td style = \"text-align: left;\">NULL</td></tr><tr><td class = \"rowNumber\" style = \"font-weight: bold; text-align: right;\">18563</td><td style = \"text-align: left;\">16196</td><td style = \"text-align: left;\">55</td><td style = \"text-align: left;\">F</td><td style = \"text-align: left;\">B</td><td style = \"text-align: left;\">4</td><td style = \"text-align: left;\">54563</td><td style = \"text-align: left;\">  T CANAL ANAL </td><td style = \"text-align: left;\">209</td><td style = \"text-align: left;\">FRAGMENTO DE TEJIDO PARDO CLARO OVOIDE  QUE MIDE 0,8 X0.5 X0.3 CM DE SUPERFICIE IRREGULAR AL CORTE PARDO CLARO T/1 SR </td></tr><tr><td class = \"rowNumber\" style = \"font-weight: bold; text-align: right;\">18564</td><td style = \"text-align: left;\">16197</td><td style = \"text-align: left;\">65</td><td style = \"text-align: left;\">F</td><td style = \"text-align: left;\">B</td><td style = \"text-align: left;\">4</td><td style = \"text-align: left;\">65885</td><td style = \"text-align: left;\">  CARCINOMA BASAL   </td><td style = \"text-align: left;\">108</td><td style = \"text-align: left;\">PIEL ELIPTICA DE2X0,6 CM BLANCA CON PRESENCIA DE BELLOS EN SU SUPERFICIE QUE HACIA SU CENTRO PRESENTA UNA FORMACION REDONDEADA ELEVADA HIPOCOLOREADA DE 0,2CM AL CORTE BLANQUECINO</td></tr><tr><td class = \"rowNumber\" style = \"font-weight: bold; text-align: right;\">18565</td><td style = \"text-align: left;\">16198</td><td style = \"text-align: left;\">60</td><td style = \"text-align: left;\">F</td><td style = \"text-align: left;\">B</td><td style = \"text-align: left;\">4</td><td style = \"text-align: left;\">94755</td><td style = \"text-align: left;\">  NEVUS MELANOCITICO </td><td style = \"text-align: left;\">108</td><td style = \"text-align: left;\">I- PIEL ELIPTICA BLANCA DE 0,4 X 0,2 CM EN SU CENTRO PRESENTA PEQUEÑOFORMACION DE 0,1 CM   II- PIEL ELIPTICA BLANCA DE 0,4 X 0,2 CM QUE HACIA SU CENTRO PRESENTA FORMACION ELEVADA DE SUPERFICIE LISA DE 0,2 CM </td></tr><tr><td class = \"rowNumber\" style = \"font-weight: bold; text-align: right;\">18566</td><td style = \"text-align: left;\">16199</td><td style = \"text-align: left;\">86</td><td style = \"text-align: left;\">M</td><td style = \"text-align: left;\">B</td><td style = \"text-align: left;\">4</td><td style = \"text-align: left;\">92696</td><td style = \"text-align: left;\">  CARCINOMA BASAL ULCERADO </td><td style = \"text-align: left;\">108</td><td style = \"text-align: left;\">PIEL DISLACERADO EN 3 FRAGMENTO ULCERADO DE 0,3CM BLANCO GRIS </td></tr><tr><td class = \"rowNumber\" style = \"font-weight: bold; text-align: right;\">18567</td><td style = \"text-align: left;\">16200</td><td style = \"text-align: left;\">55</td><td style = \"text-align: left;\">F</td><td style = \"text-align: left;\">B</td><td style = \"text-align: left;\">4</td><td style = \"text-align: left;\">92696</td><td style = \"text-align: left;\">  SINDROME DE SWEETH</td><td style = \"text-align: left;\">108</td><td style = \"text-align: left;\">PIEL ELIPTICA PARDA CLARA QUE MIDE 1X0,3CM SE DESTINA INTEGRO AL PROCESO </td></tr><tr><td class = \"rowNumber\" style = \"font-weight: bold; text-align: right;\">18568</td><td style = \"text-align: left;\">16201</td><td style = \"text-align: left;\">96</td><td style = \"text-align: left;\">M</td><td style = \"text-align: left;\">B</td><td style = \"text-align: left;\">4</td><td style = \"text-align: left;\">92696</td><td style = \"text-align: left;\">  CARCINOMA BASAL ULCERADO   </td><td style = \"text-align: left;\">108</td><td style = \"text-align: left;\">NULL</td></tr><tr><td class = \"rowNumber\" style = \"font-weight: bold; text-align: right;\">18569</td><td style = \"text-align: left;\">16202</td><td style = \"text-align: left;\">84</td><td style = \"text-align: left;\">F</td><td style = \"text-align: left;\">B</td><td style = \"text-align: left;\">4</td><td style = \"text-align: left;\">79810</td><td style = \"text-align: left;\">  NODULO DE MAMA DERECHA  </td><td style = \"text-align: left;\">201</td><td style = \"text-align: left;\">  NODULO DE MAMA DERECHA DE 5 X 4,5 X 2 CM BLANCO AMARILLENTO DURO ELASTICO , AL TACTO , AL CORTE SE OBSERVAN FORMACION BLANCA AMARILLENTA DE 3,5 X 2,5 CM DURA CON BORDES IRREGULARES QUE INFILTRA HASTA LA GRASA 4/1 CR </td></tr></tbody></table></div>"
      ],
      "text/latex": [
       "\\begin{tabular}{r|cccccccc}\n",
       "\t& IdBuiopsia & Edad & Sexo & Raza & IdTipoBiopsia & IdMedico & DiagnosticoMedico & \\\\\n",
       "\t\\hline\n",
       "\t& Any & Any & Any & Any & Any & Any & Any & \\\\\n",
       "\t\\hline\n",
       "\t1 & 2 & 58 & F & M & 4 & 181776 & Colectomia Izquierda y derecha de ovarios & $\\dots$ \\\\\n",
       "\t2 & 3 & 53 & F & B & 4 & 98295 &   Colectomia  & $\\dots$ \\\\\n",
       "\t3 & 4 & 27 & F & B & 1 & 2099 &   Descartar lesion intrapiterial de alto grado & $\\dots$ \\\\\n",
       "\t4 & 5 & 80 & F & B & 1 & 143217 & carepi  & $\\dots$ \\\\\n",
       "\t5 & 6 & 40 & F & M & 4 & 181776 & Miomas uterinos & $\\dots$ \\\\\n",
       "\t6 & 7 & 23 & F & B & 4 & 181719 &   Embarazo ectopico izkierdo & $\\dots$ \\\\\n",
       "\t7 & 8 & 24 & M & N & 1 & 143221 &   Papiloma paladar duro     & $\\dots$ \\\\\n",
       "\t8 & 9 & 47 & F & B & 1 & 12126 & descartar VAING & $\\dots$ \\\\\n",
       "\t9 & 10 & 50 & F & B & 1 & 143217 & Cancinoma epidermoide  Carcinoma basal & $\\dots$ \\\\\n",
       "\t10 & 11 & 58 & F & B & 1 & 12126 &   Descartar LIEAG & $\\dots$ \\\\\n",
       "\t11 & 12 & 58 & F & B & 2 & 122490 & medula osea en estudio  & $\\dots$ \\\\\n",
       "\t12 & 13 & 49 & F & B & 5 & 12126 &   Lesion Intrapiterial de alto Grado & $\\dots$ \\\\\n",
       "\t13 & 14 & 67 & M & B & 4 & 74112 &    biopsia de medula osea en estudio  & $\\dots$ \\\\\n",
       "\t14 & 15 & 30 & F & B & 5 & 12126 & citologia alterada en estudio  & $\\dots$ \\\\\n",
       "\t15 & 16 & 73 & M & B & 1 & 42469 &   Neoplasia de estomago   & $\\dots$ \\\\\n",
       "\t16 & 17 & 39 & M & B & 1 & 143090 & BUSCAR SIGNOS DE MALIGNIDAD Y CAMBIOS CITOTOXICOS POR HPV & $\\dots$ \\\\\n",
       "\t17 & 18 & 53 & M & B & 4 & 101668 &   Cefalea en estudio  & $\\dots$ \\\\\n",
       "\t18 & 19 & 68 & M & B & 4 & 49920 &   CANCINOMA BASAL EN MEJILLA DERECHA EN ESTUDIO & $\\dots$ \\\\\n",
       "\t19 & 20 & 45 & M & B & 4 & 41031 &   litiasis vesicular  & $\\dots$ \\\\\n",
       "\t20 & 21 & 40 & F & B & 1 & 49950 & CARCINOMA EPIDERMOIDE   CARCINOMA BASAL  EN ESTUDIO & $\\dots$ \\\\\n",
       "\t21 & 22 & 91 & M & B & 4 & 181460 &   APENDISECTOMIA & $\\dots$ \\\\\n",
       "\t22 & 23 & 64 & M & B & 1 & 32977 & CANCINOMA BASAL PIGMENTADO & $\\dots$ \\\\\n",
       "\t23 & 24 & 52 & F & B & 1 & 198122 & PAPILA ANAL HIPERTROFICA  & $\\dots$ \\\\\n",
       "\t24 & 25 & 43 & F & B & 4 & 85010 & PANCRIATITIS SECUNDARIA A ABCESO EXPLERICO          & $\\dots$ \\\\\n",
       "\t25 & 26 & 52 & M & B & 1 & 94738 & CARCINOMA BASAL & $\\dots$ \\\\\n",
       "\t26 & 27 & 44 & F & B & 4 & 41031 & LITIASIS VESICULAR    & $\\dots$ \\\\\n",
       "\t27 & 28 & 43 & M & B & 4 & 78084 & FTO DE TUMOR DEL BASO     & $\\dots$ \\\\\n",
       "\t28 & 29 & 43 & F & B & 4 & 41031 & LITIASIS VESICULAR  & $\\dots$ \\\\\n",
       "\t29 & 30 & 71 & F & B & 1 & 113171 & CARCINOMA BASAL  & $\\dots$ \\\\\n",
       "\t30 & 31 & 69 & M & B & 4 & 21946 & ADENOCARCINOMSA & $\\dots$ \\\\\n",
       "\t$\\dots$ & $\\dots$ & $\\dots$ & $\\dots$ & $\\dots$ & $\\dots$ & $\\dots$ & $\\dots$ &  \\\\\n",
       "\\end{tabular}\n"
      ],
      "text/plain": [
       "\u001b[1m18569×9 DataFrame\u001b[0m\n",
       "\u001b[1m   Row \u001b[0m│\u001b[1m IdBuiopsia \u001b[0m\u001b[1m Edad \u001b[0m\u001b[1m Sexo \u001b[0m\u001b[1m Raza \u001b[0m\u001b[1m IdTipoBiopsia \u001b[0m\u001b[1m IdMedico \u001b[0m\u001b[1m DiagnosticoMed\u001b[0m ⋯\n",
       "       │\u001b[90m Any        \u001b[0m\u001b[90m Any  \u001b[0m\u001b[90m Any  \u001b[0m\u001b[90m Any  \u001b[0m\u001b[90m Any           \u001b[0m\u001b[90m Any      \u001b[0m\u001b[90m Any           \u001b[0m ⋯\n",
       "───────┼────────────────────────────────────────────────────────────────────────\n",
       "     1 │ 2           58    F     M     4              181776    Colectomia Izq ⋯\n",
       "     2 │ 3           53    F     B     4              98295       Colectomia\n",
       "     3 │ 4           27    F     B     1              2099        Descartar le\n",
       "     4 │ 5           80    F     B     1              143217    carepi\n",
       "     5 │ 6           40    F     M     4              181776    Miomas uterino ⋯\n",
       "     6 │ 7           23    F     B     4              181719      Embarazo ect\n",
       "     7 │ 8           24    M     N     1              143221      Papiloma pal\n",
       "     8 │ 9           47    F     B     1              12126     descartar VAIN\n",
       "     9 │ 10          50    F     B     1              143217    Cancinoma epid ⋯\n",
       "    10 │ 11          58    F     B     1              12126       Descartar LI\n",
       "    11 │ 12          58    F     B     2              122490    medula osea en\n",
       "   ⋮   │     ⋮        ⋮     ⋮     ⋮          ⋮           ⋮                     ⋱\n",
       " 18560 │ 16193       26    F     N     4              65028       PAPILOMA\n",
       " 18561 │ 16194       74    F     B     4              65885       CARCINOMA BA ⋯\n",
       " 18562 │ 16195       74    F     B     4              65885       CARCINOMA BA\n",
       " 18563 │ 16196       55    F     B     4              54563       T CANAL ANAL\n",
       " 18564 │ 16197       65    F     B     4              65885       CARCINOMA BA\n",
       " 18565 │ 16198       60    F     B     4              94755       NEVUS MELANO ⋯\n",
       " 18566 │ 16199       86    M     B     4              92696       CARCINOMA BA\n",
       " 18567 │ 16200       55    F     B     4              92696       SINDROME DE\n",
       " 18568 │ 16201       96    M     B     4              92696       CARCINOMA BA\n",
       " 18569 │ 16202       84    F     B     4              79810       NODULO DE MA ⋯\n",
       "\u001b[36m                                                3 columns and 18548 rows omitted\u001b[0m"
      ]
     },
     "execution_count": 9,
     "metadata": {},
     "output_type": "execute_result"
    }
   ],
   "source": [
    "df=DataFrame(hoja_de_calculo)"
   ]
  },
  {
   "cell_type": "code",
   "execution_count": 10,
   "metadata": {},
   "outputs": [
    {
     "data": {
      "text/html": [
       "<div><div style = \"float: left;\"><span>9×7 DataFrame</span></div><div style = \"clear: both;\"></div></div><div class = \"data-frame\" style = \"overflow-x: scroll;\"><table class = \"data-frame\" style = \"margin-bottom: 6px;\"><thead><tr class = \"header\"><th class = \"rowNumber\" style = \"font-weight: bold; text-align: right;\">Row</th><th style = \"text-align: left;\">variable</th><th style = \"text-align: left;\">mean</th><th style = \"text-align: left;\">min</th><th style = \"text-align: left;\">median</th><th style = \"text-align: left;\">max</th><th style = \"text-align: left;\">nmissing</th><th style = \"text-align: left;\">eltype</th></tr><tr class = \"subheader headerLastRow\"><th class = \"rowNumber\" style = \"font-weight: bold; text-align: right;\"></th><th title = \"Symbol\" style = \"text-align: left;\">Symbol</th><th title = \"Union{Nothing, Float64}\" style = \"text-align: left;\">Union…</th><th title = \"Any\" style = \"text-align: left;\">Any</th><th title = \"Union{Nothing, Float64}\" style = \"text-align: left;\">Union…</th><th title = \"Any\" style = \"text-align: left;\">Any</th><th title = \"Int64\" style = \"text-align: left;\">Int64</th><th title = \"DataType\" style = \"text-align: left;\">DataType</th></tr></thead><tbody><tr><td class = \"rowNumber\" style = \"font-weight: bold; text-align: right;\">1</td><td style = \"text-align: left;\">IdBuiopsia</td><td style = \"text-align: left;\">9317.38</td><td style = \"text-align: left;\">2</td><td style = \"text-align: left;\">9321.0</td><td style = \"text-align: left;\">18625</td><td style = \"text-align: right;\">0</td><td style = \"text-align: left;\">Any</td></tr><tr><td class = \"rowNumber\" style = \"font-weight: bold; text-align: right;\">2</td><td style = \"text-align: left;\">Edad</td><td style = \"text-align: left;\">51.9306</td><td style = \"text-align: left;\">1</td><td style = \"text-align: left;\">53.0</td><td style = \"text-align: left;\">100</td><td style = \"text-align: right;\">0</td><td style = \"text-align: left;\">Any</td></tr><tr><td class = \"rowNumber\" style = \"font-weight: bold; text-align: right;\">3</td><td style = \"text-align: left;\">Sexo</td><td style = \"font-style: italic; text-align: left;\"></td><td style = \"text-align: left;\">F</td><td style = \"font-style: italic; text-align: left;\"></td><td style = \"text-align: left;\">M</td><td style = \"text-align: right;\">0</td><td style = \"text-align: left;\">Any</td></tr><tr><td class = \"rowNumber\" style = \"font-weight: bold; text-align: right;\">4</td><td style = \"text-align: left;\">Raza</td><td style = \"font-style: italic; text-align: left;\"></td><td style = \"text-align: left;\">A</td><td style = \"font-style: italic; text-align: left;\"></td><td style = \"text-align: left;\">N</td><td style = \"text-align: right;\">0</td><td style = \"text-align: left;\">Any</td></tr><tr><td class = \"rowNumber\" style = \"font-weight: bold; text-align: right;\">5</td><td style = \"text-align: left;\">IdTipoBiopsia</td><td style = \"text-align: left;\">2.95837</td><td style = \"text-align: left;\">1</td><td style = \"text-align: left;\">4.0</td><td style = \"text-align: left;\">5</td><td style = \"text-align: right;\">0</td><td style = \"text-align: left;\">Any</td></tr><tr><td class = \"rowNumber\" style = \"font-weight: bold; text-align: right;\">6</td><td style = \"text-align: left;\">IdMedico</td><td style = \"text-align: left;\">8.24729e5</td><td style = \"text-align: left;\">1493</td><td style = \"text-align: left;\">92696.0</td><td style = \"text-align: left;\">21003492</td><td style = \"text-align: right;\">0</td><td style = \"text-align: left;\">Any</td></tr><tr><td class = \"rowNumber\" style = \"font-weight: bold; text-align: right;\">7</td><td style = \"text-align: left;\">DiagnosticoMedico</td><td style = \"font-style: italic; text-align: left;\"></td><td style = \"text-align: left;\"> </td><td style = \"font-style: italic; text-align: left;\"></td><td style = \"text-align: left;\">vitiligo</td><td style = \"text-align: right;\">31</td><td style = \"text-align: left;\">Any</td></tr><tr><td class = \"rowNumber\" style = \"font-weight: bold; text-align: right;\">8</td><td style = \"text-align: left;\">IdEspecialidad</td><td style = \"text-align: left;\">354.802</td><td style = \"text-align: left;\">101</td><td style = \"text-align: left;\">203.0</td><td style = \"text-align: left;\">2003</td><td style = \"text-align: right;\">0</td><td style = \"text-align: left;\">Any</td></tr><tr><td class = \"rowNumber\" style = \"font-weight: bold; text-align: right;\">9</td><td style = \"text-align: left;\">DescripcionBiopsia</td><td style = \"font-style: italic; text-align: left;\"></td><td style = \"text-align: left;\">  </td><td style = \"font-style: italic; text-align: left;\"></td><td style = \"text-align: left;\">ÚTERO DE 4 X 2 X 3 , SEROSA PARDO CLARA LISA, BRILLANTE, EXOCERVIS BLANCO , MACERADO OCE ROSADO, CANAL PERMEABLE , A LOS CORTES PARDES FIBROSAS , CANAL DE 1 CM A LOS CORTES SERIADOS DE CUERPO Y FONDO DE CAVIDAD ENDOMETRIAL , ENDOMETRIO CENTRAL, MIOMETRIO T</td><td style = \"text-align: right;\">1</td><td style = \"text-align: left;\">Any</td></tr></tbody></table></div>"
      ],
      "text/latex": [
       "\\begin{tabular}{r|cccccc}\n",
       "\t& variable & mean & min & median & max & \\\\\n",
       "\t\\hline\n",
       "\t& Symbol & Union… & Any & Union… & Any & \\\\\n",
       "\t\\hline\n",
       "\t1 & IdBuiopsia & 9317.38 & 2 & 9321.0 & 18625 & $\\dots$ \\\\\n",
       "\t2 & Edad & 51.9306 & 1 & 53.0 & 100 & $\\dots$ \\\\\n",
       "\t3 & Sexo &  & F &  & M & $\\dots$ \\\\\n",
       "\t4 & Raza &  & A &  & N & $\\dots$ \\\\\n",
       "\t5 & IdTipoBiopsia & 2.95837 & 1 & 4.0 & 5 & $\\dots$ \\\\\n",
       "\t6 & IdMedico & 8.24729e5 & 1493 & 92696.0 & 21003492 & $\\dots$ \\\\\n",
       "\t7 & DiagnosticoMedico &  &   &  & vitiligo & $\\dots$ \\\\\n",
       "\t8 & IdEspecialidad & 354.802 & 101 & 203.0 & 2003 & $\\dots$ \\\\\n",
       "\t9 & DescripcionBiopsia &  &    &  & ÚTERO DE 4 X 2 X 3 , SEROSA PARDO CLARA LISA, BRILLANTE, EXOCERVIS BLANCO , MACERADO OCE ROSADO, CANAL PERMEABLE , A LOS CORTES PARDES FIBROSAS , CANAL DE 1 CM A LOS CORTES SERIADOS DE CUERPO Y FONDO DE CAVIDAD ENDOMETRIAL , ENDOMETRIO CENTRAL, MIOMETRIO T & $\\dots$ \\\\\n",
       "\\end{tabular}\n"
      ],
      "text/plain": [
       "\u001b[1m9×7 DataFrame\u001b[0m\n",
       "\u001b[1m Row \u001b[0m│\u001b[1m variable           \u001b[0m\u001b[1m mean      \u001b[0m\u001b[1m min  \u001b[0m\u001b[1m median  \u001b[0m\u001b[1m max                      \u001b[0m ⋯\n",
       "     │\u001b[90m Symbol             \u001b[0m\u001b[90m Union…    \u001b[0m\u001b[90m Any  \u001b[0m\u001b[90m Union…  \u001b[0m\u001b[90m Any                      \u001b[0m ⋯\n",
       "─────┼──────────────────────────────────────────────────────────────────────────\n",
       "   1 │ IdBuiopsia          9317.38    2     9321.0   18625                     ⋯\n",
       "   2 │ Edad                51.9306    1     53.0     100\n",
       "   3 │ Sexo               \u001b[90m           \u001b[0m F    \u001b[90m         \u001b[0m M\n",
       "   4 │ Raza               \u001b[90m           \u001b[0m A    \u001b[90m         \u001b[0m N\n",
       "   5 │ IdTipoBiopsia       2.95837    1     4.0      5                         ⋯\n",
       "   6 │ IdMedico            8.24729e5  1493  92696.0  21003492\n",
       "   7 │ DiagnosticoMedico  \u001b[90m           \u001b[0m      \u001b[90m         \u001b[0m vitiligo\n",
       "   8 │ IdEspecialidad      354.802    101   203.0    2003\n",
       "   9 │ DescripcionBiopsia \u001b[90m           \u001b[0m      \u001b[90m         \u001b[0m ÚTERO DE 4 X 2 X 3 , SERO ⋯\n",
       "\u001b[36m                                                               3 columns omitted\u001b[0m"
      ]
     },
     "execution_count": 10,
     "metadata": {},
     "output_type": "execute_result"
    }
   ],
   "source": [
    "describe(df)"
   ]
  },
  {
   "cell_type": "code",
   "execution_count": 11,
   "metadata": {},
   "outputs": [
    {
     "data": {
      "text/latex": [
       "\\subsection{Para cambiar el nombre de las columnas}\n"
      ],
      "text/markdown": [
       "## Para cambiar el nombre de las columnas\n"
      ],
      "text/plain": [
       "\u001b[1m  Para cambiar el nombre de las columnas\u001b[22m\n",
       "\u001b[1m  ========================================\u001b[22m"
      ]
     },
     "execution_count": 11,
     "metadata": {},
     "output_type": "execute_result"
    }
   ],
   "source": [
    "md\"## Para cambiar el nombre de las columnas\""
   ]
  },
  {
   "cell_type": "code",
   "execution_count": 12,
   "metadata": {},
   "outputs": [
    {
     "data": {
      "text/latex": [
       "Se usa el comando rename(DataFrame, :NombreViejo=>:NombreNuevo, ....)\n",
       "\n"
      ],
      "text/markdown": [
       "Se usa el comando rename(DataFrame, :NombreViejo=>:NombreNuevo, ....)\n"
      ],
      "text/plain": [
       "  Se usa el comando rename(DataFrame, :NombreViejo=>:NombreNuevo, ....)"
      ]
     },
     "execution_count": 12,
     "metadata": {},
     "output_type": "execute_result"
    }
   ],
   "source": [
    "md\" Se usa el comando rename(DataFrame, :NombreViejo=>:NombreNuevo, ....)\""
   ]
  },
  {
   "cell_type": "code",
   "execution_count": 13,
   "metadata": {},
   "outputs": [],
   "source": [
    "df_otro=rename(df,:Raza=>:ColordePiel,:IdTipoBiopsia=>:TipoBiopsia,:IdEspecialidad=>:Especialidad,:IdMedico=>:Medico);"
   ]
  },
  {
   "cell_type": "code",
   "execution_count": 14,
   "metadata": {},
   "outputs": [
    {
     "data": {
      "text/html": [
       "<div><div style = \"float: left;\"><span>9×7 DataFrame</span></div><div style = \"clear: both;\"></div></div><div class = \"data-frame\" style = \"overflow-x: scroll;\"><table class = \"data-frame\" style = \"margin-bottom: 6px;\"><thead><tr class = \"header\"><th class = \"rowNumber\" style = \"font-weight: bold; text-align: right;\">Row</th><th style = \"text-align: left;\">variable</th><th style = \"text-align: left;\">mean</th><th style = \"text-align: left;\">min</th><th style = \"text-align: left;\">median</th><th style = \"text-align: left;\">max</th><th style = \"text-align: left;\">nmissing</th><th style = \"text-align: left;\">eltype</th></tr><tr class = \"subheader headerLastRow\"><th class = \"rowNumber\" style = \"font-weight: bold; text-align: right;\"></th><th title = \"Symbol\" style = \"text-align: left;\">Symbol</th><th title = \"Union{Nothing, Float64}\" style = \"text-align: left;\">Union…</th><th title = \"Any\" style = \"text-align: left;\">Any</th><th title = \"Union{Nothing, Float64}\" style = \"text-align: left;\">Union…</th><th title = \"Any\" style = \"text-align: left;\">Any</th><th title = \"Int64\" style = \"text-align: left;\">Int64</th><th title = \"DataType\" style = \"text-align: left;\">DataType</th></tr></thead><tbody><tr><td class = \"rowNumber\" style = \"font-weight: bold; text-align: right;\">1</td><td style = \"text-align: left;\">IdBuiopsia</td><td style = \"text-align: left;\">9317.38</td><td style = \"text-align: left;\">2</td><td style = \"text-align: left;\">9321.0</td><td style = \"text-align: left;\">18625</td><td style = \"text-align: right;\">0</td><td style = \"text-align: left;\">Any</td></tr><tr><td class = \"rowNumber\" style = \"font-weight: bold; text-align: right;\">2</td><td style = \"text-align: left;\">Edad</td><td style = \"text-align: left;\">51.9306</td><td style = \"text-align: left;\">1</td><td style = \"text-align: left;\">53.0</td><td style = \"text-align: left;\">100</td><td style = \"text-align: right;\">0</td><td style = \"text-align: left;\">Any</td></tr><tr><td class = \"rowNumber\" style = \"font-weight: bold; text-align: right;\">3</td><td style = \"text-align: left;\">Sexo</td><td style = \"font-style: italic; text-align: left;\"></td><td style = \"text-align: left;\">F</td><td style = \"font-style: italic; text-align: left;\"></td><td style = \"text-align: left;\">M</td><td style = \"text-align: right;\">0</td><td style = \"text-align: left;\">Any</td></tr><tr><td class = \"rowNumber\" style = \"font-weight: bold; text-align: right;\">4</td><td style = \"text-align: left;\">ColordePiel</td><td style = \"font-style: italic; text-align: left;\"></td><td style = \"text-align: left;\">A</td><td style = \"font-style: italic; text-align: left;\"></td><td style = \"text-align: left;\">N</td><td style = \"text-align: right;\">0</td><td style = \"text-align: left;\">Any</td></tr><tr><td class = \"rowNumber\" style = \"font-weight: bold; text-align: right;\">5</td><td style = \"text-align: left;\">TipoBiopsia</td><td style = \"text-align: left;\">2.95837</td><td style = \"text-align: left;\">1</td><td style = \"text-align: left;\">4.0</td><td style = \"text-align: left;\">5</td><td style = \"text-align: right;\">0</td><td style = \"text-align: left;\">Any</td></tr><tr><td class = \"rowNumber\" style = \"font-weight: bold; text-align: right;\">6</td><td style = \"text-align: left;\">Medico</td><td style = \"text-align: left;\">8.24729e5</td><td style = \"text-align: left;\">1493</td><td style = \"text-align: left;\">92696.0</td><td style = \"text-align: left;\">21003492</td><td style = \"text-align: right;\">0</td><td style = \"text-align: left;\">Any</td></tr><tr><td class = \"rowNumber\" style = \"font-weight: bold; text-align: right;\">7</td><td style = \"text-align: left;\">DiagnosticoMedico</td><td style = \"font-style: italic; text-align: left;\"></td><td style = \"text-align: left;\"> </td><td style = \"font-style: italic; text-align: left;\"></td><td style = \"text-align: left;\">vitiligo</td><td style = \"text-align: right;\">31</td><td style = \"text-align: left;\">Any</td></tr><tr><td class = \"rowNumber\" style = \"font-weight: bold; text-align: right;\">8</td><td style = \"text-align: left;\">Especialidad</td><td style = \"text-align: left;\">354.802</td><td style = \"text-align: left;\">101</td><td style = \"text-align: left;\">203.0</td><td style = \"text-align: left;\">2003</td><td style = \"text-align: right;\">0</td><td style = \"text-align: left;\">Any</td></tr><tr><td class = \"rowNumber\" style = \"font-weight: bold; text-align: right;\">9</td><td style = \"text-align: left;\">DescripcionBiopsia</td><td style = \"font-style: italic; text-align: left;\"></td><td style = \"text-align: left;\">  </td><td style = \"font-style: italic; text-align: left;\"></td><td style = \"text-align: left;\">ÚTERO DE 4 X 2 X 3 , SEROSA PARDO CLARA LISA, BRILLANTE, EXOCERVIS BLANCO , MACERADO OCE ROSADO, CANAL PERMEABLE , A LOS CORTES PARDES FIBROSAS , CANAL DE 1 CM A LOS CORTES SERIADOS DE CUERPO Y FONDO DE CAVIDAD ENDOMETRIAL , ENDOMETRIO CENTRAL, MIOMETRIO T</td><td style = \"text-align: right;\">1</td><td style = \"text-align: left;\">Any</td></tr></tbody></table></div>"
      ],
      "text/latex": [
       "\\begin{tabular}{r|cccccc}\n",
       "\t& variable & mean & min & median & max & \\\\\n",
       "\t\\hline\n",
       "\t& Symbol & Union… & Any & Union… & Any & \\\\\n",
       "\t\\hline\n",
       "\t1 & IdBuiopsia & 9317.38 & 2 & 9321.0 & 18625 & $\\dots$ \\\\\n",
       "\t2 & Edad & 51.9306 & 1 & 53.0 & 100 & $\\dots$ \\\\\n",
       "\t3 & Sexo &  & F &  & M & $\\dots$ \\\\\n",
       "\t4 & ColordePiel &  & A &  & N & $\\dots$ \\\\\n",
       "\t5 & TipoBiopsia & 2.95837 & 1 & 4.0 & 5 & $\\dots$ \\\\\n",
       "\t6 & Medico & 8.24729e5 & 1493 & 92696.0 & 21003492 & $\\dots$ \\\\\n",
       "\t7 & DiagnosticoMedico &  &   &  & vitiligo & $\\dots$ \\\\\n",
       "\t8 & Especialidad & 354.802 & 101 & 203.0 & 2003 & $\\dots$ \\\\\n",
       "\t9 & DescripcionBiopsia &  &    &  & ÚTERO DE 4 X 2 X 3 , SEROSA PARDO CLARA LISA, BRILLANTE, EXOCERVIS BLANCO , MACERADO OCE ROSADO, CANAL PERMEABLE , A LOS CORTES PARDES FIBROSAS , CANAL DE 1 CM A LOS CORTES SERIADOS DE CUERPO Y FONDO DE CAVIDAD ENDOMETRIAL , ENDOMETRIO CENTRAL, MIOMETRIO T & $\\dots$ \\\\\n",
       "\\end{tabular}\n"
      ],
      "text/plain": [
       "\u001b[1m9×7 DataFrame\u001b[0m\n",
       "\u001b[1m Row \u001b[0m│\u001b[1m variable           \u001b[0m\u001b[1m mean      \u001b[0m\u001b[1m min  \u001b[0m\u001b[1m median  \u001b[0m\u001b[1m max                      \u001b[0m ⋯\n",
       "     │\u001b[90m Symbol             \u001b[0m\u001b[90m Union…    \u001b[0m\u001b[90m Any  \u001b[0m\u001b[90m Union…  \u001b[0m\u001b[90m Any                      \u001b[0m ⋯\n",
       "─────┼──────────────────────────────────────────────────────────────────────────\n",
       "   1 │ IdBuiopsia          9317.38    2     9321.0   18625                     ⋯\n",
       "   2 │ Edad                51.9306    1     53.0     100\n",
       "   3 │ Sexo               \u001b[90m           \u001b[0m F    \u001b[90m         \u001b[0m M\n",
       "   4 │ ColordePiel        \u001b[90m           \u001b[0m A    \u001b[90m         \u001b[0m N\n",
       "   5 │ TipoBiopsia         2.95837    1     4.0      5                         ⋯\n",
       "   6 │ Medico              8.24729e5  1493  92696.0  21003492\n",
       "   7 │ DiagnosticoMedico  \u001b[90m           \u001b[0m      \u001b[90m         \u001b[0m vitiligo\n",
       "   8 │ Especialidad        354.802    101   203.0    2003\n",
       "   9 │ DescripcionBiopsia \u001b[90m           \u001b[0m      \u001b[90m         \u001b[0m ÚTERO DE 4 X 2 X 3 , SERO ⋯\n",
       "\u001b[36m                                                               3 columns omitted\u001b[0m"
      ]
     },
     "execution_count": 14,
     "metadata": {},
     "output_type": "execute_result"
    }
   ],
   "source": [
    "describe(df_otro)"
   ]
  },
  {
   "cell_type": "code",
   "execution_count": 15,
   "metadata": {},
   "outputs": [],
   "source": [
    "#edades=df.Edad"
   ]
  },
  {
   "cell_type": "code",
   "execution_count": 16,
   "metadata": {},
   "outputs": [],
   "source": [
    "#media_edades=mean(df_otro.Edad)"
   ]
  },
  {
   "cell_type": "code",
   "execution_count": 17,
   "metadata": {},
   "outputs": [],
   "source": [
    "#mediana_edades = median(df_otro.Edad)"
   ]
  },
  {
   "cell_type": "code",
   "execution_count": 18,
   "metadata": {},
   "outputs": [
    {
     "data": {
      "text/plain": [
       "56"
      ]
     },
     "execution_count": 18,
     "metadata": {},
     "output_type": "execute_result"
    }
   ],
   "source": [
    "moda_edades=mode(df_otro.Edad)"
   ]
  },
  {
   "cell_type": "code",
   "execution_count": 19,
   "metadata": {},
   "outputs": [
    {
     "data": {
      "text/plain": [
       "0:10:100"
      ]
     },
     "execution_count": 19,
     "metadata": {},
     "output_type": "execute_result"
    }
   ],
   "source": [
    "intervalos_edad = 0:10:100"
   ]
  },
  {
   "cell_type": "code",
   "execution_count": 20,
   "metadata": {},
   "outputs": [
    {
     "data": {
      "text/plain": [
       "Histogram{Int64, 1, Tuple{StepRange{Int64, Int64}}}\n",
       "edges:\n",
       "  0:10:100\n",
       "weights: [3, 618, 2106, 2424, 2801, 4037, 2931, 2448, 1042, 156]\n",
       "closed: left\n",
       "isdensity: false"
      ]
     },
     "execution_count": 20,
     "metadata": {},
     "output_type": "execute_result"
    }
   ],
   "source": [
    "frecuencia_biopsias = fit(Histogram, df_otro.Edad, intervalos_edad)"
   ]
  },
  {
   "cell_type": "code",
   "execution_count": 21,
   "metadata": {},
   "outputs": [
    {
     "data": {
      "text/html": [
       "<div><div style = \"float: left;\"><span>2×2 DataFrame</span></div><div style = \"clear: both;\"></div></div><div class = \"data-frame\" style = \"overflow-x: scroll;\"><table class = \"data-frame\" style = \"margin-bottom: 6px;\"><thead><tr class = \"header\"><th class = \"rowNumber\" style = \"font-weight: bold; text-align: right;\">Row</th><th style = \"text-align: left;\">Sexo</th><th style = \"text-align: left;\">Edad_mean</th></tr><tr class = \"subheader headerLastRow\"><th class = \"rowNumber\" style = \"font-weight: bold; text-align: right;\"></th><th title = \"Any\" style = \"text-align: left;\">Any</th><th title = \"Float64\" style = \"text-align: left;\">Float64</th></tr></thead><tbody><tr><td class = \"rowNumber\" style = \"font-weight: bold; text-align: right;\">1</td><td style = \"text-align: left;\">F</td><td style = \"text-align: right;\">48.6926</td></tr><tr><td class = \"rowNumber\" style = \"font-weight: bold; text-align: right;\">2</td><td style = \"text-align: left;\">M</td><td style = \"text-align: right;\">57.9513</td></tr></tbody></table></div>"
      ],
      "text/latex": [
       "\\begin{tabular}{r|cc}\n",
       "\t& Sexo & Edad\\_mean\\\\\n",
       "\t\\hline\n",
       "\t& Any & Float64\\\\\n",
       "\t\\hline\n",
       "\t1 & F & 48.6926 \\\\\n",
       "\t2 & M & 57.9513 \\\\\n",
       "\\end{tabular}\n"
      ],
      "text/plain": [
       "\u001b[1m2×2 DataFrame\u001b[0m\n",
       "\u001b[1m Row \u001b[0m│\u001b[1m Sexo \u001b[0m\u001b[1m Edad_mean \u001b[0m\n",
       "     │\u001b[90m Any  \u001b[0m\u001b[90m Float64   \u001b[0m\n",
       "─────┼─────────────────\n",
       "   1 │ F       48.6926\n",
       "   2 │ M       57.9513"
      ]
     },
     "execution_count": 21,
     "metadata": {},
     "output_type": "execute_result"
    }
   ],
   "source": [
    "resultadosSexoEdad = combine(groupby(df_otro, :Sexo), :Edad => mean)"
   ]
  },
  {
   "cell_type": "code",
   "execution_count": 22,
   "metadata": {},
   "outputs": [
    {
     "name": "stdout",
     "output_type": "stream",
     "text": [
      "\u001b[1m2×2 DataFrame\u001b[0m\n",
      "\u001b[1m Row \u001b[0m│\u001b[1m Sexo \u001b[0m\u001b[1m Edad_mean \u001b[0m\n",
      "     │\u001b[90m Any  \u001b[0m\u001b[90m Float64   \u001b[0m\n",
      "─────┼─────────────────\n",
      "   1 │ F       48.6926\n",
      "   2 │ M       57.9513\n"
     ]
    }
   ],
   "source": [
    "println(resultadosSexoEdad)"
   ]
  },
  {
   "cell_type": "code",
   "execution_count": 23,
   "metadata": {},
   "outputs": [
    {
     "data": {
      "text/html": [
       "<div><div style = \"float: left;\"><span>4×2 DataFrame</span></div><div style = \"clear: both;\"></div></div><div class = \"data-frame\" style = \"overflow-x: scroll;\"><table class = \"data-frame\" style = \"margin-bottom: 6px;\"><thead><tr class = \"header\"><th class = \"rowNumber\" style = \"font-weight: bold; text-align: right;\">Row</th><th style = \"text-align: left;\">ColordePiel</th><th style = \"text-align: left;\">Edad_mean</th></tr><tr class = \"subheader headerLastRow\"><th class = \"rowNumber\" style = \"font-weight: bold; text-align: right;\"></th><th title = \"Any\" style = \"text-align: left;\">Any</th><th title = \"Float64\" style = \"text-align: left;\">Float64</th></tr></thead><tbody><tr><td class = \"rowNumber\" style = \"font-weight: bold; text-align: right;\">1</td><td style = \"text-align: left;\">M</td><td style = \"text-align: right;\">45.564</td></tr><tr><td class = \"rowNumber\" style = \"font-weight: bold; text-align: right;\">2</td><td style = \"text-align: left;\">B</td><td style = \"text-align: right;\">52.652</td></tr><tr><td class = \"rowNumber\" style = \"font-weight: bold; text-align: right;\">3</td><td style = \"text-align: left;\">N</td><td style = \"text-align: right;\">50.0849</td></tr><tr><td class = \"rowNumber\" style = \"font-weight: bold; text-align: right;\">4</td><td style = \"text-align: left;\">A</td><td style = \"text-align: right;\">45.7812</td></tr></tbody></table></div>"
      ],
      "text/latex": [
       "\\begin{tabular}{r|cc}\n",
       "\t& ColordePiel & Edad\\_mean\\\\\n",
       "\t\\hline\n",
       "\t& Any & Float64\\\\\n",
       "\t\\hline\n",
       "\t1 & M & 45.564 \\\\\n",
       "\t2 & B & 52.652 \\\\\n",
       "\t3 & N & 50.0849 \\\\\n",
       "\t4 & A & 45.7812 \\\\\n",
       "\\end{tabular}\n"
      ],
      "text/plain": [
       "\u001b[1m4×2 DataFrame\u001b[0m\n",
       "\u001b[1m Row \u001b[0m│\u001b[1m ColordePiel \u001b[0m\u001b[1m Edad_mean \u001b[0m\n",
       "     │\u001b[90m Any         \u001b[0m\u001b[90m Float64   \u001b[0m\n",
       "─────┼────────────────────────\n",
       "   1 │ M              45.564\n",
       "   2 │ B              52.652\n",
       "   3 │ N              50.0849\n",
       "   4 │ A              45.7812"
      ]
     },
     "execution_count": 23,
     "metadata": {},
     "output_type": "execute_result"
    }
   ],
   "source": [
    "resultadosRazaEdad = combine(groupby(df_otro, :ColordePiel), :Edad => mean)"
   ]
  },
  {
   "cell_type": "code",
   "execution_count": 24,
   "metadata": {},
   "outputs": [
    {
     "data": {
      "text/html": [
       "<div><div style = \"float: left;\"><span>9×7 DataFrame</span></div><div style = \"clear: both;\"></div></div><div class = \"data-frame\" style = \"overflow-x: scroll;\"><table class = \"data-frame\" style = \"margin-bottom: 6px;\"><thead><tr class = \"header\"><th class = \"rowNumber\" style = \"font-weight: bold; text-align: right;\">Row</th><th style = \"text-align: left;\">variable</th><th style = \"text-align: left;\">mean</th><th style = \"text-align: left;\">min</th><th style = \"text-align: left;\">median</th><th style = \"text-align: left;\">max</th><th style = \"text-align: left;\">nmissing</th><th style = \"text-align: left;\">eltype</th></tr><tr class = \"subheader headerLastRow\"><th class = \"rowNumber\" style = \"font-weight: bold; text-align: right;\"></th><th title = \"Symbol\" style = \"text-align: left;\">Symbol</th><th title = \"Union{Nothing, Float64}\" style = \"text-align: left;\">Union…</th><th title = \"Any\" style = \"text-align: left;\">Any</th><th title = \"Union{Nothing, Float64}\" style = \"text-align: left;\">Union…</th><th title = \"Any\" style = \"text-align: left;\">Any</th><th title = \"Int64\" style = \"text-align: left;\">Int64</th><th title = \"DataType\" style = \"text-align: left;\">DataType</th></tr></thead><tbody><tr><td class = \"rowNumber\" style = \"font-weight: bold; text-align: right;\">1</td><td style = \"text-align: left;\">IdBuiopsia</td><td style = \"text-align: left;\">9317.38</td><td style = \"text-align: left;\">2</td><td style = \"text-align: left;\">9321.0</td><td style = \"text-align: left;\">18625</td><td style = \"text-align: right;\">0</td><td style = \"text-align: left;\">Any</td></tr><tr><td class = \"rowNumber\" style = \"font-weight: bold; text-align: right;\">2</td><td style = \"text-align: left;\">Edad</td><td style = \"text-align: left;\">51.9306</td><td style = \"text-align: left;\">1</td><td style = \"text-align: left;\">53.0</td><td style = \"text-align: left;\">100</td><td style = \"text-align: right;\">0</td><td style = \"text-align: left;\">Any</td></tr><tr><td class = \"rowNumber\" style = \"font-weight: bold; text-align: right;\">3</td><td style = \"text-align: left;\">Sexo</td><td style = \"font-style: italic; text-align: left;\"></td><td style = \"text-align: left;\">F</td><td style = \"font-style: italic; text-align: left;\"></td><td style = \"text-align: left;\">M</td><td style = \"text-align: right;\">0</td><td style = \"text-align: left;\">Any</td></tr><tr><td class = \"rowNumber\" style = \"font-weight: bold; text-align: right;\">4</td><td style = \"text-align: left;\">ColordePiel</td><td style = \"font-style: italic; text-align: left;\"></td><td style = \"text-align: left;\">A</td><td style = \"font-style: italic; text-align: left;\"></td><td style = \"text-align: left;\">N</td><td style = \"text-align: right;\">0</td><td style = \"text-align: left;\">Any</td></tr><tr><td class = \"rowNumber\" style = \"font-weight: bold; text-align: right;\">5</td><td style = \"text-align: left;\">TipoBiopsia</td><td style = \"text-align: left;\">2.95837</td><td style = \"text-align: left;\">1</td><td style = \"text-align: left;\">4.0</td><td style = \"text-align: left;\">5</td><td style = \"text-align: right;\">0</td><td style = \"text-align: left;\">Any</td></tr><tr><td class = \"rowNumber\" style = \"font-weight: bold; text-align: right;\">6</td><td style = \"text-align: left;\">Medico</td><td style = \"text-align: left;\">8.24729e5</td><td style = \"text-align: left;\">1493</td><td style = \"text-align: left;\">92696.0</td><td style = \"text-align: left;\">21003492</td><td style = \"text-align: right;\">0</td><td style = \"text-align: left;\">Any</td></tr><tr><td class = \"rowNumber\" style = \"font-weight: bold; text-align: right;\">7</td><td style = \"text-align: left;\">DiagnosticoMedico</td><td style = \"font-style: italic; text-align: left;\"></td><td style = \"text-align: left;\"> </td><td style = \"font-style: italic; text-align: left;\"></td><td style = \"text-align: left;\">vitiligo</td><td style = \"text-align: right;\">31</td><td style = \"text-align: left;\">Any</td></tr><tr><td class = \"rowNumber\" style = \"font-weight: bold; text-align: right;\">8</td><td style = \"text-align: left;\">Especialidad</td><td style = \"text-align: left;\">354.802</td><td style = \"text-align: left;\">101</td><td style = \"text-align: left;\">203.0</td><td style = \"text-align: left;\">2003</td><td style = \"text-align: right;\">0</td><td style = \"text-align: left;\">Any</td></tr><tr><td class = \"rowNumber\" style = \"font-weight: bold; text-align: right;\">9</td><td style = \"text-align: left;\">DescripcionBiopsia</td><td style = \"font-style: italic; text-align: left;\"></td><td style = \"text-align: left;\">  </td><td style = \"font-style: italic; text-align: left;\"></td><td style = \"text-align: left;\">ÚTERO DE 4 X 2 X 3 , SEROSA PARDO CLARA LISA, BRILLANTE, EXOCERVIS BLANCO , MACERADO OCE ROSADO, CANAL PERMEABLE , A LOS CORTES PARDES FIBROSAS , CANAL DE 1 CM A LOS CORTES SERIADOS DE CUERPO Y FONDO DE CAVIDAD ENDOMETRIAL , ENDOMETRIO CENTRAL, MIOMETRIO T</td><td style = \"text-align: right;\">1</td><td style = \"text-align: left;\">Any</td></tr></tbody></table></div>"
      ],
      "text/latex": [
       "\\begin{tabular}{r|cccccc}\n",
       "\t& variable & mean & min & median & max & \\\\\n",
       "\t\\hline\n",
       "\t& Symbol & Union… & Any & Union… & Any & \\\\\n",
       "\t\\hline\n",
       "\t1 & IdBuiopsia & 9317.38 & 2 & 9321.0 & 18625 & $\\dots$ \\\\\n",
       "\t2 & Edad & 51.9306 & 1 & 53.0 & 100 & $\\dots$ \\\\\n",
       "\t3 & Sexo &  & F &  & M & $\\dots$ \\\\\n",
       "\t4 & ColordePiel &  & A &  & N & $\\dots$ \\\\\n",
       "\t5 & TipoBiopsia & 2.95837 & 1 & 4.0 & 5 & $\\dots$ \\\\\n",
       "\t6 & Medico & 8.24729e5 & 1493 & 92696.0 & 21003492 & $\\dots$ \\\\\n",
       "\t7 & DiagnosticoMedico &  &   &  & vitiligo & $\\dots$ \\\\\n",
       "\t8 & Especialidad & 354.802 & 101 & 203.0 & 2003 & $\\dots$ \\\\\n",
       "\t9 & DescripcionBiopsia &  &    &  & ÚTERO DE 4 X 2 X 3 , SEROSA PARDO CLARA LISA, BRILLANTE, EXOCERVIS BLANCO , MACERADO OCE ROSADO, CANAL PERMEABLE , A LOS CORTES PARDES FIBROSAS , CANAL DE 1 CM A LOS CORTES SERIADOS DE CUERPO Y FONDO DE CAVIDAD ENDOMETRIAL , ENDOMETRIO CENTRAL, MIOMETRIO T & $\\dots$ \\\\\n",
       "\\end{tabular}\n"
      ],
      "text/plain": [
       "\u001b[1m9×7 DataFrame\u001b[0m\n",
       "\u001b[1m Row \u001b[0m│\u001b[1m variable           \u001b[0m\u001b[1m mean      \u001b[0m\u001b[1m min  \u001b[0m\u001b[1m median  \u001b[0m\u001b[1m max                      \u001b[0m ⋯\n",
       "     │\u001b[90m Symbol             \u001b[0m\u001b[90m Union…    \u001b[0m\u001b[90m Any  \u001b[0m\u001b[90m Union…  \u001b[0m\u001b[90m Any                      \u001b[0m ⋯\n",
       "─────┼──────────────────────────────────────────────────────────────────────────\n",
       "   1 │ IdBuiopsia          9317.38    2     9321.0   18625                     ⋯\n",
       "   2 │ Edad                51.9306    1     53.0     100\n",
       "   3 │ Sexo               \u001b[90m           \u001b[0m F    \u001b[90m         \u001b[0m M\n",
       "   4 │ ColordePiel        \u001b[90m           \u001b[0m A    \u001b[90m         \u001b[0m N\n",
       "   5 │ TipoBiopsia         2.95837    1     4.0      5                         ⋯\n",
       "   6 │ Medico              8.24729e5  1493  92696.0  21003492\n",
       "   7 │ DiagnosticoMedico  \u001b[90m           \u001b[0m      \u001b[90m         \u001b[0m vitiligo\n",
       "   8 │ Especialidad        354.802    101   203.0    2003\n",
       "   9 │ DescripcionBiopsia \u001b[90m           \u001b[0m      \u001b[90m         \u001b[0m ÚTERO DE 4 X 2 X 3 , SERO ⋯\n",
       "\u001b[36m                                                               3 columns omitted\u001b[0m"
      ]
     },
     "execution_count": 24,
     "metadata": {},
     "output_type": "execute_result"
    }
   ],
   "source": [
    "describe(df_otro)"
   ]
  },
  {
   "cell_type": "code",
   "execution_count": 25,
   "metadata": {},
   "outputs": [
    {
     "name": "stdout",
     "output_type": "stream",
     "text": [
      "\u001b[1m4×2 DataFrame\u001b[0m\n",
      "\u001b[1m Row \u001b[0m│\u001b[1m ColordePiel \u001b[0m\u001b[1m Edad_mean \u001b[0m\n",
      "     │\u001b[90m Any         \u001b[0m\u001b[90m Float64   \u001b[0m\n",
      "─────┼────────────────────────\n",
      "   1 │ M              45.564\n",
      "   2 │ B              52.652\n",
      "   3 │ N              50.0849\n",
      "   4 │ A              45.7812\n"
     ]
    }
   ],
   "source": [
    "println(resultadosRazaEdad)"
   ]
  },
  {
   "cell_type": "code",
   "execution_count": 26,
   "metadata": {},
   "outputs": [],
   "source": [
    "#ruta = \"/ruta/al/archivo/datos.xlsx\"\n",
    "#hoja_de_calculo = XLSX.readtable(ruta, \"nombre_de_la_hoja\") # \"nombre_de_la_hoja\" es #el nombre de la hoja de cálculo\n",
    "#df = DataFrame(hoja_de_calculo)\n",
    "\n"
   ]
  },
  {
   "cell_type": "code",
   "execution_count": 27,
   "metadata": {},
   "outputs": [],
   "source": [
    "#ruta = \"/ruta/al/archivo/datos.xlsx\"\n",
    "#hoja_de_calculo = XLSX.readtable(ruta, \"nombre_de_la_hoja\") # \"nombre_de_la_hoja\" es el nombre de la hoja de cálculo\n",
    "#df = convert(DataFrame, hoja_de_calculo)"
   ]
  },
  {
   "cell_type": "code",
   "execution_count": 28,
   "metadata": {},
   "outputs": [],
   "source": [
    "#histogram(edades, bins = intervalos_edad, xlabel = \"Edad\", ylabel = \"Frecuencia\", #title = \"Frecuencia de biopsias por edad\")"
   ]
  },
  {
   "cell_type": "code",
   "execution_count": 29,
   "metadata": {},
   "outputs": [
    {
     "data": {
      "image/svg+xml": "<?xml version=\"1.0\" encoding=\"utf-8\"?>\n<svg xmlns=\"http://www.w3.org/2000/svg\" xmlns:xlink=\"http://www.w3.org/1999/xlink\" width=\"150\" height=\"100\" viewBox=\"0 0 600 400\">\n<defs>\n  <clipPath id=\"clip120\">\n    <rect x=\"0\" y=\"0\" width=\"600\" height=\"400\"/>\n  </clipPath>\n</defs>\n<path clip-path=\"url(#clip120)\" d=\"\nM0 400 L600 400 L600 0 L0 0  Z\n  \" fill=\"#ffffff\" fill-rule=\"evenodd\" fill-opacity=\"1\"/>\n<defs>\n  <clipPath id=\"clip121\">\n    <rect x=\"120\" y=\"0\" width=\"421\" height=\"400\"/>\n  </clipPath>\n</defs>\n<path clip-path=\"url(#clip120)\" d=\"\nM64.1216 355.795 L588.189 355.795 L588.189 30.868 L64.1216 30.868  Z\n  \" fill=\"#ffffff\" fill-rule=\"evenodd\" fill-opacity=\"1\"/>\n<defs>\n  <clipPath id=\"clip122\">\n    <rect x=\"64\" y=\"30\" width=\"525\" height=\"326\"/>\n  </clipPath>\n</defs>\n<polyline clip-path=\"url(#clip122)\" style=\"stroke:#000000; stroke-width:0.5; stroke-opacity:0.1; fill:none\" points=\"\n  92.9462,355.795 92.9462,30.868 \n  \"/>\n<polyline clip-path=\"url(#clip122)\" style=\"stroke:#000000; stroke-width:0.5; stroke-opacity:0.1; fill:none\" points=\"\n  209.551,355.795 209.551,30.868 \n  \"/>\n<polyline clip-path=\"url(#clip122)\" style=\"stroke:#000000; stroke-width:0.5; stroke-opacity:0.1; fill:none\" points=\"\n  326.155,355.795 326.155,30.868 \n  \"/>\n<polyline clip-path=\"url(#clip122)\" style=\"stroke:#000000; stroke-width:0.5; stroke-opacity:0.1; fill:none\" points=\"\n  442.76,355.795 442.76,30.868 \n  \"/>\n<polyline clip-path=\"url(#clip122)\" style=\"stroke:#000000; stroke-width:0.5; stroke-opacity:0.1; fill:none\" points=\"\n  559.364,355.795 559.364,30.868 \n  \"/>\n<polyline clip-path=\"url(#clip120)\" style=\"stroke:#000000; stroke-width:1; stroke-opacity:1; fill:none\" points=\"\n  64.1216,355.795 588.189,355.795 \n  \"/>\n<polyline clip-path=\"url(#clip120)\" style=\"stroke:#000000; stroke-width:1; stroke-opacity:1; fill:none\" points=\"\n  92.9462,355.795 92.9462,351.896 \n  \"/>\n<polyline clip-path=\"url(#clip120)\" style=\"stroke:#000000; stroke-width:1; stroke-opacity:1; fill:none\" points=\"\n  209.551,355.795 209.551,351.896 \n  \"/>\n<polyline clip-path=\"url(#clip120)\" style=\"stroke:#000000; stroke-width:1; stroke-opacity:1; fill:none\" points=\"\n  326.155,355.795 326.155,351.896 \n  \"/>\n<polyline clip-path=\"url(#clip120)\" style=\"stroke:#000000; stroke-width:1; stroke-opacity:1; fill:none\" points=\"\n  442.76,355.795 442.76,351.896 \n  \"/>\n<polyline clip-path=\"url(#clip120)\" style=\"stroke:#000000; stroke-width:1; stroke-opacity:1; fill:none\" points=\"\n  559.364,355.795 559.364,351.896 \n  \"/>\n<path clip-path=\"url(#clip120)\" d=\"M 0 0 M92.9462 363.093 Q92.0435 363.093 91.5863 363.984 Q91.1349 364.869 91.1349 366.652 Q91.1349 368.428 91.5863 369.319 Q92.0435 370.205 92.9462 370.205 Q93.8548 370.205 94.3062 369.319 Q94.7634 368.428 94.7634 366.652 Q94.7634 364.869 94.3062 363.984 Q93.8548 363.093 92.9462 363.093 M92.9462 362.167 Q94.3988 362.167 95.1627 363.318 Q95.9323 364.464 95.9323 366.652 Q95.9323 368.833 95.1627 369.985 Q94.3988 371.131 92.9462 371.131 Q91.4937 371.131 90.724 369.985 Q89.9602 368.833 89.9602 366.652 Q89.9602 364.464 90.724 363.318 Q91.4937 362.167 92.9462 362.167 Z\" fill=\"#000000\" fill-rule=\"evenodd\" fill-opacity=\"1\" /><path clip-path=\"url(#clip120)\" d=\"M 0 0 M204.962 369.979 L209.042 369.979 L209.042 370.963 L203.555 370.963 L203.555 369.979 Q204.221 369.291 205.367 368.133 Q206.518 366.97 206.814 366.634 Q207.375 366.003 207.595 365.569 Q207.82 365.13 207.82 364.707 Q207.82 364.019 207.334 363.585 Q206.854 363.151 206.079 363.151 Q205.529 363.151 204.915 363.341 Q204.308 363.532 203.613 363.92 L203.613 362.74 Q204.319 362.456 204.933 362.311 Q205.546 362.167 206.055 362.167 Q207.398 362.167 208.197 362.838 Q208.995 363.509 208.995 364.632 Q208.995 365.164 208.793 365.645 Q208.596 366.119 208.069 366.767 Q207.925 366.935 207.149 367.74 Q206.374 368.538 204.962 369.979 Z\" fill=\"#000000\" fill-rule=\"evenodd\" fill-opacity=\"1\" /><path clip-path=\"url(#clip120)\" d=\"M 0 0 M210.32 362.323 L214.91 362.323 L214.91 363.307 L211.391 363.307 L211.391 365.425 Q211.646 365.338 211.9 365.297 Q212.155 365.251 212.41 365.251 Q213.856 365.251 214.701 366.044 Q215.546 366.837 215.546 368.191 Q215.546 369.586 214.678 370.361 Q213.81 371.131 212.23 371.131 Q211.686 371.131 211.119 371.038 Q210.558 370.946 209.956 370.76 L209.956 369.586 Q210.477 369.869 211.032 370.008 Q211.588 370.147 212.207 370.147 Q213.208 370.147 213.793 369.62 Q214.377 369.094 214.377 368.191 Q214.377 367.288 213.793 366.762 Q213.208 366.235 212.207 366.235 Q211.738 366.235 211.27 366.339 Q210.807 366.443 210.32 366.663 L210.32 362.323 Z\" fill=\"#000000\" fill-rule=\"evenodd\" fill-opacity=\"1\" /><path clip-path=\"url(#clip120)\" d=\"M 0 0 M320.348 362.323 L324.937 362.323 L324.937 363.307 L321.419 363.307 L321.419 365.425 Q321.673 365.338 321.928 365.297 Q322.183 365.251 322.437 365.251 Q323.884 365.251 324.729 366.044 Q325.574 366.837 325.574 368.191 Q325.574 369.586 324.706 370.361 Q323.838 371.131 322.258 371.131 Q321.714 371.131 321.147 371.038 Q320.585 370.946 319.983 370.76 L319.983 369.586 Q320.504 369.869 321.06 370.008 Q321.615 370.147 322.235 370.147 Q323.236 370.147 323.82 369.62 Q324.405 369.094 324.405 368.191 Q324.405 367.288 323.82 366.762 Q323.236 366.235 322.235 366.235 Q321.766 366.235 321.297 366.339 Q320.834 366.443 320.348 366.663 L320.348 362.323 Z\" fill=\"#000000\" fill-rule=\"evenodd\" fill-opacity=\"1\" /><path clip-path=\"url(#clip120)\" d=\"M 0 0 M329.341 363.093 Q328.438 363.093 327.981 363.984 Q327.53 364.869 327.53 366.652 Q327.53 368.428 327.981 369.319 Q328.438 370.205 329.341 370.205 Q330.25 370.205 330.701 369.319 Q331.158 368.428 331.158 366.652 Q331.158 364.869 330.701 363.984 Q330.25 363.093 329.341 363.093 M329.341 362.167 Q330.794 362.167 331.557 363.318 Q332.327 364.464 332.327 366.652 Q332.327 368.833 331.557 369.985 Q330.794 371.131 329.341 371.131 Q327.889 371.131 327.119 369.985 Q326.355 368.833 326.355 366.652 Q326.355 364.464 327.119 363.318 Q327.889 362.167 329.341 362.167 Z\" fill=\"#000000\" fill-rule=\"evenodd\" fill-opacity=\"1\" /><path clip-path=\"url(#clip120)\" d=\"M 0 0 M436.73 362.323 L442.285 362.323 L442.285 362.821 L439.149 370.963 L437.928 370.963 L440.879 363.307 L436.73 363.307 L436.73 362.323 Z\" fill=\"#000000\" fill-rule=\"evenodd\" fill-opacity=\"1\" /><path clip-path=\"url(#clip120)\" d=\"M 0 0 M443.564 362.323 L448.153 362.323 L448.153 363.307 L444.635 363.307 L444.635 365.425 Q444.889 365.338 445.144 365.297 Q445.399 365.251 445.653 365.251 Q447.1 365.251 447.945 366.044 Q448.79 366.837 448.79 368.191 Q448.79 369.586 447.922 370.361 Q447.054 371.131 445.474 371.131 Q444.93 371.131 444.363 371.038 Q443.801 370.946 443.2 370.76 L443.2 369.586 Q443.72 369.869 444.276 370.008 Q444.832 370.147 445.451 370.147 Q446.452 370.147 447.036 369.62 Q447.621 369.094 447.621 368.191 Q447.621 367.288 447.036 366.762 Q446.452 366.235 445.451 366.235 Q444.982 366.235 444.513 366.339 Q444.05 366.443 443.564 366.663 L443.564 362.323 Z\" fill=\"#000000\" fill-rule=\"evenodd\" fill-opacity=\"1\" /><path clip-path=\"url(#clip120)\" d=\"M 0 0 M550.206 369.979 L552.116 369.979 L552.116 363.388 L550.039 363.804 L550.039 362.74 L552.105 362.323 L553.274 362.323 L553.274 369.979 L555.183 369.979 L555.183 370.963 L550.206 370.963 L550.206 369.979 Z\" fill=\"#000000\" fill-rule=\"evenodd\" fill-opacity=\"1\" /><path clip-path=\"url(#clip120)\" d=\"M 0 0 M558.951 363.093 Q558.048 363.093 557.591 363.984 Q557.139 364.869 557.139 366.652 Q557.139 368.428 557.591 369.319 Q558.048 370.205 558.951 370.205 Q559.859 370.205 560.311 369.319 Q560.768 368.428 560.768 366.652 Q560.768 364.869 560.311 363.984 Q559.859 363.093 558.951 363.093 M558.951 362.167 Q560.403 362.167 561.167 363.318 Q561.937 364.464 561.937 366.652 Q561.937 368.833 561.167 369.985 Q560.403 371.131 558.951 371.131 Q557.498 371.131 556.728 369.985 Q555.964 368.833 555.964 366.652 Q555.964 364.464 556.728 363.318 Q557.498 362.167 558.951 362.167 Z\" fill=\"#000000\" fill-rule=\"evenodd\" fill-opacity=\"1\" /><path clip-path=\"url(#clip120)\" d=\"M 0 0 M565.704 363.093 Q564.801 363.093 564.344 363.984 Q563.893 364.869 563.893 366.652 Q563.893 368.428 564.344 369.319 Q564.801 370.205 565.704 370.205 Q566.613 370.205 567.064 369.319 Q567.521 368.428 567.521 366.652 Q567.521 364.869 567.064 363.984 Q566.613 363.093 565.704 363.093 M565.704 362.167 Q567.157 362.167 567.92 363.318 Q568.69 364.464 568.69 366.652 Q568.69 368.833 567.92 369.985 Q567.157 371.131 565.704 371.131 Q564.251 371.131 563.482 369.985 Q562.718 368.833 562.718 366.652 Q562.718 364.464 563.482 363.318 Q564.251 362.167 565.704 362.167 Z\" fill=\"#000000\" fill-rule=\"evenodd\" fill-opacity=\"1\" /><path clip-path=\"url(#clip120)\" d=\"M 0 0 M309.211 380.131 L316.722 380.131 L316.722 381.484 L310.818 381.484 L310.818 385.001 L316.475 385.001 L316.475 386.353 L310.818 386.353 L310.818 390.658 L316.865 390.658 L316.865 392.011 L309.211 392.011 L309.211 380.131 Z\" fill=\"#000000\" fill-rule=\"evenodd\" fill-opacity=\"1\" /><path clip-path=\"url(#clip120)\" d=\"M 0 0 M324.265 384.452 L324.265 379.63 L325.73 379.63 L325.73 392.011 L324.265 392.011 L324.265 390.674 Q323.804 391.47 323.096 391.86 Q322.396 392.242 321.409 392.242 Q319.794 392.242 318.775 390.953 Q317.764 389.664 317.764 387.563 Q317.764 385.462 318.775 384.173 Q319.794 382.884 321.409 382.884 Q322.396 382.884 323.096 383.274 Q323.804 383.656 324.265 384.452 M319.276 387.563 Q319.276 389.178 319.937 390.101 Q320.605 391.016 321.767 391.016 Q322.929 391.016 323.597 390.101 Q324.265 389.178 324.265 387.563 Q324.265 385.948 323.597 385.033 Q322.929 384.11 321.767 384.11 Q320.605 384.11 319.937 385.033 Q319.276 385.948 319.276 387.563 Z\" fill=\"#000000\" fill-rule=\"evenodd\" fill-opacity=\"1\" /><path clip-path=\"url(#clip120)\" d=\"M 0 0 M331.315 387.531 Q329.541 387.531 328.857 387.937 Q328.172 388.343 328.172 389.321 Q328.172 390.101 328.682 390.563 Q329.199 391.016 330.082 391.016 Q331.3 391.016 332.032 390.157 Q332.772 389.29 332.772 387.857 L332.772 387.531 L331.315 387.531 M334.236 386.926 L334.236 392.011 L332.772 392.011 L332.772 390.658 Q332.27 391.47 331.522 391.86 Q330.774 392.242 329.692 392.242 Q328.324 392.242 327.512 391.478 Q326.708 390.706 326.708 389.417 Q326.708 387.913 327.711 387.149 Q328.721 386.385 330.719 386.385 L332.772 386.385 L332.772 386.242 Q332.772 385.231 332.103 384.682 Q331.443 384.125 330.241 384.125 Q329.477 384.125 328.753 384.308 Q328.029 384.491 327.361 384.857 L327.361 383.505 Q328.164 383.194 328.92 383.043 Q329.676 382.884 330.392 382.884 Q332.326 382.884 333.281 383.887 Q334.236 384.889 334.236 386.926 Z\" fill=\"#000000\" fill-rule=\"evenodd\" fill-opacity=\"1\" /><path clip-path=\"url(#clip120)\" d=\"M 0 0 M341.636 384.452 L341.636 379.63 L343.1 379.63 L343.1 392.011 L341.636 392.011 L341.636 390.674 Q341.174 391.47 340.466 391.86 Q339.766 392.242 338.779 392.242 Q337.164 392.242 336.145 390.953 Q335.135 389.664 335.135 387.563 Q335.135 385.462 336.145 384.173 Q337.164 382.884 338.779 382.884 Q339.766 382.884 340.466 383.274 Q341.174 383.656 341.636 384.452 M336.647 387.563 Q336.647 389.178 337.307 390.101 Q337.976 391.016 339.137 391.016 Q340.299 391.016 340.967 390.101 Q341.636 389.178 341.636 387.563 Q341.636 385.948 340.967 385.033 Q340.299 384.11 339.137 384.11 Q337.976 384.11 337.307 385.033 Q336.647 385.948 336.647 387.563 Z\" fill=\"#000000\" fill-rule=\"evenodd\" fill-opacity=\"1\" /><polyline clip-path=\"url(#clip122)\" style=\"stroke:#000000; stroke-width:0.5; stroke-opacity:0.1; fill:none\" points=\"\n  64.1216,346.599 588.189,346.599 \n  \"/>\n<polyline clip-path=\"url(#clip122)\" style=\"stroke:#000000; stroke-width:0.5; stroke-opacity:0.1; fill:none\" points=\"\n  64.1216,270.668 588.189,270.668 \n  \"/>\n<polyline clip-path=\"url(#clip122)\" style=\"stroke:#000000; stroke-width:0.5; stroke-opacity:0.1; fill:none\" points=\"\n  64.1216,194.736 588.189,194.736 \n  \"/>\n<polyline clip-path=\"url(#clip122)\" style=\"stroke:#000000; stroke-width:0.5; stroke-opacity:0.1; fill:none\" points=\"\n  64.1216,118.805 588.189,118.805 \n  \"/>\n<polyline clip-path=\"url(#clip122)\" style=\"stroke:#000000; stroke-width:0.5; stroke-opacity:0.1; fill:none\" points=\"\n  64.1216,42.8735 588.189,42.8735 \n  \"/>\n<polyline clip-path=\"url(#clip120)\" style=\"stroke:#000000; stroke-width:1; stroke-opacity:1; fill:none\" points=\"\n  64.1216,355.795 64.1216,30.868 \n  \"/>\n<polyline clip-path=\"url(#clip120)\" style=\"stroke:#000000; stroke-width:1; stroke-opacity:1; fill:none\" points=\"\n  64.1216,346.599 70.4104,346.599 \n  \"/>\n<polyline clip-path=\"url(#clip120)\" style=\"stroke:#000000; stroke-width:1; stroke-opacity:1; fill:none\" points=\"\n  64.1216,270.668 70.4104,270.668 \n  \"/>\n<polyline clip-path=\"url(#clip120)\" style=\"stroke:#000000; stroke-width:1; stroke-opacity:1; fill:none\" points=\"\n  64.1216,194.736 70.4104,194.736 \n  \"/>\n<polyline clip-path=\"url(#clip120)\" style=\"stroke:#000000; stroke-width:1; stroke-opacity:1; fill:none\" points=\"\n  64.1216,118.805 70.4104,118.805 \n  \"/>\n<polyline clip-path=\"url(#clip120)\" style=\"stroke:#000000; stroke-width:1; stroke-opacity:1; fill:none\" points=\"\n  64.1216,42.8735 70.4104,42.8735 \n  \"/>\n<path clip-path=\"url(#clip120)\" d=\"M 0 0 M52.1355 343.049 Q51.2327 343.049 50.7756 343.94 Q50.3242 344.825 50.3242 346.608 Q50.3242 348.384 50.7756 349.275 Q51.2327 350.161 52.1355 350.161 Q53.0441 350.161 53.4955 349.275 Q53.9526 348.384 53.9526 346.608 Q53.9526 344.825 53.4955 343.94 Q53.0441 343.049 52.1355 343.049 M52.1355 342.123 Q53.5881 342.123 54.3519 343.274 Q55.1216 344.42 55.1216 346.608 Q55.1216 348.789 54.3519 349.941 Q53.5881 351.087 52.1355 351.087 Q50.683 351.087 49.9133 349.941 Q49.1494 348.789 49.1494 346.608 Q49.1494 344.42 49.9133 343.274 Q50.683 342.123 52.1355 342.123 Z\" fill=\"#000000\" fill-rule=\"evenodd\" fill-opacity=\"1\" /><path clip-path=\"url(#clip120)\" d=\"M 0 0 M29.8845 274.004 L31.7942 274.004 L31.7942 267.412 L29.7167 267.829 L29.7167 266.764 L31.7826 266.348 L32.9516 266.348 L32.9516 274.004 L34.8613 274.004 L34.8613 274.988 L29.8845 274.988 L29.8845 274.004 Z\" fill=\"#000000\" fill-rule=\"evenodd\" fill-opacity=\"1\" /><path clip-path=\"url(#clip120)\" d=\"M 0 0 M38.6286 267.117 Q37.7259 267.117 37.2687 268.008 Q36.8173 268.894 36.8173 270.676 Q36.8173 272.453 37.2687 273.344 Q37.7259 274.229 38.6286 274.229 Q39.5372 274.229 39.9886 273.344 Q40.4458 272.453 40.4458 270.676 Q40.4458 268.894 39.9886 268.008 Q39.5372 267.117 38.6286 267.117 M38.6286 266.191 Q40.0812 266.191 40.8451 267.343 Q41.6147 268.489 41.6147 270.676 Q41.6147 272.858 40.8451 274.01 Q40.0812 275.155 38.6286 275.155 Q37.1761 275.155 36.4064 274.01 Q35.6425 272.858 35.6425 270.676 Q35.6425 268.489 36.4064 267.343 Q37.1761 266.191 38.6286 266.191 Z\" fill=\"#000000\" fill-rule=\"evenodd\" fill-opacity=\"1\" /><path clip-path=\"url(#clip120)\" d=\"M 0 0 M45.3821 267.117 Q44.4793 267.117 44.0221 268.008 Q43.5707 268.894 43.5707 270.676 Q43.5707 272.453 44.0221 273.344 Q44.4793 274.229 45.3821 274.229 Q46.2906 274.229 46.742 273.344 Q47.1992 272.453 47.1992 270.676 Q47.1992 268.894 46.742 268.008 Q46.2906 267.117 45.3821 267.117 M45.3821 266.191 Q46.8346 266.191 47.5985 267.343 Q48.3682 268.489 48.3682 270.676 Q48.3682 272.858 47.5985 274.01 Q46.8346 275.155 45.3821 275.155 Q43.9295 275.155 43.1599 274.01 Q42.396 272.858 42.396 270.676 Q42.396 268.489 43.1599 267.343 Q43.9295 266.191 45.3821 266.191 Z\" fill=\"#000000\" fill-rule=\"evenodd\" fill-opacity=\"1\" /><path clip-path=\"url(#clip120)\" d=\"M 0 0 M52.1355 267.117 Q51.2327 267.117 50.7756 268.008 Q50.3242 268.894 50.3242 270.676 Q50.3242 272.453 50.7756 273.344 Q51.2327 274.229 52.1355 274.229 Q53.0441 274.229 53.4955 273.344 Q53.9526 272.453 53.9526 270.676 Q53.9526 268.894 53.4955 268.008 Q53.0441 267.117 52.1355 267.117 M52.1355 266.191 Q53.5881 266.191 54.3519 267.343 Q55.1216 268.489 55.1216 270.676 Q55.1216 272.858 54.3519 274.01 Q53.5881 275.155 52.1355 275.155 Q50.683 275.155 49.9133 274.01 Q49.1494 272.858 49.1494 270.676 Q49.1494 268.489 49.9133 267.343 Q50.683 266.191 52.1355 266.191 Z\" fill=\"#000000\" fill-rule=\"evenodd\" fill-opacity=\"1\" /><path clip-path=\"url(#clip120)\" d=\"M 0 0 M30.7815 198.072 L34.8613 198.072 L34.8613 199.056 L29.3752 199.056 L29.3752 198.072 Q30.0407 197.384 31.1866 196.226 Q32.3382 195.063 32.6333 194.728 Q33.1946 194.097 33.4146 193.663 Q33.6402 193.223 33.6402 192.8 Q33.6402 192.112 33.1541 191.678 Q32.6738 191.244 31.8984 191.244 Q31.3486 191.244 30.7352 191.435 Q30.1275 191.626 29.4331 192.013 L29.4331 190.833 Q30.1391 190.549 30.7525 190.405 Q31.366 190.26 31.8752 190.26 Q33.2178 190.26 34.0164 190.931 Q34.815 191.603 34.815 192.725 Q34.815 193.258 34.6125 193.738 Q34.4157 194.213 33.8891 194.861 Q33.7444 195.028 32.969 195.833 Q32.1935 196.631 30.7815 198.072 Z\" fill=\"#000000\" fill-rule=\"evenodd\" fill-opacity=\"1\" /><path clip-path=\"url(#clip120)\" d=\"M 0 0 M38.6286 191.186 Q37.7259 191.186 37.2687 192.077 Q36.8173 192.963 36.8173 194.745 Q36.8173 196.522 37.2687 197.413 Q37.7259 198.298 38.6286 198.298 Q39.5372 198.298 39.9886 197.413 Q40.4458 196.522 40.4458 194.745 Q40.4458 192.963 39.9886 192.077 Q39.5372 191.186 38.6286 191.186 M38.6286 190.26 Q40.0812 190.26 40.8451 191.412 Q41.6147 192.557 41.6147 194.745 Q41.6147 196.927 40.8451 198.078 Q40.0812 199.224 38.6286 199.224 Q37.1761 199.224 36.4064 198.078 Q35.6425 196.927 35.6425 194.745 Q35.6425 192.557 36.4064 191.412 Q37.1761 190.26 38.6286 190.26 Z\" fill=\"#000000\" fill-rule=\"evenodd\" fill-opacity=\"1\" /><path clip-path=\"url(#clip120)\" d=\"M 0 0 M45.3821 191.186 Q44.4793 191.186 44.0221 192.077 Q43.5707 192.963 43.5707 194.745 Q43.5707 196.522 44.0221 197.413 Q44.4793 198.298 45.3821 198.298 Q46.2906 198.298 46.742 197.413 Q47.1992 196.522 47.1992 194.745 Q47.1992 192.963 46.742 192.077 Q46.2906 191.186 45.3821 191.186 M45.3821 190.26 Q46.8346 190.26 47.5985 191.412 Q48.3682 192.557 48.3682 194.745 Q48.3682 196.927 47.5985 198.078 Q46.8346 199.224 45.3821 199.224 Q43.9295 199.224 43.1599 198.078 Q42.396 196.927 42.396 194.745 Q42.396 192.557 43.1599 191.412 Q43.9295 190.26 45.3821 190.26 Z\" fill=\"#000000\" fill-rule=\"evenodd\" fill-opacity=\"1\" /><path clip-path=\"url(#clip120)\" d=\"M 0 0 M52.1355 191.186 Q51.2327 191.186 50.7756 192.077 Q50.3242 192.963 50.3242 194.745 Q50.3242 196.522 50.7756 197.413 Q51.2327 198.298 52.1355 198.298 Q53.0441 198.298 53.4955 197.413 Q53.9526 196.522 53.9526 194.745 Q53.9526 192.963 53.4955 192.077 Q53.0441 191.186 52.1355 191.186 M52.1355 190.26 Q53.5881 190.26 54.3519 191.412 Q55.1216 192.557 55.1216 194.745 Q55.1216 196.927 54.3519 198.078 Q53.5881 199.224 52.1355 199.224 Q50.683 199.224 49.9133 198.078 Q49.1494 196.927 49.1494 194.745 Q49.1494 192.557 49.9133 191.412 Q50.683 190.26 52.1355 190.26 Z\" fill=\"#000000\" fill-rule=\"evenodd\" fill-opacity=\"1\" /><path clip-path=\"url(#clip120)\" d=\"M 0 0 M33.0789 118.466 Q33.918 118.646 34.3868 119.213 Q34.8613 119.78 34.8613 120.613 Q34.8613 121.892 33.9817 122.592 Q33.1021 123.293 31.4817 123.293 Q30.9377 123.293 30.359 123.183 Q29.7861 123.079 29.1727 122.864 L29.1727 121.736 Q29.6588 122.02 30.2375 122.164 Q30.8162 122.309 31.447 122.309 Q32.5465 122.309 33.1194 121.875 Q33.6981 121.441 33.6981 120.613 Q33.6981 119.849 33.1599 119.421 Q32.6275 118.987 31.6727 118.987 L30.6657 118.987 L30.6657 118.027 L31.719 118.027 Q32.5812 118.027 33.0384 117.685 Q33.4956 117.338 33.4956 116.69 Q33.4956 116.024 33.021 115.671 Q32.5523 115.312 31.6727 115.312 Q31.1923 115.312 30.6426 115.417 Q30.0928 115.521 29.4331 115.741 L29.4331 114.699 Q30.0986 114.514 30.6773 114.421 Q31.2618 114.329 31.7768 114.329 Q33.1078 114.329 33.8833 114.936 Q34.6588 115.538 34.6588 116.568 Q34.6588 117.286 34.2479 117.783 Q33.837 118.275 33.0789 118.466 Z\" fill=\"#000000\" fill-rule=\"evenodd\" fill-opacity=\"1\" /><path clip-path=\"url(#clip120)\" d=\"M 0 0 M38.6286 115.255 Q37.7259 115.255 37.2687 116.146 Q36.8173 117.031 36.8173 118.814 Q36.8173 120.59 37.2687 121.481 Q37.7259 122.367 38.6286 122.367 Q39.5372 122.367 39.9886 121.481 Q40.4458 120.59 40.4458 118.814 Q40.4458 117.031 39.9886 116.146 Q39.5372 115.255 38.6286 115.255 M38.6286 114.329 Q40.0812 114.329 40.8451 115.48 Q41.6147 116.626 41.6147 118.814 Q41.6147 120.995 40.8451 122.147 Q40.0812 123.293 38.6286 123.293 Q37.1761 123.293 36.4064 122.147 Q35.6425 120.995 35.6425 118.814 Q35.6425 116.626 36.4064 115.48 Q37.1761 114.329 38.6286 114.329 Z\" fill=\"#000000\" fill-rule=\"evenodd\" fill-opacity=\"1\" /><path clip-path=\"url(#clip120)\" d=\"M 0 0 M45.3821 115.255 Q44.4793 115.255 44.0221 116.146 Q43.5707 117.031 43.5707 118.814 Q43.5707 120.59 44.0221 121.481 Q44.4793 122.367 45.3821 122.367 Q46.2906 122.367 46.742 121.481 Q47.1992 120.59 47.1992 118.814 Q47.1992 117.031 46.742 116.146 Q46.2906 115.255 45.3821 115.255 M45.3821 114.329 Q46.8346 114.329 47.5985 115.48 Q48.3682 116.626 48.3682 118.814 Q48.3682 120.995 47.5985 122.147 Q46.8346 123.293 45.3821 123.293 Q43.9295 123.293 43.1599 122.147 Q42.396 120.995 42.396 118.814 Q42.396 116.626 43.1599 115.48 Q43.9295 114.329 45.3821 114.329 Z\" fill=\"#000000\" fill-rule=\"evenodd\" fill-opacity=\"1\" /><path clip-path=\"url(#clip120)\" d=\"M 0 0 M52.1355 115.255 Q51.2327 115.255 50.7756 116.146 Q50.3242 117.031 50.3242 118.814 Q50.3242 120.59 50.7756 121.481 Q51.2327 122.367 52.1355 122.367 Q53.0441 122.367 53.4955 121.481 Q53.9526 120.59 53.9526 118.814 Q53.9526 117.031 53.4955 116.146 Q53.0441 115.255 52.1355 115.255 M52.1355 114.329 Q53.5881 114.329 54.3519 115.48 Q55.1216 116.626 55.1216 118.814 Q55.1216 120.995 54.3519 122.147 Q53.5881 123.293 52.1355 123.293 Q50.683 123.293 49.9133 122.147 Q49.1494 120.995 49.1494 118.814 Q49.1494 116.626 49.9133 115.48 Q50.683 114.329 52.1355 114.329 Z\" fill=\"#000000\" fill-rule=\"evenodd\" fill-opacity=\"1\" /><path clip-path=\"url(#clip120)\" d=\"M 0 0 M32.4655 39.572 L29.5141 44.1843 L32.4655 44.1843 L32.4655 39.572 M32.1588 38.5535 L33.6287 38.5535 L33.6287 44.1843 L34.8613 44.1843 L34.8613 45.1565 L33.6287 45.1565 L33.6287 47.1935 L32.4655 47.1935 L32.4655 45.1565 L28.565 45.1565 L28.565 44.028 L32.1588 38.5535 Z\" fill=\"#000000\" fill-rule=\"evenodd\" fill-opacity=\"1\" /><path clip-path=\"url(#clip120)\" d=\"M 0 0 M38.6286 39.3232 Q37.7259 39.3232 37.2687 40.2144 Q36.8173 41.0998 36.8173 42.8822 Q36.8173 44.6588 37.2687 45.55 Q37.7259 46.4354 38.6286 46.4354 Q39.5372 46.4354 39.9886 45.55 Q40.4458 44.6588 40.4458 42.8822 Q40.4458 41.0998 39.9886 40.2144 Q39.5372 39.3232 38.6286 39.3232 M38.6286 38.3973 Q40.0812 38.3973 40.8451 39.5489 Q41.6147 40.6947 41.6147 42.8822 Q41.6147 45.0639 40.8451 46.2155 Q40.0812 47.3614 38.6286 47.3614 Q37.1761 47.3614 36.4064 46.2155 Q35.6425 45.0639 35.6425 42.8822 Q35.6425 40.6947 36.4064 39.5489 Q37.1761 38.3973 38.6286 38.3973 Z\" fill=\"#000000\" fill-rule=\"evenodd\" fill-opacity=\"1\" /><path clip-path=\"url(#clip120)\" d=\"M 0 0 M45.3821 39.3232 Q44.4793 39.3232 44.0221 40.2144 Q43.5707 41.0998 43.5707 42.8822 Q43.5707 44.6588 44.0221 45.55 Q44.4793 46.4354 45.3821 46.4354 Q46.2906 46.4354 46.742 45.55 Q47.1992 44.6588 47.1992 42.8822 Q47.1992 41.0998 46.742 40.2144 Q46.2906 39.3232 45.3821 39.3232 M45.3821 38.3973 Q46.8346 38.3973 47.5985 39.5489 Q48.3682 40.6947 48.3682 42.8822 Q48.3682 45.0639 47.5985 46.2155 Q46.8346 47.3614 45.3821 47.3614 Q43.9295 47.3614 43.1599 46.2155 Q42.396 45.0639 42.396 42.8822 Q42.396 40.6947 43.1599 39.5489 Q43.9295 38.3973 45.3821 38.3973 Z\" fill=\"#000000\" fill-rule=\"evenodd\" fill-opacity=\"1\" /><path clip-path=\"url(#clip120)\" d=\"M 0 0 M52.1355 39.3232 Q51.2327 39.3232 50.7756 40.2144 Q50.3242 41.0998 50.3242 42.8822 Q50.3242 44.6588 50.7756 45.55 Q51.2327 46.4354 52.1355 46.4354 Q53.0441 46.4354 53.4955 45.55 Q53.9526 44.6588 53.9526 42.8822 Q53.9526 41.0998 53.4955 40.2144 Q53.0441 39.3232 52.1355 39.3232 M52.1355 38.3973 Q53.5881 38.3973 54.3519 39.5489 Q55.1216 40.6947 55.1216 42.8822 Q55.1216 45.0639 54.3519 46.2155 Q53.5881 47.3614 52.1355 47.3614 Q50.683 47.3614 49.9133 46.2155 Q49.1494 45.0639 49.1494 42.8822 Q49.1494 40.6947 49.9133 39.5489 Q50.683 38.3973 52.1355 38.3973 Z\" fill=\"#000000\" fill-rule=\"evenodd\" fill-opacity=\"1\" /><path clip-path=\"url(#clip120)\" d=\"M 0 0 M4.12104 231.08 L4.12104 224.253 L5.47375 224.253 L5.47375 229.473 L8.97489 229.473 L8.97489 224.762 L10.3276 224.762 L10.3276 229.473 L16.001 229.473 L16.001 231.08 L4.12104 231.08 Z\" fill=\"#000000\" fill-rule=\"evenodd\" fill-opacity=\"1\" /><path clip-path=\"url(#clip120)\" d=\"M 0 0 M8.45768 218.739 Q8.31445 218.985 8.25079 219.28 Q8.17918 219.566 8.17918 219.916 Q8.17918 221.158 8.9908 221.826 Q9.79448 222.486 11.3063 222.486 L16.001 222.486 L16.001 223.959 L7.08905 223.959 L7.08905 222.486 L8.47359 222.486 Q7.66196 222.025 7.27206 221.285 Q6.87421 220.545 6.87421 219.487 Q6.87421 219.335 6.89808 219.152 Q6.91399 218.969 6.95378 218.747 L8.45768 218.739 Z\" fill=\"#000000\" fill-rule=\"evenodd\" fill-opacity=\"1\" /><path clip-path=\"url(#clip120)\" d=\"M 0 0 M11.179 209.938 L11.8952 209.938 L11.8952 216.67 Q13.407 216.574 14.2027 215.763 Q14.9905 214.943 14.9905 213.487 Q14.9905 212.643 14.7836 211.856 Q14.5767 211.06 14.1629 210.28 L15.5475 210.28 Q15.8817 211.068 16.0567 211.895 Q16.2318 212.723 16.2318 213.574 Q16.2318 215.707 14.9905 216.956 Q13.7492 218.198 11.6326 218.198 Q9.44436 218.198 8.16326 217.02 Q6.87421 215.834 6.87421 213.829 Q6.87421 212.031 8.03595 210.988 Q9.18973 209.938 11.179 209.938 M10.7493 211.402 Q9.5478 211.418 8.83166 212.079 Q8.11552 212.731 8.11552 213.813 Q8.11552 215.039 8.80779 215.779 Q9.50006 216.511 10.7573 216.622 L10.7493 211.402 Z\" fill=\"#000000\" fill-rule=\"evenodd\" fill-opacity=\"1\" /><path clip-path=\"url(#clip120)\" d=\"M 0 0 M7.43121 201.989 L8.79983 201.989 Q8.45768 202.61 8.29058 203.238 Q8.11552 203.859 8.11552 204.495 Q8.11552 205.92 9.02263 206.707 Q9.92179 207.495 11.553 207.495 Q13.1842 207.495 14.0913 206.707 Q14.9905 205.92 14.9905 204.495 Q14.9905 203.859 14.8234 203.238 Q14.6483 202.61 14.3062 201.989 L15.6589 201.989 Q15.9453 202.602 16.0886 203.262 Q16.2318 203.914 16.2318 204.654 Q16.2318 206.668 14.9666 207.853 Q13.7014 209.039 11.553 209.039 Q9.37275 209.039 8.12348 207.845 Q6.87421 206.644 6.87421 204.559 Q6.87421 203.883 7.01744 203.238 Q7.15271 202.594 7.43121 201.989 Z\" fill=\"#000000\" fill-rule=\"evenodd\" fill-opacity=\"1\" /><path clip-path=\"url(#clip120)\" d=\"M 0 0 M12.484 200.604 L7.08905 200.604 L7.08905 199.14 L12.4283 199.14 Q13.6935 199.14 14.33 198.647 Q14.9587 198.154 14.9587 197.167 Q14.9587 195.981 14.2027 195.297 Q13.4468 194.605 12.1418 194.605 L7.08905 194.605 L7.08905 193.141 L16.001 193.141 L16.001 194.605 L14.6324 194.605 Q15.444 195.138 15.8419 195.846 Q16.2318 196.546 16.2318 197.477 Q16.2318 199.013 15.2769 199.809 Q14.3221 200.604 12.484 200.604 M6.87421 196.92 L6.87421 196.92 Z\" fill=\"#000000\" fill-rule=\"evenodd\" fill-opacity=\"1\" /><path clip-path=\"url(#clip120)\" d=\"M 0 0 M11.179 183.982 L11.8952 183.982 L11.8952 190.714 Q13.407 190.618 14.2027 189.806 Q14.9905 188.987 14.9905 187.531 Q14.9905 186.687 14.7836 185.9 Q14.5767 185.104 14.1629 184.324 L15.5475 184.324 Q15.8817 185.112 16.0567 185.939 Q16.2318 186.767 16.2318 187.618 Q16.2318 189.751 14.9905 191 Q13.7492 192.241 11.6326 192.241 Q9.44436 192.241 8.16326 191.064 Q6.87421 189.878 6.87421 187.873 Q6.87421 186.075 8.03595 185.032 Q9.18973 183.982 11.179 183.982 M10.7493 185.446 Q9.5478 185.462 8.83166 186.122 Q8.11552 186.775 8.11552 187.857 Q8.11552 189.082 8.80779 189.822 Q9.50006 190.554 10.7573 190.666 L10.7493 185.446 Z\" fill=\"#000000\" fill-rule=\"evenodd\" fill-opacity=\"1\" /><path clip-path=\"url(#clip120)\" d=\"M 0 0 M10.622 175.038 L16.001 175.038 L16.001 176.502 L10.6698 176.502 Q9.40458 176.502 8.77596 176.996 Q8.14735 177.489 8.14735 178.476 Q8.14735 179.661 8.90328 180.345 Q9.6592 181.03 10.9642 181.03 L16.001 181.03 L16.001 182.502 L7.08905 182.502 L7.08905 181.03 L8.47359 181.03 Q7.66992 180.505 7.27206 179.796 Q6.87421 179.08 6.87421 178.149 Q6.87421 176.614 7.82906 175.826 Q8.77596 175.038 10.622 175.038 Z\" fill=\"#000000\" fill-rule=\"evenodd\" fill-opacity=\"1\" /><path clip-path=\"url(#clip120)\" d=\"M 0 0 M7.43121 167.089 L8.79983 167.089 Q8.45768 167.71 8.29058 168.338 Q8.11552 168.959 8.11552 169.595 Q8.11552 171.02 9.02263 171.807 Q9.92179 172.595 11.553 172.595 Q13.1842 172.595 14.0913 171.807 Q14.9905 171.02 14.9905 169.595 Q14.9905 168.959 14.8234 168.338 Q14.6483 167.71 14.3062 167.089 L15.6589 167.089 Q15.9453 167.702 16.0886 168.362 Q16.2318 169.014 16.2318 169.755 Q16.2318 171.768 14.9666 172.953 Q13.7014 174.139 11.553 174.139 Q9.37275 174.139 8.12348 172.945 Q6.87421 171.744 6.87421 169.659 Q6.87421 168.983 7.01744 168.338 Q7.15271 167.694 7.43121 167.089 Z\" fill=\"#000000\" fill-rule=\"evenodd\" fill-opacity=\"1\" /><path clip-path=\"url(#clip120)\" d=\"M 0 0 M7.08905 165.553 L7.08905 164.089 L16.001 164.089 L16.001 165.553 L7.08905 165.553 M3.61974 165.553 L3.61974 164.089 L5.47375 164.089 L5.47375 165.553 L3.61974 165.553 Z\" fill=\"#000000\" fill-rule=\"evenodd\" fill-opacity=\"1\" /><path clip-path=\"url(#clip120)\" d=\"M 0 0 M11.5212 158.503 Q11.5212 160.278 11.927 160.962 Q12.3328 161.646 13.3115 161.646 Q14.0913 161.646 14.5528 161.137 Q15.0064 160.62 15.0064 159.736 Q15.0064 158.519 14.147 157.787 Q13.2797 157.047 11.8474 157.047 L11.5212 157.047 L11.5212 158.503 M10.9164 155.583 L16.001 155.583 L16.001 157.047 L14.6483 157.047 Q15.46 157.548 15.8499 158.296 Q16.2318 159.044 16.2318 160.126 Q16.2318 161.495 15.4679 162.307 Q14.6961 163.11 13.407 163.11 Q11.9031 163.11 11.1392 162.108 Q10.3753 161.097 10.3753 159.1 L10.3753 157.047 L10.2321 157.047 Q9.22156 157.047 8.67252 157.715 Q8.11552 158.376 8.11552 159.577 Q8.11552 160.341 8.29853 161.065 Q8.48155 161.789 8.84758 162.458 L7.49486 162.458 Q7.18454 161.654 7.03335 160.898 Q6.87421 160.142 6.87421 159.426 Q6.87421 157.493 7.87681 156.538 Q8.87941 155.583 10.9164 155.583 Z\" fill=\"#000000\" fill-rule=\"evenodd\" fill-opacity=\"1\" /><path clip-path=\"url(#clip120)\" d=\"M 0 0 M178.044 3.024 L186.733 3.024 L186.733 4.74563 L180.09 4.74563 L180.09 9.20163 L186.085 9.20163 L186.085 10.9233 L180.09 10.9233 L180.09 18.144 L178.044 18.144 L178.044 3.024 Z\" fill=\"#000000\" fill-rule=\"evenodd\" fill-opacity=\"1\" /><path clip-path=\"url(#clip120)\" d=\"M 0 0 M193.751 8.54336 Q193.438 8.36107 193.063 8.28005 Q192.698 8.1889 192.253 8.1889 Q190.673 8.1889 189.822 9.22188 Q188.982 10.2447 188.982 12.1689 L188.982 18.144 L187.108 18.144 L187.108 6.80147 L188.982 6.80147 L188.982 8.56361 Q189.569 7.53063 190.511 7.0344 Q191.453 6.52803 192.8 6.52803 Q192.992 6.52803 193.225 6.55841 Q193.458 6.57867 193.741 6.6293 L193.751 8.54336 Z\" fill=\"#000000\" fill-rule=\"evenodd\" fill-opacity=\"1\" /><path clip-path=\"url(#clip120)\" d=\"M 0 0 M204.952 12.0069 L204.952 12.9183 L196.385 12.9183 Q196.506 14.8425 197.539 15.8552 Q198.582 16.8578 200.435 16.8578 Q201.509 16.8578 202.512 16.5945 Q203.524 16.3312 204.517 15.8046 L204.517 17.5667 Q203.514 17.9921 202.461 18.2149 Q201.408 18.4377 200.324 18.4377 Q197.61 18.4377 196.02 16.8578 Q194.44 15.278 194.44 12.5841 Q194.44 9.79914 195.939 8.16865 Q197.448 6.52803 200 6.52803 Q202.289 6.52803 203.615 8.00661 Q204.952 9.47506 204.952 12.0069 M203.089 11.46 Q203.069 9.93079 202.228 9.01934 Q201.398 8.10788 200.02 8.10788 Q198.461 8.10788 197.519 8.98896 Q196.587 9.87003 196.445 11.4701 L203.089 11.46 Z\" fill=\"#000000\" fill-rule=\"evenodd\" fill-opacity=\"1\" /><path clip-path=\"url(#clip120)\" d=\"M 0 0 M215.069 7.23694 L215.069 8.97883 Q214.279 8.54336 213.479 8.33068 Q212.689 8.10788 211.879 8.10788 Q210.067 8.10788 209.064 9.26239 Q208.061 10.4068 208.061 12.4829 Q208.061 14.5589 209.064 15.7135 Q210.067 16.8578 211.879 16.8578 Q212.689 16.8578 213.479 16.6452 Q214.279 16.4224 215.069 15.9869 L215.069 17.7085 Q214.29 18.0731 213.449 18.2554 Q212.619 18.4377 211.677 18.4377 Q209.115 18.4377 207.606 16.8275 Q206.097 15.2172 206.097 12.4829 Q206.097 9.70799 207.616 8.11801 Q209.145 6.52803 211.798 6.52803 Q212.659 6.52803 213.479 6.71032 Q214.3 6.88249 215.069 7.23694 Z\" fill=\"#000000\" fill-rule=\"evenodd\" fill-opacity=\"1\" /><path clip-path=\"url(#clip120)\" d=\"M 0 0 M216.832 13.6678 L216.832 6.80147 L218.695 6.80147 L218.695 13.5969 Q218.695 15.2071 219.323 16.0173 Q219.951 16.8173 221.206 16.8173 Q222.715 16.8173 223.586 15.8552 Q224.467 14.8931 224.467 13.2323 L224.467 6.80147 L226.331 6.80147 L226.331 18.144 L224.467 18.144 L224.467 16.4021 Q223.789 17.4351 222.888 17.9415 Q221.996 18.4377 220.812 18.4377 Q218.857 18.4377 217.844 17.2224 Q216.832 16.0071 216.832 13.6678 M221.52 6.52803 L221.52 6.52803 Z\" fill=\"#000000\" fill-rule=\"evenodd\" fill-opacity=\"1\" /><path clip-path=\"url(#clip120)\" d=\"M 0 0 M237.987 12.0069 L237.987 12.9183 L229.42 12.9183 Q229.541 14.8425 230.574 15.8552 Q231.617 16.8578 233.471 16.8578 Q234.544 16.8578 235.547 16.5945 Q236.559 16.3312 237.552 15.8046 L237.552 17.5667 Q236.549 17.9921 235.496 18.2149 Q234.443 18.4377 233.359 18.4377 Q230.645 18.4377 229.055 16.8578 Q227.475 15.278 227.475 12.5841 Q227.475 9.79914 228.974 8.16865 Q230.483 6.52803 233.035 6.52803 Q235.324 6.52803 236.651 8.00661 Q237.987 9.47506 237.987 12.0069 M236.124 11.46 Q236.104 9.93079 235.263 9.01934 Q234.433 8.10788 233.055 8.10788 Q231.496 8.10788 230.554 8.98896 Q229.622 9.87003 229.48 11.4701 L236.124 11.46 Z\" fill=\"#000000\" fill-rule=\"evenodd\" fill-opacity=\"1\" /><path clip-path=\"url(#clip120)\" d=\"M 0 0 M249.37 11.298 L249.37 18.144 L247.507 18.144 L247.507 11.3587 Q247.507 9.7485 246.879 8.94845 Q246.251 8.14839 244.995 8.14839 Q243.486 8.14839 242.616 9.11048 Q241.745 10.0726 241.745 11.7334 L241.745 18.144 L239.871 18.144 L239.871 6.80147 L241.745 6.80147 L241.745 8.56361 Q242.413 7.54076 243.314 7.0344 Q244.226 6.52803 245.411 6.52803 Q247.365 6.52803 248.368 7.7433 Q249.37 8.94845 249.37 11.298 Z\" fill=\"#000000\" fill-rule=\"evenodd\" fill-opacity=\"1\" /><path clip-path=\"url(#clip120)\" d=\"M 0 0 M259.488 7.23694 L259.488 8.97883 Q258.698 8.54336 257.898 8.33068 Q257.108 8.10788 256.297 8.10788 Q254.485 8.10788 253.482 9.26239 Q252.479 10.4068 252.479 12.4829 Q252.479 14.5589 253.482 15.7135 Q254.485 16.8578 256.297 16.8578 Q257.108 16.8578 257.898 16.6452 Q258.698 16.4224 259.488 15.9869 L259.488 17.7085 Q258.708 18.0731 257.867 18.2554 Q257.037 18.4377 256.095 18.4377 Q253.533 18.4377 252.024 16.8275 Q250.515 15.2172 250.515 12.4829 Q250.515 9.70799 252.034 8.11801 Q253.563 6.52803 256.216 6.52803 Q257.077 6.52803 257.898 6.71032 Q258.718 6.88249 259.488 7.23694 Z\" fill=\"#000000\" fill-rule=\"evenodd\" fill-opacity=\"1\" /><path clip-path=\"url(#clip120)\" d=\"M 0 0 M261.442 6.80147 L263.306 6.80147 L263.306 18.144 L261.442 18.144 L261.442 6.80147 M261.442 2.38598 L263.306 2.38598 L263.306 4.74563 L261.442 4.74563 L261.442 2.38598 Z\" fill=\"#000000\" fill-rule=\"evenodd\" fill-opacity=\"1\" /><path clip-path=\"url(#clip120)\" d=\"M 0 0 M270.415 12.4424 Q268.156 12.4424 267.286 12.9588 Q266.415 13.4753 266.415 14.721 Q266.415 15.7135 267.063 16.3008 Q267.721 16.8781 268.845 16.8781 Q270.395 16.8781 271.326 15.7843 Q272.268 14.6805 272.268 12.8576 L272.268 12.4424 L270.415 12.4424 M274.132 11.6727 L274.132 18.144 L272.268 18.144 L272.268 16.4224 Q271.63 17.4553 270.678 17.9516 Q269.726 18.4377 268.349 18.4377 Q266.607 18.4377 265.574 17.4655 Q264.551 16.4831 264.551 14.8425 Q264.551 12.9285 265.827 11.9562 Q267.113 10.984 269.655 10.984 L272.268 10.984 L272.268 10.8017 Q272.268 9.51557 271.417 8.81679 Q270.577 8.10788 269.048 8.10788 Q268.075 8.10788 267.154 8.34081 Q266.232 8.57374 265.382 9.03959 L265.382 7.31796 Q266.404 6.923 267.367 6.73058 Q268.329 6.52803 269.24 6.52803 Q271.701 6.52803 272.916 7.80407 Q274.132 9.0801 274.132 11.6727 Z\" fill=\"#000000\" fill-rule=\"evenodd\" fill-opacity=\"1\" /><path clip-path=\"url(#clip120)\" d=\"M 0 0 M290.143 8.5231 L290.143 2.38598 L292.006 2.38598 L292.006 18.144 L290.143 18.144 L290.143 16.4426 Q289.555 17.4553 288.654 17.9516 Q287.763 18.4377 286.507 18.4377 Q284.451 18.4377 283.155 16.7971 Q281.869 15.1565 281.869 12.4829 Q281.869 9.80926 283.155 8.16865 Q284.451 6.52803 286.507 6.52803 Q287.763 6.52803 288.654 7.02427 Q289.555 7.51038 290.143 8.5231 M283.793 12.4829 Q283.793 14.5387 284.634 15.7135 Q285.484 16.8781 286.963 16.8781 Q288.441 16.8781 289.292 15.7135 Q290.143 14.5387 290.143 12.4829 Q290.143 10.427 289.292 9.26239 Q288.441 8.08763 286.963 8.08763 Q285.484 8.08763 284.634 9.26239 Q283.793 10.427 283.793 12.4829 Z\" fill=\"#000000\" fill-rule=\"evenodd\" fill-opacity=\"1\" /><path clip-path=\"url(#clip120)\" d=\"M 0 0 M303.663 12.0069 L303.663 12.9183 L295.095 12.9183 Q295.217 14.8425 296.249 15.8552 Q297.293 16.8578 299.146 16.8578 Q300.219 16.8578 301.222 16.5945 Q302.235 16.3312 303.227 15.8046 L303.227 17.5667 Q302.225 17.9921 301.171 18.2149 Q300.118 18.4377 299.034 18.4377 Q296.32 18.4377 294.73 16.8578 Q293.151 15.278 293.151 12.5841 Q293.151 9.79914 294.649 8.16865 Q296.158 6.52803 298.71 6.52803 Q300.999 6.52803 302.326 8.00661 Q303.663 9.47506 303.663 12.0069 M301.799 11.46 Q301.779 9.93079 300.938 9.01934 Q300.108 8.10788 298.731 8.10788 Q297.171 8.10788 296.229 8.98896 Q295.298 9.87003 295.156 11.4701 L301.799 11.46 Z\" fill=\"#000000\" fill-rule=\"evenodd\" fill-opacity=\"1\" /><path clip-path=\"url(#clip120)\" d=\"M 0 0 M320.352 12.4829 Q320.352 10.427 319.502 9.26239 Q318.661 8.08763 317.183 8.08763 Q315.704 8.08763 314.853 9.26239 Q314.013 10.427 314.013 12.4829 Q314.013 14.5387 314.853 15.7135 Q315.704 16.8781 317.183 16.8781 Q318.661 16.8781 319.502 15.7135 Q320.352 14.5387 320.352 12.4829 M314.013 8.5231 Q314.6 7.51038 315.491 7.02427 Q316.393 6.52803 317.638 6.52803 Q319.704 6.52803 320.99 8.16865 Q322.287 9.80926 322.287 12.4829 Q322.287 15.1565 320.99 16.7971 Q319.704 18.4377 317.638 18.4377 Q316.393 18.4377 315.491 17.9516 Q314.6 17.4553 314.013 16.4426 L314.013 18.144 L312.139 18.144 L312.139 2.38598 L314.013 2.38598 L314.013 8.5231 Z\" fill=\"#000000\" fill-rule=\"evenodd\" fill-opacity=\"1\" /><path clip-path=\"url(#clip120)\" d=\"M 0 0 M324.241 6.80147 L326.105 6.80147 L326.105 18.144 L324.241 18.144 L324.241 6.80147 M324.241 2.38598 L326.105 2.38598 L326.105 4.74563 L324.241 4.74563 L324.241 2.38598 Z\" fill=\"#000000\" fill-rule=\"evenodd\" fill-opacity=\"1\" /><path clip-path=\"url(#clip120)\" d=\"M 0 0 M332.454 8.10788 Q330.956 8.10788 330.085 9.28265 Q329.214 10.4473 329.214 12.4829 Q329.214 14.5184 330.075 15.6932 Q330.945 16.8578 332.454 16.8578 Q333.943 16.8578 334.814 15.6831 Q335.685 14.5083 335.685 12.4829 Q335.685 10.4675 334.814 9.29277 Q333.943 8.10788 332.454 8.10788 M332.454 6.52803 Q334.885 6.52803 336.272 8.10788 Q337.66 9.68774 337.66 12.4829 Q337.66 15.2679 336.272 16.8578 Q334.885 18.4377 332.454 18.4377 Q330.014 18.4377 328.626 16.8578 Q327.249 15.2679 327.249 12.4829 Q327.249 9.68774 328.626 8.10788 Q330.014 6.52803 332.454 6.52803 Z\" fill=\"#000000\" fill-rule=\"evenodd\" fill-opacity=\"1\" /><path clip-path=\"url(#clip120)\" d=\"M 0 0 M341.417 16.4426 L341.417 22.4582 L339.544 22.4582 L339.544 6.80147 L341.417 6.80147 L341.417 8.5231 Q342.004 7.51038 342.896 7.02427 Q343.797 6.52803 345.043 6.52803 Q347.109 6.52803 348.395 8.16865 Q349.691 9.80926 349.691 12.4829 Q349.691 15.1565 348.395 16.7971 Q347.109 18.4377 345.043 18.4377 Q343.797 18.4377 342.896 17.9516 Q342.004 17.4553 341.417 16.4426 M347.757 12.4829 Q347.757 10.427 346.906 9.26239 Q346.065 8.08763 344.587 8.08763 Q343.108 8.08763 342.258 9.26239 Q341.417 10.427 341.417 12.4829 Q341.417 14.5387 342.258 15.7135 Q343.108 16.8781 344.587 16.8781 Q346.065 16.8781 346.906 15.7135 Q347.757 14.5387 347.757 12.4829 Z\" fill=\"#000000\" fill-rule=\"evenodd\" fill-opacity=\"1\" /><path clip-path=\"url(#clip120)\" d=\"M 0 0 M358.876 7.13567 L358.876 8.89781 Q358.087 8.49272 357.236 8.29018 Q356.385 8.08763 355.474 8.08763 Q354.086 8.08763 353.387 8.51298 Q352.699 8.93832 352.699 9.78901 Q352.699 10.4372 353.195 10.8119 Q353.691 11.1764 355.19 11.5106 L355.828 11.6524 Q357.813 12.0778 358.644 12.8576 Q359.484 13.6272 359.484 15.0147 Q359.484 16.5945 358.228 17.5161 Q356.983 18.4377 354.795 18.4377 Q353.884 18.4377 352.891 18.2554 Q351.909 18.0832 350.815 17.7288 L350.815 15.8046 Q351.848 16.3413 352.851 16.6148 Q353.853 16.8781 354.836 16.8781 Q356.152 16.8781 356.861 16.4325 Q357.57 15.9768 357.57 15.1565 Q357.57 14.3969 357.054 13.9918 Q356.547 13.5867 354.815 13.212 L354.167 13.0601 Q352.436 12.6955 351.666 11.9461 Q350.896 11.1866 350.896 9.87003 Q350.896 8.26992 352.03 7.39898 Q353.165 6.52803 355.251 6.52803 Q356.284 6.52803 357.195 6.67994 Q358.107 6.83185 358.876 7.13567 Z\" fill=\"#000000\" fill-rule=\"evenodd\" fill-opacity=\"1\" /><path clip-path=\"url(#clip120)\" d=\"M 0 0 M361.439 6.80147 L363.302 6.80147 L363.302 18.144 L361.439 18.144 L361.439 6.80147 M361.439 2.38598 L363.302 2.38598 L363.302 4.74563 L361.439 4.74563 L361.439 2.38598 Z\" fill=\"#000000\" fill-rule=\"evenodd\" fill-opacity=\"1\" /><path clip-path=\"url(#clip120)\" d=\"M 0 0 M370.411 12.4424 Q368.153 12.4424 367.282 12.9588 Q366.411 13.4753 366.411 14.721 Q366.411 15.7135 367.059 16.3008 Q367.718 16.8781 368.842 16.8781 Q370.391 16.8781 371.323 15.7843 Q372.265 14.6805 372.265 12.8576 L372.265 12.4424 L370.411 12.4424 M374.128 11.6727 L374.128 18.144 L372.265 18.144 L372.265 16.4224 Q371.627 17.4553 370.675 17.9516 Q369.723 18.4377 368.345 18.4377 Q366.604 18.4377 365.571 17.4655 Q364.548 16.4831 364.548 14.8425 Q364.548 12.9285 365.824 11.9562 Q367.11 10.984 369.652 10.984 L372.265 10.984 L372.265 10.8017 Q372.265 9.51557 371.414 8.81679 Q370.573 8.10788 369.044 8.10788 Q368.072 8.10788 367.15 8.34081 Q366.229 8.57374 365.378 9.03959 L365.378 7.31796 Q366.401 6.923 367.363 6.73058 Q368.325 6.52803 369.237 6.52803 Q371.698 6.52803 372.913 7.80407 Q374.128 9.0801 374.128 11.6727 Z\" fill=\"#000000\" fill-rule=\"evenodd\" fill-opacity=\"1\" /><path clip-path=\"url(#clip120)\" d=\"M 0 0 M383.314 7.13567 L383.314 8.89781 Q382.524 8.49272 381.673 8.29018 Q380.822 8.08763 379.911 8.08763 Q378.523 8.08763 377.825 8.51298 Q377.136 8.93832 377.136 9.78901 Q377.136 10.4372 377.632 10.8119 Q378.128 11.1764 379.627 11.5106 L380.265 11.6524 Q382.25 12.0778 383.081 12.8576 Q383.921 13.6272 383.921 15.0147 Q383.921 16.5945 382.665 17.5161 Q381.42 18.4377 379.232 18.4377 Q378.321 18.4377 377.328 18.2554 Q376.346 18.0832 375.252 17.7288 L375.252 15.8046 Q376.285 16.3413 377.288 16.6148 Q378.29 16.8781 379.273 16.8781 Q380.589 16.8781 381.298 16.4325 Q382.007 15.9768 382.007 15.1565 Q382.007 14.3969 381.491 13.9918 Q380.984 13.5867 379.253 13.212 L378.604 13.0601 Q376.873 12.6955 376.103 11.9461 Q375.333 11.1866 375.333 9.87003 Q375.333 8.26992 376.468 7.39898 Q377.602 6.52803 379.688 6.52803 Q380.721 6.52803 381.632 6.67994 Q382.544 6.83185 383.314 7.13567 Z\" fill=\"#000000\" fill-rule=\"evenodd\" fill-opacity=\"1\" /><path clip-path=\"url(#clip120)\" d=\"M 0 0 M394.271 16.4426 L394.271 22.4582 L392.398 22.4582 L392.398 6.80147 L394.271 6.80147 L394.271 8.5231 Q394.859 7.51038 395.75 7.02427 Q396.651 6.52803 397.897 6.52803 Q399.963 6.52803 401.249 8.16865 Q402.545 9.80926 402.545 12.4829 Q402.545 15.1565 401.249 16.7971 Q399.963 18.4377 397.897 18.4377 Q396.651 18.4377 395.75 17.9516 Q394.859 17.4553 394.271 16.4426 M400.611 12.4829 Q400.611 10.427 399.76 9.26239 Q398.92 8.08763 397.441 8.08763 Q395.963 8.08763 395.112 9.26239 Q394.271 10.427 394.271 12.4829 Q394.271 14.5387 395.112 15.7135 Q395.963 16.8781 397.441 16.8781 Q398.92 16.8781 399.76 15.7135 Q400.611 14.5387 400.611 12.4829 Z\" fill=\"#000000\" fill-rule=\"evenodd\" fill-opacity=\"1\" /><path clip-path=\"url(#clip120)\" d=\"M 0 0 M408.895 8.10788 Q407.396 8.10788 406.525 9.28265 Q405.654 10.4473 405.654 12.4829 Q405.654 14.5184 406.515 15.6932 Q407.386 16.8578 408.895 16.8578 Q410.384 16.8578 411.255 15.6831 Q412.126 14.5083 412.126 12.4829 Q412.126 10.4675 411.255 9.29277 Q410.384 8.10788 408.895 8.10788 M408.895 6.52803 Q411.326 6.52803 412.713 8.10788 Q414.1 9.68774 414.1 12.4829 Q414.1 15.2679 412.713 16.8578 Q411.326 18.4377 408.895 18.4377 Q406.454 18.4377 405.067 16.8578 Q403.69 15.2679 403.69 12.4829 Q403.69 9.68774 405.067 8.10788 Q406.454 6.52803 408.895 6.52803 Z\" fill=\"#000000\" fill-rule=\"evenodd\" fill-opacity=\"1\" /><path clip-path=\"url(#clip120)\" d=\"M 0 0 M422.628 8.54336 Q422.314 8.36107 421.939 8.28005 Q421.574 8.1889 421.129 8.1889 Q419.549 8.1889 418.698 9.22188 Q417.858 10.2447 417.858 12.1689 L417.858 18.144 L415.984 18.144 L415.984 6.80147 L417.858 6.80147 L417.858 8.56361 Q418.445 7.53063 419.387 7.0344 Q420.329 6.52803 421.676 6.52803 Q421.868 6.52803 422.101 6.55841 Q422.334 6.57867 422.617 6.6293 L422.628 8.54336 Z\" fill=\"#000000\" fill-rule=\"evenodd\" fill-opacity=\"1\" /><path clip-path=\"url(#clip120)\" d=\"M 0 0 M440.877 12.0069 L440.877 12.9183 L432.309 12.9183 Q432.431 14.8425 433.464 15.8552 Q434.507 16.8578 436.36 16.8578 Q437.434 16.8578 438.436 16.5945 Q439.449 16.3312 440.441 15.8046 L440.441 17.5667 Q439.439 17.9921 438.386 18.2149 Q437.332 18.4377 436.249 18.4377 Q433.535 18.4377 431.945 16.8578 Q430.365 15.278 430.365 12.5841 Q430.365 9.79914 431.864 8.16865 Q433.373 6.52803 435.925 6.52803 Q438.213 6.52803 439.54 8.00661 Q440.877 9.47506 440.877 12.0069 M439.013 11.46 Q438.993 9.93079 438.153 9.01934 Q437.322 8.10788 435.945 8.10788 Q434.385 8.10788 433.443 8.98896 Q432.512 9.87003 432.37 11.4701 L439.013 11.46 Z\" fill=\"#000000\" fill-rule=\"evenodd\" fill-opacity=\"1\" /><path clip-path=\"url(#clip120)\" d=\"M 0 0 M450.295 8.5231 L450.295 2.38598 L452.159 2.38598 L452.159 18.144 L450.295 18.144 L450.295 16.4426 Q449.708 17.4553 448.807 17.9516 Q447.915 18.4377 446.66 18.4377 Q444.604 18.4377 443.307 16.7971 Q442.021 15.1565 442.021 12.4829 Q442.021 9.80926 443.307 8.16865 Q444.604 6.52803 446.66 6.52803 Q447.915 6.52803 448.807 7.02427 Q449.708 7.51038 450.295 8.5231 M443.945 12.4829 Q443.945 14.5387 444.786 15.7135 Q445.637 16.8781 447.115 16.8781 Q448.594 16.8781 449.445 15.7135 Q450.295 14.5387 450.295 12.4829 Q450.295 10.427 449.445 9.26239 Q448.594 8.08763 447.115 8.08763 Q445.637 8.08763 444.786 9.26239 Q443.945 10.427 443.945 12.4829 Z\" fill=\"#000000\" fill-rule=\"evenodd\" fill-opacity=\"1\" /><path clip-path=\"url(#clip120)\" d=\"M 0 0 M459.268 12.4424 Q457.01 12.4424 456.139 12.9588 Q455.268 13.4753 455.268 14.721 Q455.268 15.7135 455.916 16.3008 Q456.574 16.8781 457.698 16.8781 Q459.248 16.8781 460.179 15.7843 Q461.121 14.6805 461.121 12.8576 L461.121 12.4424 L459.268 12.4424 M462.985 11.6727 L462.985 18.144 L461.121 18.144 L461.121 16.4224 Q460.483 17.4553 459.531 17.9516 Q458.579 18.4377 457.202 18.4377 Q455.46 18.4377 454.427 17.4655 Q453.404 16.4831 453.404 14.8425 Q453.404 12.9285 454.68 11.9562 Q455.967 10.984 458.508 10.984 L461.121 10.984 L461.121 10.8017 Q461.121 9.51557 460.271 8.81679 Q459.43 8.10788 457.901 8.10788 Q456.929 8.10788 456.007 8.34081 Q455.085 8.57374 454.235 9.03959 L454.235 7.31796 Q455.258 6.923 456.22 6.73058 Q457.182 6.52803 458.093 6.52803 Q460.554 6.52803 461.769 7.80407 Q462.985 9.0801 462.985 11.6727 Z\" fill=\"#000000\" fill-rule=\"evenodd\" fill-opacity=\"1\" /><path clip-path=\"url(#clip120)\" d=\"M 0 0 M472.403 8.5231 L472.403 2.38598 L474.266 2.38598 L474.266 18.144 L472.403 18.144 L472.403 16.4426 Q471.816 17.4553 470.914 17.9516 Q470.023 18.4377 468.767 18.4377 Q466.712 18.4377 465.415 16.7971 Q464.129 15.1565 464.129 12.4829 Q464.129 9.80926 465.415 8.16865 Q466.712 6.52803 468.767 6.52803 Q470.023 6.52803 470.914 7.02427 Q471.816 7.51038 472.403 8.5231 M466.053 12.4829 Q466.053 14.5387 466.894 15.7135 Q467.745 16.8781 469.223 16.8781 Q470.702 16.8781 471.552 15.7135 Q472.403 14.5387 472.403 12.4829 Q472.403 10.427 471.552 9.26239 Q470.702 8.08763 469.223 8.08763 Q467.745 8.08763 466.894 9.26239 Q466.053 10.427 466.053 12.4829 Z\" fill=\"#000000\" fill-rule=\"evenodd\" fill-opacity=\"1\" /><path clip-path=\"url(#clip122)\" d=\"\nM92.9462 346.371 L92.9462 346.599 L139.588 346.599 L139.588 346.371 L92.9462 346.371 L92.9462 346.371  Z\n  \" fill=\"#009af9\" fill-rule=\"evenodd\" fill-opacity=\"1\"/>\n<polyline clip-path=\"url(#clip122)\" style=\"stroke:#000000; stroke-width:1; stroke-opacity:1; fill:none\" points=\"\n  92.9462,346.371 92.9462,346.599 139.588,346.599 139.588,346.371 92.9462,346.371 \n  \"/>\n<path clip-path=\"url(#clip122)\" d=\"\nM139.588 299.673 L139.588 346.599 L186.23 346.599 L186.23 299.673 L139.588 299.673 L139.588 299.673  Z\n  \" fill=\"#009af9\" fill-rule=\"evenodd\" fill-opacity=\"1\"/>\n<polyline clip-path=\"url(#clip122)\" style=\"stroke:#000000; stroke-width:1; stroke-opacity:1; fill:none\" points=\"\n  139.588,299.673 139.588,346.599 186.23,346.599 186.23,299.673 139.588,299.673 \n  \"/>\n<path clip-path=\"url(#clip122)\" d=\"\nM186.23 186.688 L186.23 346.599 L232.872 346.599 L232.872 186.688 L186.23 186.688 L186.23 186.688  Z\n  \" fill=\"#009af9\" fill-rule=\"evenodd\" fill-opacity=\"1\"/>\n<polyline clip-path=\"url(#clip122)\" style=\"stroke:#000000; stroke-width:1; stroke-opacity:1; fill:none\" points=\"\n  186.23,186.688 186.23,346.599 232.872,346.599 232.872,186.688 186.23,186.688 \n  \"/>\n<path clip-path=\"url(#clip122)\" d=\"\nM232.872 162.541 L232.872 346.599 L279.513 346.599 L279.513 162.541 L232.872 162.541 L232.872 162.541  Z\n  \" fill=\"#009af9\" fill-rule=\"evenodd\" fill-opacity=\"1\"/>\n<polyline clip-path=\"url(#clip122)\" style=\"stroke:#000000; stroke-width:1; stroke-opacity:1; fill:none\" points=\"\n  232.872,162.541 232.872,346.599 279.513,346.599 279.513,162.541 232.872,162.541 \n  \"/>\n<path clip-path=\"url(#clip122)\" d=\"\nM279.513 133.915 L279.513 346.599 L326.155 346.599 L326.155 133.915 L279.513 133.915 L279.513 133.915  Z\n  \" fill=\"#009af9\" fill-rule=\"evenodd\" fill-opacity=\"1\"/>\n<polyline clip-path=\"url(#clip122)\" style=\"stroke:#000000; stroke-width:1; stroke-opacity:1; fill:none\" points=\"\n  279.513,133.915 279.513,346.599 326.155,346.599 326.155,133.915 279.513,133.915 \n  \"/>\n<path clip-path=\"url(#clip122)\" d=\"\nM326.155 40.0641 L326.155 346.599 L372.797 346.599 L372.797 40.0641 L326.155 40.0641 L326.155 40.0641  Z\n  \" fill=\"#009af9\" fill-rule=\"evenodd\" fill-opacity=\"1\"/>\n<polyline clip-path=\"url(#clip122)\" style=\"stroke:#000000; stroke-width:1; stroke-opacity:1; fill:none\" points=\"\n  326.155,40.0641 326.155,346.599 372.797,346.599 372.797,40.0641 326.155,40.0641 \n  \"/>\n<path clip-path=\"url(#clip122)\" d=\"\nM372.797 124.044 L372.797 346.599 L419.439 346.599 L419.439 124.044 L372.797 124.044 L372.797 124.044  Z\n  \" fill=\"#009af9\" fill-rule=\"evenodd\" fill-opacity=\"1\"/>\n<polyline clip-path=\"url(#clip122)\" style=\"stroke:#000000; stroke-width:1; stroke-opacity:1; fill:none\" points=\"\n  372.797,124.044 372.797,346.599 419.439,346.599 419.439,124.044 372.797,124.044 \n  \"/>\n<path clip-path=\"url(#clip122)\" d=\"\nM419.439 160.719 L419.439 346.599 L466.081 346.599 L466.081 160.719 L419.439 160.719 L419.439 160.719  Z\n  \" fill=\"#009af9\" fill-rule=\"evenodd\" fill-opacity=\"1\"/>\n<polyline clip-path=\"url(#clip122)\" style=\"stroke:#000000; stroke-width:1; stroke-opacity:1; fill:none\" points=\"\n  419.439,160.719 419.439,346.599 466.081,346.599 466.081,160.719 419.439,160.719 \n  \"/>\n<path clip-path=\"url(#clip122)\" d=\"\nM466.081 267.478 L466.081 346.599 L512.723 346.599 L512.723 267.478 L466.081 267.478 L466.081 267.478  Z\n  \" fill=\"#009af9\" fill-rule=\"evenodd\" fill-opacity=\"1\"/>\n<polyline clip-path=\"url(#clip122)\" style=\"stroke:#000000; stroke-width:1; stroke-opacity:1; fill:none\" points=\"\n  466.081,267.478 466.081,346.599 512.723,346.599 512.723,267.478 466.081,267.478 \n  \"/>\n<path clip-path=\"url(#clip122)\" d=\"\nM512.723 334.754 L512.723 346.599 L559.364 346.599 L559.364 334.754 L512.723 334.754 L512.723 334.754  Z\n  \" fill=\"#009af9\" fill-rule=\"evenodd\" fill-opacity=\"1\"/>\n<polyline clip-path=\"url(#clip122)\" style=\"stroke:#000000; stroke-width:1; stroke-opacity:1; fill:none\" points=\"\n  512.723,334.754 512.723,346.599 559.364,346.599 559.364,334.754 512.723,334.754 \n  \"/>\n<path clip-path=\"url(#clip120)\" d=\"\nM499.736 71.9389 L570.72 71.9389 L570.72 41.6989 L499.736 41.6989  Z\n  \" fill=\"#ffffff\" fill-rule=\"evenodd\" fill-opacity=\"1\"/>\n<polyline clip-path=\"url(#clip120)\" style=\"stroke:#000000; stroke-width:1; stroke-opacity:1; fill:none\" points=\"\n  499.736,71.9389 570.72,71.9389 570.72,41.6989 499.736,41.6989 499.736,71.9389 \n  \"/>\n<path clip-path=\"url(#clip120)\" d=\"\nM505.559 62.8669 L540.497 62.8669 L540.497 50.7709 L505.559 50.7709 L505.559 62.8669  Z\n  \" fill=\"#009af9\" fill-rule=\"evenodd\" fill-opacity=\"1\"/>\n<polyline clip-path=\"url(#clip120)\" style=\"stroke:#000000; stroke-width:1; stroke-opacity:1; fill:none\" points=\"\n  505.559,62.8669 540.497,62.8669 540.497,50.7709 505.559,50.7709 505.559,62.8669 \n  \"/>\n<path clip-path=\"url(#clip120)\" d=\"M 0 0 M549.78 61.7408 Q549.329 62.8982 548.901 63.2512 Q548.472 63.6042 547.755 63.6042 L546.904 63.6042 L546.904 62.713 L547.529 62.713 Q547.969 62.713 548.212 62.5047 Q548.455 62.2963 548.75 61.5209 L548.941 61.0348 L546.32 54.6575 L547.448 54.6575 L549.473 59.7269 L551.499 54.6575 L552.627 54.6575 L549.78 61.7408 Z\" fill=\"#000000\" fill-rule=\"evenodd\" fill-opacity=\"1\" /><path clip-path=\"url(#clip120)\" d=\"M 0 0 M554.097 60.1551 L556.007 60.1551 L556.007 53.5637 L553.929 53.9804 L553.929 52.9156 L555.995 52.4989 L557.164 52.4989 L557.164 60.1551 L559.074 60.1551 L559.074 61.1389 L554.097 61.1389 L554.097 60.1551 Z\" fill=\"#000000\" fill-rule=\"evenodd\" fill-opacity=\"1\" /></svg>\n"
     },
     "metadata": {},
     "output_type": "display_data"
    }
   ],
   "source": [
    "grafico=histogram(df_otro.Edad, bins = intervalos_edad, xlabel = \"Edad\", ylabel = \"Frecuencia\",title = \"Frecuencia de biopsias por edad\") \n",
    "display(grafico)"
   ]
  },
  {
   "cell_type": "code",
   "execution_count": 30,
   "metadata": {},
   "outputs": [
    {
     "data": {
      "text/plain": [
       "Dict{Int64, String} with 6 entries:\n",
       "  5 => \"BAAF\"\n",
       "  4 => \"Incision\"\n",
       "  6 => \"ALGUNA\"\n",
       "  2 => \"Escision\"\n",
       "  3 => \"Raspado\"\n",
       "  1 => \"Puncion\""
      ]
     },
     "execution_count": 30,
     "metadata": {},
     "output_type": "execute_result"
    }
   ],
   "source": [
    "dic_bio = Dict(1=>\"Puncion\",2=>\"Escision\",3=>\"Raspado\",4=>\"Incision\",5=>\"BAAF\",6=>\"ALGUNA\")"
   ]
  },
  {
   "cell_type": "code",
   "execution_count": 31,
   "metadata": {},
   "outputs": [
    {
     "data": {
      "text/plain": [
       "Dict{String, String} with 4 entries:\n",
       "  \"B\" => \"Blanca\"\n",
       "  \"A\" => \"Amarilla\"\n",
       "  \"M\" => \"Mestiza\"\n",
       "  \"N\" => \"Negra\""
      ]
     },
     "execution_count": 31,
     "metadata": {},
     "output_type": "execute_result"
    }
   ],
   "source": [
    "dic_piel = Dict(\"A\"=>\"Amarilla\",\"B\"=>\"Blanca\",\"N\"=>\"Negra\",\"M\"=>\"Mestiza\")\n",
    "#Falta el diccionario de Medico y Especialidad"
   ]
  },
  {
   "cell_type": "code",
   "execution_count": 32,
   "metadata": {},
   "outputs": [
    {
     "data": {
      "text/html": [
       "<div><div style = \"float: left;\"><span>18569×6 DataFrame</span></div><div style = \"float: right;\"><span style = \"font-style: italic;\">18544 rows omitted</span></div><div style = \"clear: both;\"></div></div><div class = \"data-frame\" style = \"overflow-x: scroll;\"><table class = \"data-frame\" style = \"margin-bottom: 6px;\"><thead><tr class = \"header\"><th class = \"rowNumber\" style = \"font-weight: bold; text-align: right;\">Row</th><th style = \"text-align: left;\">Edad</th><th style = \"text-align: left;\">Sexo</th><th style = \"text-align: left;\">ColordePiel</th><th style = \"text-align: left;\">TipoBiopsia</th><th style = \"text-align: left;\">Medico</th><th style = \"text-align: left;\">Especialidad</th></tr><tr class = \"subheader headerLastRow\"><th class = \"rowNumber\" style = \"font-weight: bold; text-align: right;\"></th><th title = \"Any\" style = \"text-align: left;\">Any</th><th title = \"Any\" style = \"text-align: left;\">Any</th><th title = \"Any\" style = \"text-align: left;\">Any</th><th title = \"Any\" style = \"text-align: left;\">Any</th><th title = \"Any\" style = \"text-align: left;\">Any</th><th title = \"Any\" style = \"text-align: left;\">Any</th></tr></thead><tbody><tr><td class = \"rowNumber\" style = \"font-weight: bold; text-align: right;\">1</td><td style = \"text-align: left;\">58</td><td style = \"text-align: left;\">F</td><td style = \"text-align: left;\">M</td><td style = \"text-align: left;\">4</td><td style = \"text-align: left;\">181776</td><td style = \"text-align: left;\">803</td></tr><tr><td class = \"rowNumber\" style = \"font-weight: bold; text-align: right;\">2</td><td style = \"text-align: left;\">53</td><td style = \"text-align: left;\">F</td><td style = \"text-align: left;\">B</td><td style = \"text-align: left;\">4</td><td style = \"text-align: left;\">98295</td><td style = \"text-align: left;\">201</td></tr><tr><td class = \"rowNumber\" style = \"font-weight: bold; text-align: right;\">3</td><td style = \"text-align: left;\">27</td><td style = \"text-align: left;\">F</td><td style = \"text-align: left;\">B</td><td style = \"text-align: left;\">1</td><td style = \"text-align: left;\">2099</td><td style = \"text-align: left;\">803</td></tr><tr><td class = \"rowNumber\" style = \"font-weight: bold; text-align: right;\">4</td><td style = \"text-align: left;\">80</td><td style = \"text-align: left;\">F</td><td style = \"text-align: left;\">B</td><td style = \"text-align: left;\">1</td><td style = \"text-align: left;\">143217</td><td style = \"text-align: left;\">211</td></tr><tr><td class = \"rowNumber\" style = \"font-weight: bold; text-align: right;\">5</td><td style = \"text-align: left;\">40</td><td style = \"text-align: left;\">F</td><td style = \"text-align: left;\">M</td><td style = \"text-align: left;\">4</td><td style = \"text-align: left;\">181776</td><td style = \"text-align: left;\">803</td></tr><tr><td class = \"rowNumber\" style = \"font-weight: bold; text-align: right;\">6</td><td style = \"text-align: left;\">23</td><td style = \"text-align: left;\">F</td><td style = \"text-align: left;\">B</td><td style = \"text-align: left;\">4</td><td style = \"text-align: left;\">181719</td><td style = \"text-align: left;\">803</td></tr><tr><td class = \"rowNumber\" style = \"font-weight: bold; text-align: right;\">7</td><td style = \"text-align: left;\">24</td><td style = \"text-align: left;\">M</td><td style = \"text-align: left;\">N</td><td style = \"text-align: left;\">1</td><td style = \"text-align: left;\">143221</td><td style = \"text-align: left;\">211</td></tr><tr><td class = \"rowNumber\" style = \"font-weight: bold; text-align: right;\">8</td><td style = \"text-align: left;\">47</td><td style = \"text-align: left;\">F</td><td style = \"text-align: left;\">B</td><td style = \"text-align: left;\">1</td><td style = \"text-align: left;\">12126</td><td style = \"text-align: left;\">803</td></tr><tr><td class = \"rowNumber\" style = \"font-weight: bold; text-align: right;\">9</td><td style = \"text-align: left;\">50</td><td style = \"text-align: left;\">F</td><td style = \"text-align: left;\">B</td><td style = \"text-align: left;\">1</td><td style = \"text-align: left;\">143217</td><td style = \"text-align: left;\">211</td></tr><tr><td class = \"rowNumber\" style = \"font-weight: bold; text-align: right;\">10</td><td style = \"text-align: left;\">58</td><td style = \"text-align: left;\">F</td><td style = \"text-align: left;\">B</td><td style = \"text-align: left;\">1</td><td style = \"text-align: left;\">12126</td><td style = \"text-align: left;\">803</td></tr><tr><td class = \"rowNumber\" style = \"font-weight: bold; text-align: right;\">11</td><td style = \"text-align: left;\">58</td><td style = \"text-align: left;\">F</td><td style = \"text-align: left;\">B</td><td style = \"text-align: left;\">2</td><td style = \"text-align: left;\">122490</td><td style = \"text-align: left;\">111</td></tr><tr><td class = \"rowNumber\" style = \"font-weight: bold; text-align: right;\">12</td><td style = \"text-align: left;\">49</td><td style = \"text-align: left;\">F</td><td style = \"text-align: left;\">B</td><td style = \"text-align: left;\">5</td><td style = \"text-align: left;\">12126</td><td style = \"text-align: left;\">803</td></tr><tr><td class = \"rowNumber\" style = \"font-weight: bold; text-align: right;\">13</td><td style = \"text-align: left;\">67</td><td style = \"text-align: left;\">M</td><td style = \"text-align: left;\">B</td><td style = \"text-align: left;\">4</td><td style = \"text-align: left;\">74112</td><td style = \"text-align: left;\">108</td></tr><tr><td style = \"text-align: right;\">&vellip;</td><td style = \"text-align: right;\">&vellip;</td><td style = \"text-align: right;\">&vellip;</td><td style = \"text-align: right;\">&vellip;</td><td style = \"text-align: right;\">&vellip;</td><td style = \"text-align: right;\">&vellip;</td><td style = \"text-align: right;\">&vellip;</td></tr><tr><td class = \"rowNumber\" style = \"font-weight: bold; text-align: right;\">18558</td><td style = \"text-align: left;\">69</td><td style = \"text-align: left;\">M</td><td style = \"text-align: left;\">B</td><td style = \"text-align: left;\">4</td><td style = \"text-align: left;\">92696</td><td style = \"text-align: left;\">108</td></tr><tr><td class = \"rowNumber\" style = \"font-weight: bold; text-align: right;\">18559</td><td style = \"text-align: left;\">76</td><td style = \"text-align: left;\">M</td><td style = \"text-align: left;\">B</td><td style = \"text-align: left;\">4</td><td style = \"text-align: left;\">79773</td><td style = \"text-align: left;\">206</td></tr><tr><td class = \"rowNumber\" style = \"font-weight: bold; text-align: right;\">18560</td><td style = \"text-align: left;\">26</td><td style = \"text-align: left;\">F</td><td style = \"text-align: left;\">N</td><td style = \"text-align: left;\">4</td><td style = \"text-align: left;\">65028</td><td style = \"text-align: left;\">204</td></tr><tr><td class = \"rowNumber\" style = \"font-weight: bold; text-align: right;\">18561</td><td style = \"text-align: left;\">74</td><td style = \"text-align: left;\">F</td><td style = \"text-align: left;\">B</td><td style = \"text-align: left;\">4</td><td style = \"text-align: left;\">65885</td><td style = \"text-align: left;\">108</td></tr><tr><td class = \"rowNumber\" style = \"font-weight: bold; text-align: right;\">18562</td><td style = \"text-align: left;\">74</td><td style = \"text-align: left;\">F</td><td style = \"text-align: left;\">B</td><td style = \"text-align: left;\">4</td><td style = \"text-align: left;\">65885</td><td style = \"text-align: left;\">108</td></tr><tr><td class = \"rowNumber\" style = \"font-weight: bold; text-align: right;\">18563</td><td style = \"text-align: left;\">55</td><td style = \"text-align: left;\">F</td><td style = \"text-align: left;\">B</td><td style = \"text-align: left;\">4</td><td style = \"text-align: left;\">54563</td><td style = \"text-align: left;\">209</td></tr><tr><td class = \"rowNumber\" style = \"font-weight: bold; text-align: right;\">18564</td><td style = \"text-align: left;\">65</td><td style = \"text-align: left;\">F</td><td style = \"text-align: left;\">B</td><td style = \"text-align: left;\">4</td><td style = \"text-align: left;\">65885</td><td style = \"text-align: left;\">108</td></tr><tr><td class = \"rowNumber\" style = \"font-weight: bold; text-align: right;\">18565</td><td style = \"text-align: left;\">60</td><td style = \"text-align: left;\">F</td><td style = \"text-align: left;\">B</td><td style = \"text-align: left;\">4</td><td style = \"text-align: left;\">94755</td><td style = \"text-align: left;\">108</td></tr><tr><td class = \"rowNumber\" style = \"font-weight: bold; text-align: right;\">18566</td><td style = \"text-align: left;\">86</td><td style = \"text-align: left;\">M</td><td style = \"text-align: left;\">B</td><td style = \"text-align: left;\">4</td><td style = \"text-align: left;\">92696</td><td style = \"text-align: left;\">108</td></tr><tr><td class = \"rowNumber\" style = \"font-weight: bold; text-align: right;\">18567</td><td style = \"text-align: left;\">55</td><td style = \"text-align: left;\">F</td><td style = \"text-align: left;\">B</td><td style = \"text-align: left;\">4</td><td style = \"text-align: left;\">92696</td><td style = \"text-align: left;\">108</td></tr><tr><td class = \"rowNumber\" style = \"font-weight: bold; text-align: right;\">18568</td><td style = \"text-align: left;\">96</td><td style = \"text-align: left;\">M</td><td style = \"text-align: left;\">B</td><td style = \"text-align: left;\">4</td><td style = \"text-align: left;\">92696</td><td style = \"text-align: left;\">108</td></tr><tr><td class = \"rowNumber\" style = \"font-weight: bold; text-align: right;\">18569</td><td style = \"text-align: left;\">84</td><td style = \"text-align: left;\">F</td><td style = \"text-align: left;\">B</td><td style = \"text-align: left;\">4</td><td style = \"text-align: left;\">79810</td><td style = \"text-align: left;\">201</td></tr></tbody></table></div>"
      ],
      "text/latex": [
       "\\begin{tabular}{r|cccccc}\n",
       "\t& Edad & Sexo & ColordePiel & TipoBiopsia & Medico & Especialidad\\\\\n",
       "\t\\hline\n",
       "\t& Any & Any & Any & Any & Any & Any\\\\\n",
       "\t\\hline\n",
       "\t1 & 58 & F & M & 4 & 181776 & 803 \\\\\n",
       "\t2 & 53 & F & B & 4 & 98295 & 201 \\\\\n",
       "\t3 & 27 & F & B & 1 & 2099 & 803 \\\\\n",
       "\t4 & 80 & F & B & 1 & 143217 & 211 \\\\\n",
       "\t5 & 40 & F & M & 4 & 181776 & 803 \\\\\n",
       "\t6 & 23 & F & B & 4 & 181719 & 803 \\\\\n",
       "\t7 & 24 & M & N & 1 & 143221 & 211 \\\\\n",
       "\t8 & 47 & F & B & 1 & 12126 & 803 \\\\\n",
       "\t9 & 50 & F & B & 1 & 143217 & 211 \\\\\n",
       "\t10 & 58 & F & B & 1 & 12126 & 803 \\\\\n",
       "\t11 & 58 & F & B & 2 & 122490 & 111 \\\\\n",
       "\t12 & 49 & F & B & 5 & 12126 & 803 \\\\\n",
       "\t13 & 67 & M & B & 4 & 74112 & 108 \\\\\n",
       "\t14 & 30 & F & B & 5 & 12126 & 803 \\\\\n",
       "\t15 & 73 & M & B & 1 & 42469 & 104 \\\\\n",
       "\t16 & 39 & M & B & 1 & 143090 & 209 \\\\\n",
       "\t17 & 53 & M & B & 4 & 101668 & 208 \\\\\n",
       "\t18 & 68 & M & B & 4 & 49920 & 108 \\\\\n",
       "\t19 & 45 & M & B & 4 & 41031 & 201 \\\\\n",
       "\t20 & 40 & F & B & 1 & 49950 & 108 \\\\\n",
       "\t21 & 91 & M & B & 4 & 181460 & 201 \\\\\n",
       "\t22 & 64 & M & B & 1 & 32977 & 108 \\\\\n",
       "\t23 & 52 & F & B & 1 & 198122 & 209 \\\\\n",
       "\t24 & 43 & F & B & 4 & 85010 & 201 \\\\\n",
       "\t25 & 52 & M & B & 1 & 94738 & 108 \\\\\n",
       "\t26 & 44 & F & B & 4 & 41031 & 201 \\\\\n",
       "\t27 & 43 & M & B & 4 & 78084 & 201 \\\\\n",
       "\t28 & 43 & F & B & 4 & 41031 & 201 \\\\\n",
       "\t29 & 71 & F & B & 1 & 113171 & 108 \\\\\n",
       "\t30 & 69 & M & B & 4 & 21946 & 210 \\\\\n",
       "\t$\\dots$ & $\\dots$ & $\\dots$ & $\\dots$ & $\\dots$ & $\\dots$ & $\\dots$ \\\\\n",
       "\\end{tabular}\n"
      ],
      "text/plain": [
       "\u001b[1m18569×6 DataFrame\u001b[0m\n",
       "\u001b[1m   Row \u001b[0m│\u001b[1m Edad \u001b[0m\u001b[1m Sexo \u001b[0m\u001b[1m ColordePiel \u001b[0m\u001b[1m TipoBiopsia \u001b[0m\u001b[1m Medico \u001b[0m\u001b[1m Especialidad \u001b[0m\n",
       "       │\u001b[90m Any  \u001b[0m\u001b[90m Any  \u001b[0m\u001b[90m Any         \u001b[0m\u001b[90m Any         \u001b[0m\u001b[90m Any    \u001b[0m\u001b[90m Any          \u001b[0m\n",
       "───────┼────────────────────────────────────────────────────────────\n",
       "     1 │ 58    F     M            4            181776  803\n",
       "     2 │ 53    F     B            4            98295   201\n",
       "     3 │ 27    F     B            1            2099    803\n",
       "     4 │ 80    F     B            1            143217  211\n",
       "     5 │ 40    F     M            4            181776  803\n",
       "     6 │ 23    F     B            4            181719  803\n",
       "     7 │ 24    M     N            1            143221  211\n",
       "     8 │ 47    F     B            1            12126   803\n",
       "     9 │ 50    F     B            1            143217  211\n",
       "    10 │ 58    F     B            1            12126   803\n",
       "    11 │ 58    F     B            2            122490  111\n",
       "   ⋮   │  ⋮     ⋮         ⋮            ⋮         ⋮          ⋮\n",
       " 18560 │ 26    F     N            4            65028   204\n",
       " 18561 │ 74    F     B            4            65885   108\n",
       " 18562 │ 74    F     B            4            65885   108\n",
       " 18563 │ 55    F     B            4            54563   209\n",
       " 18564 │ 65    F     B            4            65885   108\n",
       " 18565 │ 60    F     B            4            94755   108\n",
       " 18566 │ 86    M     B            4            92696   108\n",
       " 18567 │ 55    F     B            4            92696   108\n",
       " 18568 │ 96    M     B            4            92696   108\n",
       " 18569 │ 84    F     B            4            79810   201\n",
       "\u001b[36m                                                  18548 rows omitted\u001b[0m"
      ]
     },
     "execution_count": 32,
     "metadata": {},
     "output_type": "execute_result"
    }
   ],
   "source": [
    "df_corto=select(df_otro,\"Edad\",\"Sexo\",\"ColordePiel\",\"TipoBiopsia\",\"Medico\",\"Especialidad\")"
   ]
  },
  {
   "cell_type": "code",
   "execution_count": 33,
   "metadata": {},
   "outputs": [
    {
     "data": {
      "text/html": [
       "<div><div style = \"float: left;\"><span>6×7 DataFrame</span></div><div style = \"clear: both;\"></div></div><div class = \"data-frame\" style = \"overflow-x: scroll;\"><table class = \"data-frame\" style = \"margin-bottom: 6px;\"><thead><tr class = \"header\"><th class = \"rowNumber\" style = \"font-weight: bold; text-align: right;\">Row</th><th style = \"text-align: left;\">variable</th><th style = \"text-align: left;\">mean</th><th style = \"text-align: left;\">min</th><th style = \"text-align: left;\">median</th><th style = \"text-align: left;\">max</th><th style = \"text-align: left;\">nmissing</th><th style = \"text-align: left;\">eltype</th></tr><tr class = \"subheader headerLastRow\"><th class = \"rowNumber\" style = \"font-weight: bold; text-align: right;\"></th><th title = \"Symbol\" style = \"text-align: left;\">Symbol</th><th title = \"Union{Nothing, Float64}\" style = \"text-align: left;\">Union…</th><th title = \"Any\" style = \"text-align: left;\">Any</th><th title = \"Union{Nothing, Float64}\" style = \"text-align: left;\">Union…</th><th title = \"Any\" style = \"text-align: left;\">Any</th><th title = \"Int64\" style = \"text-align: left;\">Int64</th><th title = \"DataType\" style = \"text-align: left;\">DataType</th></tr></thead><tbody><tr><td class = \"rowNumber\" style = \"font-weight: bold; text-align: right;\">1</td><td style = \"text-align: left;\">Edad</td><td style = \"text-align: left;\">51.9306</td><td style = \"text-align: left;\">1</td><td style = \"text-align: left;\">53.0</td><td style = \"text-align: left;\">100</td><td style = \"text-align: right;\">0</td><td style = \"text-align: left;\">Any</td></tr><tr><td class = \"rowNumber\" style = \"font-weight: bold; text-align: right;\">2</td><td style = \"text-align: left;\">Sexo</td><td style = \"font-style: italic; text-align: left;\"></td><td style = \"text-align: left;\">F</td><td style = \"font-style: italic; text-align: left;\"></td><td style = \"text-align: left;\">M</td><td style = \"text-align: right;\">0</td><td style = \"text-align: left;\">Any</td></tr><tr><td class = \"rowNumber\" style = \"font-weight: bold; text-align: right;\">3</td><td style = \"text-align: left;\">ColordePiel</td><td style = \"font-style: italic; text-align: left;\"></td><td style = \"text-align: left;\">A</td><td style = \"font-style: italic; text-align: left;\"></td><td style = \"text-align: left;\">N</td><td style = \"text-align: right;\">0</td><td style = \"text-align: left;\">Any</td></tr><tr><td class = \"rowNumber\" style = \"font-weight: bold; text-align: right;\">4</td><td style = \"text-align: left;\">TipoBiopsia</td><td style = \"text-align: left;\">2.95837</td><td style = \"text-align: left;\">1</td><td style = \"text-align: left;\">4.0</td><td style = \"text-align: left;\">5</td><td style = \"text-align: right;\">0</td><td style = \"text-align: left;\">Any</td></tr><tr><td class = \"rowNumber\" style = \"font-weight: bold; text-align: right;\">5</td><td style = \"text-align: left;\">Medico</td><td style = \"text-align: left;\">8.24729e5</td><td style = \"text-align: left;\">1493</td><td style = \"text-align: left;\">92696.0</td><td style = \"text-align: left;\">21003492</td><td style = \"text-align: right;\">0</td><td style = \"text-align: left;\">Any</td></tr><tr><td class = \"rowNumber\" style = \"font-weight: bold; text-align: right;\">6</td><td style = \"text-align: left;\">Especialidad</td><td style = \"text-align: left;\">354.802</td><td style = \"text-align: left;\">101</td><td style = \"text-align: left;\">203.0</td><td style = \"text-align: left;\">2003</td><td style = \"text-align: right;\">0</td><td style = \"text-align: left;\">Any</td></tr></tbody></table></div>"
      ],
      "text/latex": [
       "\\begin{tabular}{r|ccccccc}\n",
       "\t& variable & mean & min & median & max & nmissing & eltype\\\\\n",
       "\t\\hline\n",
       "\t& Symbol & Union… & Any & Union… & Any & Int64 & DataType\\\\\n",
       "\t\\hline\n",
       "\t1 & Edad & 51.9306 & 1 & 53.0 & 100 & 0 & Any \\\\\n",
       "\t2 & Sexo &  & F &  & M & 0 & Any \\\\\n",
       "\t3 & ColordePiel &  & A &  & N & 0 & Any \\\\\n",
       "\t4 & TipoBiopsia & 2.95837 & 1 & 4.0 & 5 & 0 & Any \\\\\n",
       "\t5 & Medico & 8.24729e5 & 1493 & 92696.0 & 21003492 & 0 & Any \\\\\n",
       "\t6 & Especialidad & 354.802 & 101 & 203.0 & 2003 & 0 & Any \\\\\n",
       "\\end{tabular}\n"
      ],
      "text/plain": [
       "\u001b[1m6×7 DataFrame\u001b[0m\n",
       "\u001b[1m Row \u001b[0m│\u001b[1m variable     \u001b[0m\u001b[1m mean      \u001b[0m\u001b[1m min  \u001b[0m\u001b[1m median  \u001b[0m\u001b[1m max      \u001b[0m\u001b[1m nmissing \u001b[0m\u001b[1m eltype   \u001b[0m\n",
       "     │\u001b[90m Symbol       \u001b[0m\u001b[90m Union…    \u001b[0m\u001b[90m Any  \u001b[0m\u001b[90m Union…  \u001b[0m\u001b[90m Any      \u001b[0m\u001b[90m Int64    \u001b[0m\u001b[90m DataType \u001b[0m\n",
       "─────┼──────────────────────────────────────────────────────────────────────\n",
       "   1 │ Edad          51.9306    1     53.0     100              0  Any\n",
       "   2 │ Sexo         \u001b[90m           \u001b[0m F    \u001b[90m         \u001b[0m M                0  Any\n",
       "   3 │ ColordePiel  \u001b[90m           \u001b[0m A    \u001b[90m         \u001b[0m N                0  Any\n",
       "   4 │ TipoBiopsia   2.95837    1     4.0      5                0  Any\n",
       "   5 │ Medico        8.24729e5  1493  92696.0  21003492         0  Any\n",
       "   6 │ Especialidad  354.802    101   203.0    2003             0  Any"
      ]
     },
     "execution_count": 33,
     "metadata": {},
     "output_type": "execute_result"
    }
   ],
   "source": [
    "describe(df_corto)"
   ]
  },
  {
   "cell_type": "code",
   "execution_count": 34,
   "metadata": {},
   "outputs": [
    {
     "data": {
      "text/plain": [
       "18.455813647708553"
      ]
     },
     "execution_count": 34,
     "metadata": {},
     "output_type": "execute_result"
    }
   ],
   "source": [
    "std_dev_Edad = std(df_otro[:, :Edad])"
   ]
  },
  {
   "cell_type": "code",
   "execution_count": 46,
   "metadata": {},
   "outputs": [],
   "source": [
    "##begin\n",
    "\t# Datos de ejemplo\n",
    "\t#empleados = [10, 20, 30, 40, 50, 60, 70, 80]\n",
    "\t#beneficios = [10000, 20000, 30000, 35000, 50000, 60000, 70000, 80000]\n",
    "\t# Gráfico de dispersión\n",
    "\t#scatter(empleados, beneficios, xlabel=\"Número de empleados\", ylabel=\"Beneficios\", label=\"Empresas\")\n",
    "\t# Agregar línea de referencia\n",
    "\t#hline!([18000], color=:red, label=\"Límite de beneficios\")\n",
    "\t# Mostrar el gráfico\n",
    "\t#display(plot!())\n",
    "#end\t\n",
    "\t\n"
   ]
  },
  {
   "cell_type": "code",
   "execution_count": 36,
   "metadata": {},
   "outputs": [],
   "source": [
    "map!(x -> dic_bio[x], df_corto.TipoBiopsia, df_corto.TipoBiopsia);\n",
    "map!(y-> dic_piel[y], df_corto.ColordePiel,df_corto.ColordePiel);\n",
    "#df_nuevo=transform(df_corto, :TipoBiopsia=>x->get(dic_bio,x,\"No válido\")=>:TipoBiopsia)"
   ]
  },
  {
   "cell_type": "code",
   "execution_count": 37,
   "metadata": {},
   "outputs": [
    {
     "data": {
      "text/html": [
       "<div><div style = \"float: left;\"><span>18569×6 DataFrame</span></div><div style = \"float: right;\"><span style = \"font-style: italic;\">18544 rows omitted</span></div><div style = \"clear: both;\"></div></div><div class = \"data-frame\" style = \"overflow-x: scroll;\"><table class = \"data-frame\" style = \"margin-bottom: 6px;\"><thead><tr class = \"header\"><th class = \"rowNumber\" style = \"font-weight: bold; text-align: right;\">Row</th><th style = \"text-align: left;\">Edad</th><th style = \"text-align: left;\">Sexo</th><th style = \"text-align: left;\">ColordePiel</th><th style = \"text-align: left;\">TipoBiopsia</th><th style = \"text-align: left;\">Medico</th><th style = \"text-align: left;\">Especialidad</th></tr><tr class = \"subheader headerLastRow\"><th class = \"rowNumber\" style = \"font-weight: bold; text-align: right;\"></th><th title = \"Any\" style = \"text-align: left;\">Any</th><th title = \"Any\" style = \"text-align: left;\">Any</th><th title = \"Any\" style = \"text-align: left;\">Any</th><th title = \"Any\" style = \"text-align: left;\">Any</th><th title = \"Any\" style = \"text-align: left;\">Any</th><th title = \"Any\" style = \"text-align: left;\">Any</th></tr></thead><tbody><tr><td class = \"rowNumber\" style = \"font-weight: bold; text-align: right;\">1</td><td style = \"text-align: left;\">58</td><td style = \"text-align: left;\">F</td><td style = \"text-align: left;\">Mestiza</td><td style = \"text-align: left;\">Incision</td><td style = \"text-align: left;\">181776</td><td style = \"text-align: left;\">803</td></tr><tr><td class = \"rowNumber\" style = \"font-weight: bold; text-align: right;\">2</td><td style = \"text-align: left;\">53</td><td style = \"text-align: left;\">F</td><td style = \"text-align: left;\">Blanca</td><td style = \"text-align: left;\">Incision</td><td style = \"text-align: left;\">98295</td><td style = \"text-align: left;\">201</td></tr><tr><td class = \"rowNumber\" style = \"font-weight: bold; text-align: right;\">3</td><td style = \"text-align: left;\">27</td><td style = \"text-align: left;\">F</td><td style = \"text-align: left;\">Blanca</td><td style = \"text-align: left;\">Puncion</td><td style = \"text-align: left;\">2099</td><td style = \"text-align: left;\">803</td></tr><tr><td class = \"rowNumber\" style = \"font-weight: bold; text-align: right;\">4</td><td style = \"text-align: left;\">80</td><td style = \"text-align: left;\">F</td><td style = \"text-align: left;\">Blanca</td><td style = \"text-align: left;\">Puncion</td><td style = \"text-align: left;\">143217</td><td style = \"text-align: left;\">211</td></tr><tr><td class = \"rowNumber\" style = \"font-weight: bold; text-align: right;\">5</td><td style = \"text-align: left;\">40</td><td style = \"text-align: left;\">F</td><td style = \"text-align: left;\">Mestiza</td><td style = \"text-align: left;\">Incision</td><td style = \"text-align: left;\">181776</td><td style = \"text-align: left;\">803</td></tr><tr><td class = \"rowNumber\" style = \"font-weight: bold; text-align: right;\">6</td><td style = \"text-align: left;\">23</td><td style = \"text-align: left;\">F</td><td style = \"text-align: left;\">Blanca</td><td style = \"text-align: left;\">Incision</td><td style = \"text-align: left;\">181719</td><td style = \"text-align: left;\">803</td></tr><tr><td class = \"rowNumber\" style = \"font-weight: bold; text-align: right;\">7</td><td style = \"text-align: left;\">24</td><td style = \"text-align: left;\">M</td><td style = \"text-align: left;\">Negra</td><td style = \"text-align: left;\">Puncion</td><td style = \"text-align: left;\">143221</td><td style = \"text-align: left;\">211</td></tr><tr><td class = \"rowNumber\" style = \"font-weight: bold; text-align: right;\">8</td><td style = \"text-align: left;\">47</td><td style = \"text-align: left;\">F</td><td style = \"text-align: left;\">Blanca</td><td style = \"text-align: left;\">Puncion</td><td style = \"text-align: left;\">12126</td><td style = \"text-align: left;\">803</td></tr><tr><td class = \"rowNumber\" style = \"font-weight: bold; text-align: right;\">9</td><td style = \"text-align: left;\">50</td><td style = \"text-align: left;\">F</td><td style = \"text-align: left;\">Blanca</td><td style = \"text-align: left;\">Puncion</td><td style = \"text-align: left;\">143217</td><td style = \"text-align: left;\">211</td></tr><tr><td class = \"rowNumber\" style = \"font-weight: bold; text-align: right;\">10</td><td style = \"text-align: left;\">58</td><td style = \"text-align: left;\">F</td><td style = \"text-align: left;\">Blanca</td><td style = \"text-align: left;\">Puncion</td><td style = \"text-align: left;\">12126</td><td style = \"text-align: left;\">803</td></tr><tr><td class = \"rowNumber\" style = \"font-weight: bold; text-align: right;\">11</td><td style = \"text-align: left;\">58</td><td style = \"text-align: left;\">F</td><td style = \"text-align: left;\">Blanca</td><td style = \"text-align: left;\">Escision</td><td style = \"text-align: left;\">122490</td><td style = \"text-align: left;\">111</td></tr><tr><td class = \"rowNumber\" style = \"font-weight: bold; text-align: right;\">12</td><td style = \"text-align: left;\">49</td><td style = \"text-align: left;\">F</td><td style = \"text-align: left;\">Blanca</td><td style = \"text-align: left;\">BAAF</td><td style = \"text-align: left;\">12126</td><td style = \"text-align: left;\">803</td></tr><tr><td class = \"rowNumber\" style = \"font-weight: bold; text-align: right;\">13</td><td style = \"text-align: left;\">67</td><td style = \"text-align: left;\">M</td><td style = \"text-align: left;\">Blanca</td><td style = \"text-align: left;\">Incision</td><td style = \"text-align: left;\">74112</td><td style = \"text-align: left;\">108</td></tr><tr><td style = \"text-align: right;\">&vellip;</td><td style = \"text-align: right;\">&vellip;</td><td style = \"text-align: right;\">&vellip;</td><td style = \"text-align: right;\">&vellip;</td><td style = \"text-align: right;\">&vellip;</td><td style = \"text-align: right;\">&vellip;</td><td style = \"text-align: right;\">&vellip;</td></tr><tr><td class = \"rowNumber\" style = \"font-weight: bold; text-align: right;\">18558</td><td style = \"text-align: left;\">69</td><td style = \"text-align: left;\">M</td><td style = \"text-align: left;\">Blanca</td><td style = \"text-align: left;\">Incision</td><td style = \"text-align: left;\">92696</td><td style = \"text-align: left;\">108</td></tr><tr><td class = \"rowNumber\" style = \"font-weight: bold; text-align: right;\">18559</td><td style = \"text-align: left;\">76</td><td style = \"text-align: left;\">M</td><td style = \"text-align: left;\">Blanca</td><td style = \"text-align: left;\">Incision</td><td style = \"text-align: left;\">79773</td><td style = \"text-align: left;\">206</td></tr><tr><td class = \"rowNumber\" style = \"font-weight: bold; text-align: right;\">18560</td><td style = \"text-align: left;\">26</td><td style = \"text-align: left;\">F</td><td style = \"text-align: left;\">Negra</td><td style = \"text-align: left;\">Incision</td><td style = \"text-align: left;\">65028</td><td style = \"text-align: left;\">204</td></tr><tr><td class = \"rowNumber\" style = \"font-weight: bold; text-align: right;\">18561</td><td style = \"text-align: left;\">74</td><td style = \"text-align: left;\">F</td><td style = \"text-align: left;\">Blanca</td><td style = \"text-align: left;\">Incision</td><td style = \"text-align: left;\">65885</td><td style = \"text-align: left;\">108</td></tr><tr><td class = \"rowNumber\" style = \"font-weight: bold; text-align: right;\">18562</td><td style = \"text-align: left;\">74</td><td style = \"text-align: left;\">F</td><td style = \"text-align: left;\">Blanca</td><td style = \"text-align: left;\">Incision</td><td style = \"text-align: left;\">65885</td><td style = \"text-align: left;\">108</td></tr><tr><td class = \"rowNumber\" style = \"font-weight: bold; text-align: right;\">18563</td><td style = \"text-align: left;\">55</td><td style = \"text-align: left;\">F</td><td style = \"text-align: left;\">Blanca</td><td style = \"text-align: left;\">Incision</td><td style = \"text-align: left;\">54563</td><td style = \"text-align: left;\">209</td></tr><tr><td class = \"rowNumber\" style = \"font-weight: bold; text-align: right;\">18564</td><td style = \"text-align: left;\">65</td><td style = \"text-align: left;\">F</td><td style = \"text-align: left;\">Blanca</td><td style = \"text-align: left;\">Incision</td><td style = \"text-align: left;\">65885</td><td style = \"text-align: left;\">108</td></tr><tr><td class = \"rowNumber\" style = \"font-weight: bold; text-align: right;\">18565</td><td style = \"text-align: left;\">60</td><td style = \"text-align: left;\">F</td><td style = \"text-align: left;\">Blanca</td><td style = \"text-align: left;\">Incision</td><td style = \"text-align: left;\">94755</td><td style = \"text-align: left;\">108</td></tr><tr><td class = \"rowNumber\" style = \"font-weight: bold; text-align: right;\">18566</td><td style = \"text-align: left;\">86</td><td style = \"text-align: left;\">M</td><td style = \"text-align: left;\">Blanca</td><td style = \"text-align: left;\">Incision</td><td style = \"text-align: left;\">92696</td><td style = \"text-align: left;\">108</td></tr><tr><td class = \"rowNumber\" style = \"font-weight: bold; text-align: right;\">18567</td><td style = \"text-align: left;\">55</td><td style = \"text-align: left;\">F</td><td style = \"text-align: left;\">Blanca</td><td style = \"text-align: left;\">Incision</td><td style = \"text-align: left;\">92696</td><td style = \"text-align: left;\">108</td></tr><tr><td class = \"rowNumber\" style = \"font-weight: bold; text-align: right;\">18568</td><td style = \"text-align: left;\">96</td><td style = \"text-align: left;\">M</td><td style = \"text-align: left;\">Blanca</td><td style = \"text-align: left;\">Incision</td><td style = \"text-align: left;\">92696</td><td style = \"text-align: left;\">108</td></tr><tr><td class = \"rowNumber\" style = \"font-weight: bold; text-align: right;\">18569</td><td style = \"text-align: left;\">84</td><td style = \"text-align: left;\">F</td><td style = \"text-align: left;\">Blanca</td><td style = \"text-align: left;\">Incision</td><td style = \"text-align: left;\">79810</td><td style = \"text-align: left;\">201</td></tr></tbody></table></div>"
      ],
      "text/latex": [
       "\\begin{tabular}{r|cccccc}\n",
       "\t& Edad & Sexo & ColordePiel & TipoBiopsia & Medico & Especialidad\\\\\n",
       "\t\\hline\n",
       "\t& Any & Any & Any & Any & Any & Any\\\\\n",
       "\t\\hline\n",
       "\t1 & 58 & F & Mestiza & Incision & 181776 & 803 \\\\\n",
       "\t2 & 53 & F & Blanca & Incision & 98295 & 201 \\\\\n",
       "\t3 & 27 & F & Blanca & Puncion & 2099 & 803 \\\\\n",
       "\t4 & 80 & F & Blanca & Puncion & 143217 & 211 \\\\\n",
       "\t5 & 40 & F & Mestiza & Incision & 181776 & 803 \\\\\n",
       "\t6 & 23 & F & Blanca & Incision & 181719 & 803 \\\\\n",
       "\t7 & 24 & M & Negra & Puncion & 143221 & 211 \\\\\n",
       "\t8 & 47 & F & Blanca & Puncion & 12126 & 803 \\\\\n",
       "\t9 & 50 & F & Blanca & Puncion & 143217 & 211 \\\\\n",
       "\t10 & 58 & F & Blanca & Puncion & 12126 & 803 \\\\\n",
       "\t11 & 58 & F & Blanca & Escision & 122490 & 111 \\\\\n",
       "\t12 & 49 & F & Blanca & BAAF & 12126 & 803 \\\\\n",
       "\t13 & 67 & M & Blanca & Incision & 74112 & 108 \\\\\n",
       "\t14 & 30 & F & Blanca & BAAF & 12126 & 803 \\\\\n",
       "\t15 & 73 & M & Blanca & Puncion & 42469 & 104 \\\\\n",
       "\t16 & 39 & M & Blanca & Puncion & 143090 & 209 \\\\\n",
       "\t17 & 53 & M & Blanca & Incision & 101668 & 208 \\\\\n",
       "\t18 & 68 & M & Blanca & Incision & 49920 & 108 \\\\\n",
       "\t19 & 45 & M & Blanca & Incision & 41031 & 201 \\\\\n",
       "\t20 & 40 & F & Blanca & Puncion & 49950 & 108 \\\\\n",
       "\t21 & 91 & M & Blanca & Incision & 181460 & 201 \\\\\n",
       "\t22 & 64 & M & Blanca & Puncion & 32977 & 108 \\\\\n",
       "\t23 & 52 & F & Blanca & Puncion & 198122 & 209 \\\\\n",
       "\t24 & 43 & F & Blanca & Incision & 85010 & 201 \\\\\n",
       "\t25 & 52 & M & Blanca & Puncion & 94738 & 108 \\\\\n",
       "\t26 & 44 & F & Blanca & Incision & 41031 & 201 \\\\\n",
       "\t27 & 43 & M & Blanca & Incision & 78084 & 201 \\\\\n",
       "\t28 & 43 & F & Blanca & Incision & 41031 & 201 \\\\\n",
       "\t29 & 71 & F & Blanca & Puncion & 113171 & 108 \\\\\n",
       "\t30 & 69 & M & Blanca & Incision & 21946 & 210 \\\\\n",
       "\t$\\dots$ & $\\dots$ & $\\dots$ & $\\dots$ & $\\dots$ & $\\dots$ & $\\dots$ \\\\\n",
       "\\end{tabular}\n"
      ],
      "text/plain": [
       "\u001b[1m18569×6 DataFrame\u001b[0m\n",
       "\u001b[1m   Row \u001b[0m│\u001b[1m Edad \u001b[0m\u001b[1m Sexo \u001b[0m\u001b[1m ColordePiel \u001b[0m\u001b[1m TipoBiopsia \u001b[0m\u001b[1m Medico \u001b[0m\u001b[1m Especialidad \u001b[0m\n",
       "       │\u001b[90m Any  \u001b[0m\u001b[90m Any  \u001b[0m\u001b[90m Any         \u001b[0m\u001b[90m Any         \u001b[0m\u001b[90m Any    \u001b[0m\u001b[90m Any          \u001b[0m\n",
       "───────┼────────────────────────────────────────────────────────────\n",
       "     1 │ 58    F     Mestiza      Incision     181776  803\n",
       "     2 │ 53    F     Blanca       Incision     98295   201\n",
       "     3 │ 27    F     Blanca       Puncion      2099    803\n",
       "     4 │ 80    F     Blanca       Puncion      143217  211\n",
       "     5 │ 40    F     Mestiza      Incision     181776  803\n",
       "     6 │ 23    F     Blanca       Incision     181719  803\n",
       "     7 │ 24    M     Negra        Puncion      143221  211\n",
       "     8 │ 47    F     Blanca       Puncion      12126   803\n",
       "     9 │ 50    F     Blanca       Puncion      143217  211\n",
       "    10 │ 58    F     Blanca       Puncion      12126   803\n",
       "    11 │ 58    F     Blanca       Escision     122490  111\n",
       "   ⋮   │  ⋮     ⋮         ⋮            ⋮         ⋮          ⋮\n",
       " 18560 │ 26    F     Negra        Incision     65028   204\n",
       " 18561 │ 74    F     Blanca       Incision     65885   108\n",
       " 18562 │ 74    F     Blanca       Incision     65885   108\n",
       " 18563 │ 55    F     Blanca       Incision     54563   209\n",
       " 18564 │ 65    F     Blanca       Incision     65885   108\n",
       " 18565 │ 60    F     Blanca       Incision     94755   108\n",
       " 18566 │ 86    M     Blanca       Incision     92696   108\n",
       " 18567 │ 55    F     Blanca       Incision     92696   108\n",
       " 18568 │ 96    M     Blanca       Incision     92696   108\n",
       " 18569 │ 84    F     Blanca       Incision     79810   201\n",
       "\u001b[36m                                                  18548 rows omitted\u001b[0m"
      ]
     },
     "execution_count": 37,
     "metadata": {},
     "output_type": "execute_result"
    }
   ],
   "source": [
    "df_corto"
   ]
  },
  {
   "cell_type": "code",
   "execution_count": 38,
   "metadata": {},
   "outputs": [
    {
     "data": {
      "text/html": [
       "<div><div style = \"float: left;\"><span>5×2 DataFrame</span></div><div style = \"clear: both;\"></div></div><div class = \"data-frame\" style = \"overflow-x: scroll;\"><table class = \"data-frame\" style = \"margin-bottom: 6px;\"><thead><tr class = \"header\"><th class = \"rowNumber\" style = \"font-weight: bold; text-align: right;\">Row</th><th style = \"text-align: left;\">TipoBiopsia</th><th style = \"text-align: left;\">Edad_mean</th></tr><tr class = \"subheader headerLastRow\"><th class = \"rowNumber\" style = \"font-weight: bold; text-align: right;\"></th><th title = \"Any\" style = \"text-align: left;\">Any</th><th title = \"Float64\" style = \"text-align: left;\">Float64</th></tr></thead><tbody><tr><td class = \"rowNumber\" style = \"font-weight: bold; text-align: right;\">1</td><td style = \"text-align: left;\">Incision</td><td style = \"text-align: right;\">51.7934</td></tr><tr><td class = \"rowNumber\" style = \"font-weight: bold; text-align: right;\">2</td><td style = \"text-align: left;\">Puncion</td><td style = \"text-align: right;\">55.4123</td></tr><tr><td class = \"rowNumber\" style = \"font-weight: bold; text-align: right;\">3</td><td style = \"text-align: left;\">Escision</td><td style = \"text-align: right;\">61.8024</td></tr><tr><td class = \"rowNumber\" style = \"font-weight: bold; text-align: right;\">4</td><td style = \"text-align: left;\">BAAF</td><td style = \"text-align: right;\">33.3106</td></tr><tr><td class = \"rowNumber\" style = \"font-weight: bold; text-align: right;\">5</td><td style = \"text-align: left;\">Raspado</td><td style = \"text-align: right;\">47.3822</td></tr></tbody></table></div>"
      ],
      "text/latex": [
       "\\begin{tabular}{r|cc}\n",
       "\t& TipoBiopsia & Edad\\_mean\\\\\n",
       "\t\\hline\n",
       "\t& Any & Float64\\\\\n",
       "\t\\hline\n",
       "\t1 & Incision & 51.7934 \\\\\n",
       "\t2 & Puncion & 55.4123 \\\\\n",
       "\t3 & Escision & 61.8024 \\\\\n",
       "\t4 & BAAF & 33.3106 \\\\\n",
       "\t5 & Raspado & 47.3822 \\\\\n",
       "\\end{tabular}\n"
      ],
      "text/plain": [
       "\u001b[1m5×2 DataFrame\u001b[0m\n",
       "\u001b[1m Row \u001b[0m│\u001b[1m TipoBiopsia \u001b[0m\u001b[1m Edad_mean \u001b[0m\n",
       "     │\u001b[90m Any         \u001b[0m\u001b[90m Float64   \u001b[0m\n",
       "─────┼────────────────────────\n",
       "   1 │ Incision       51.7934\n",
       "   2 │ Puncion        55.4123\n",
       "   3 │ Escision       61.8024\n",
       "   4 │ BAAF           33.3106\n",
       "   5 │ Raspado        47.3822"
      ]
     },
     "execution_count": 38,
     "metadata": {},
     "output_type": "execute_result"
    }
   ],
   "source": [
    "resultadosTipoBiopsiaEdad = combine(groupby(df_corto, :TipoBiopsia), :Edad => mean)"
   ]
  },
  {
   "cell_type": "code",
   "execution_count": 39,
   "metadata": {},
   "outputs": [
    {
     "data": {
      "text/plain": [
       "5-element Named Vector{Int64}\n",
       "Dim1     │ \n",
       "─────────┼─────\n",
       "BAAF     │  895\n",
       "Escision │  501\n",
       "Incision │ 9678\n",
       "Puncion  │ 5870\n",
       "Raspado  │ 1625"
      ]
     },
     "execution_count": 39,
     "metadata": {},
     "output_type": "execute_result"
    }
   ],
   "source": [
    "Tf_TipoBiopsia = freqtable(df_corto.TipoBiopsia)"
   ]
  },
  {
   "cell_type": "code",
   "execution_count": 40,
   "metadata": {},
   "outputs": [],
   "source": [
    "#resultadosTipoBiopsiaEdad = combine(groupby(df_corto, :TipoBiopsia), :TipoBiopsia => count)"
   ]
  },
  {
   "cell_type": "code",
   "execution_count": 41,
   "metadata": {},
   "outputs": [
    {
     "data": {
      "text/plain": [
       "4-element Named Vector{Int64}\n",
       "Dim1     │ \n",
       "─────────┼──────\n",
       "Amarilla │    96\n",
       "Blanca   │ 16000\n",
       "Mestiza  │  1413\n",
       "Negra    │  1060"
      ]
     },
     "execution_count": 41,
     "metadata": {},
     "output_type": "execute_result"
    }
   ],
   "source": [
    "Tf_ColordePiel = freqtable(df_corto.ColordePiel)"
   ]
  },
  {
   "cell_type": "code",
   "execution_count": 42,
   "metadata": {},
   "outputs": [
    {
     "data": {
      "text/plain": [
       "2×5 Named Matrix{Int64}\n",
       "Dim1 ╲ Dim2 │     BAAF  Escision  Incision   Puncion   Raspado\n",
       "────────────┼─────────────────────────────────────────────────\n",
       "F           │      888       190      5886      3537      1574\n",
       "M           │        7       311      3792      2333        51"
      ]
     },
     "execution_count": 42,
     "metadata": {},
     "output_type": "execute_result"
    }
   ],
   "source": [
    "Tf_Sexo_TB=freqtable(df_corto.Sexo, df_corto.TipoBiopsia)"
   ]
  },
  {
   "cell_type": "code",
   "execution_count": 43,
   "metadata": {},
   "outputs": [
    {
     "data": {
      "text/plain": [
       "4×5 Named Matrix{Int64}\n",
       "Dim1 ╲ Dim2 │     BAAF  Escision  Incision   Puncion   Raspado\n",
       "────────────┼─────────────────────────────────────────────────\n",
       "Amarilla    │        8         1        48        33         6\n",
       "Blanca      │      775       424      8269      5192      1340\n",
       "Mestiza     │       79        39       777       363       155\n",
       "Negra       │       33        37       584       282       124"
      ]
     },
     "execution_count": 43,
     "metadata": {},
     "output_type": "execute_result"
    }
   ],
   "source": [
    " TF_CP_TB=freqtable(df_corto.ColordePiel, df_corto.TipoBiopsia)"
   ]
  },
  {
   "cell_type": "code",
   "execution_count": 44,
   "metadata": {},
   "outputs": [
    {
     "data": {
      "text/plain": [
       "2×4 Named Matrix{Int64}\n",
       "Dim1 ╲ Dim2 │ Amarilla    Blanca   Mestiza     Negra\n",
       "────────────┼───────────────────────────────────────\n",
       "F           │       69     10286      1025       695\n",
       "M           │       27      5714       388       365"
      ]
     },
     "execution_count": 44,
     "metadata": {},
     "output_type": "execute_result"
    }
   ],
   "source": [
    "Tf_Sexo_CP=freqtable(df_corto.Sexo, df_corto.ColordePiel)"
   ]
  },
  {
   "cell_type": "code",
   "execution_count": 47,
   "metadata": {},
   "outputs": [
    {
     "data": {
      "text/plain": [
       "91×4 Named Matrix{Int64}\n",
       "Dim1 ╲ Dim2 │ Amarilla    Blanca   Mestiza     Negra\n",
       "────────────┼───────────────────────────────────────\n",
       "1           │        1         0         0         0\n",
       "8           │        0         1         0         0\n",
       "9           │        0         1         0         0\n",
       "12          │        0         2         1         0\n",
       "13          │        0         4         1         0\n",
       "14          │        2         3         1         0\n",
       "15          │        0        26         2         0\n",
       "16          │        0        48         4         2\n",
       "17          │        0        75         6         4\n",
       "18          │        1       182        30         9\n",
       "19          │        1       178        25        11\n",
       "⋮                    ⋮         ⋮         ⋮         ⋮\n",
       "89          │        0        46         2         2\n",
       "90          │        0        32         2         3\n",
       "91          │        0        17         1         2\n",
       "92          │        0        35         1         0\n",
       "93          │        1        18         1         0\n",
       "94          │        0        15         2         0\n",
       "95          │        0         8         1         1\n",
       "96          │        0         5         0         0\n",
       "97          │        0         6         0         0\n",
       "98          │        0         5         0         0\n",
       "100         │        0         2         1         0"
      ]
     },
     "execution_count": 47,
     "metadata": {},
     "output_type": "execute_result"
    }
   ],
   "source": [
    "Tf_Sexo_CP=freqtable(df_corto.Edad, df_corto.ColordePiel)"
   ]
  },
  {
   "cell_type": "code",
   "execution_count": 48,
   "metadata": {},
   "outputs": [
    {
     "data": {
      "text/plain": [
       "91×4 Named Matrix{Int64}\n",
       "Dim1 ╲ Dim2 │ Amarilla    Blanca   Mestiza     Negra\n",
       "────────────┼───────────────────────────────────────\n",
       "1           │        1         0         0         0\n",
       "8           │        0         1         0         0\n",
       "9           │        0         1         0         0\n",
       "12          │        0         2         1         0\n",
       "13          │        0         4         1         0\n",
       "14          │        2         3         1         0\n",
       "15          │        0        26         2         0\n",
       "16          │        0        48         4         2\n",
       "17          │        0        75         6         4\n",
       "18          │        1       182        30         9\n",
       "19          │        1       178        25        11\n",
       "⋮                    ⋮         ⋮         ⋮         ⋮\n",
       "89          │        0        46         2         2\n",
       "90          │        0        32         2         3\n",
       "91          │        0        17         1         2\n",
       "92          │        0        35         1         0\n",
       "93          │        1        18         1         0\n",
       "94          │        0        15         2         0\n",
       "95          │        0         8         1         1\n",
       "96          │        0         5         0         0\n",
       "97          │        0         6         0         0\n",
       "98          │        0         5         0         0\n",
       "100         │        0         2         1         0"
      ]
     },
     "execution_count": 48,
     "metadata": {},
     "output_type": "execute_result"
    }
   ],
   "source": [
    "Tf_Sexo_CP=freqtable(df_corto.Edad, df_corto.ColordePiel)"
   ]
  },
  {
   "cell_type": "code",
   "execution_count": null,
   "metadata": {},
   "outputs": [],
   "source": [
    "Tf_Sexo_CP=freqtable(df_corto.Edad, df_corto.Sexo)"
   ]
  }
 ],
 "metadata": {
  "kernelspec": {
   "display_name": "Julia 1.8.5",
   "language": "julia",
   "name": "julia-1.8"
  },
  "language_info": {
   "file_extension": ".jl",
   "mimetype": "application/julia",
   "name": "julia",
   "version": "1.8.5"
  }
 },
 "nbformat": 4,
 "nbformat_minor": 2
}
