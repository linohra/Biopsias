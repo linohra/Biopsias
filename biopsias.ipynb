{
 "cells": [
  {
   "cell_type": "code",
   "execution_count": 1,
   "id": "5576b6a4",
   "metadata": {},
   "outputs": [
    {
     "ename": "ModuleNotFoundError",
     "evalue": "No module named 'numpy'",
     "output_type": "error",
     "traceback": [
      "\u001b[0;31m---------------------------------------------------------------------------\u001b[0m",
      "\u001b[0;31mModuleNotFoundError\u001b[0m                       Traceback (most recent call last)",
      "Cell \u001b[0;32mIn[1], line 1\u001b[0m\n\u001b[0;32m----> 1\u001b[0m \u001b[39mimport\u001b[39;00m \u001b[39mnumpy\u001b[39;00m \u001b[39mas\u001b[39;00m \u001b[39mnp\u001b[39;00m\n\u001b[1;32m      2\u001b[0m \u001b[39mimport\u001b[39;00m \u001b[39mpandas\u001b[39;00m \u001b[39mas\u001b[39;00m \u001b[39mpd\u001b[39;00m\n\u001b[1;32m      3\u001b[0m \u001b[39mimport\u001b[39;00m \u001b[39mstatistics\u001b[39;00m \u001b[39mas\u001b[39;00m \u001b[39mst\u001b[39;00m\n",
      "\u001b[0;31mModuleNotFoundError\u001b[0m: No module named 'numpy'"
     ]
    }
   ],
   "source": [
    "import numpy as np\n",
    "import pandas as pd\n",
    "import statistics as st\n",
    "import math as mt"
   ]
  },
  {
   "cell_type": "code",
   "execution_count": 3,
   "id": "fe024620",
   "metadata": {},
   "outputs": [],
   "source": [
    "##read_csv(¨path/fichero\")\n",
    "##Carga un fichero .csv"
   ]
  },
  {
   "cell_type": "code",
   "execution_count": 4,
   "id": "ef9a8f65",
   "metadata": {},
   "outputs": [],
   "source": [
    "df_biopsias=pd.read_csv(\"Biopsias.csv\")"
   ]
  },
  {
   "cell_type": "code",
   "execution_count": 5,
   "id": "eea8c458",
   "metadata": {},
   "outputs": [],
   "source": [
    "##Muestra las 5 primeras filas del fichero"
   ]
  },
  {
   "cell_type": "code",
   "execution_count": 6,
   "id": "32b202d1",
   "metadata": {},
   "outputs": [
    {
     "data": {
      "text/html": [
       "<div>\n",
       "<style scoped>\n",
       "    .dataframe tbody tr th:only-of-type {\n",
       "        vertical-align: middle;\n",
       "    }\n",
       "\n",
       "    .dataframe tbody tr th {\n",
       "        vertical-align: top;\n",
       "    }\n",
       "\n",
       "    .dataframe thead th {\n",
       "        text-align: right;\n",
       "    }\n",
       "</style>\n",
       "<table border=\"1\" class=\"dataframe\">\n",
       "  <thead>\n",
       "    <tr style=\"text-align: right;\">\n",
       "      <th></th>\n",
       "      <th>IdBuiopsia</th>\n",
       "      <th>Numero</th>\n",
       "      <th>HC</th>\n",
       "      <th>Nombre</th>\n",
       "      <th>Apellido1</th>\n",
       "      <th>Apellido</th>\n",
       "      <th>Edad</th>\n",
       "      <th>Sexo</th>\n",
       "      <th>Raza</th>\n",
       "      <th>IdTipoBiopsia</th>\n",
       "      <th>IdPaciente</th>\n",
       "      <th>IdMedico</th>\n",
       "      <th>DiagnosticoMedico</th>\n",
       "      <th>FechaRealizado</th>\n",
       "      <th>IdEspecialidad</th>\n",
       "      <th>DescripcionBiopsia</th>\n",
       "      <th>Unnamed: 16</th>\n",
       "      <th>IdUsuario</th>\n",
       "      <th>FechaRegistro</th>\n",
       "    </tr>\n",
       "  </thead>\n",
       "  <tbody>\n",
       "    <tr>\n",
       "      <th>0</th>\n",
       "      <td>2</td>\n",
       "      <td>5904</td>\n",
       "      <td>876741</td>\n",
       "      <td>Sonia</td>\n",
       "      <td>Dorticós</td>\n",
       "      <td>Gonzales</td>\n",
       "      <td>58</td>\n",
       "      <td>F</td>\n",
       "      <td>M</td>\n",
       "      <td>4</td>\n",
       "      <td>596631</td>\n",
       "      <td>181776</td>\n",
       "      <td>Colectomia Izquierda y derecha de ovarios</td>\n",
       "      <td>2019-09-09 00:00:00.000</td>\n",
       "      <td>803</td>\n",
       "      <td>ROTULADO COMO QUISTE DE OVARIO IZQUIERDO Y C...</td>\n",
       "      <td>Aqui la descripción MicroTERATOMA QUISTICO MAD...</td>\n",
       "      <td>5726</td>\n",
       "      <td>2019-10-04 14:25:34.747</td>\n",
       "    </tr>\n",
       "    <tr>\n",
       "      <th>1</th>\n",
       "      <td>3</td>\n",
       "      <td>5907</td>\n",
       "      <td>392967</td>\n",
       "      <td>Olga Lidia</td>\n",
       "      <td>Acosta</td>\n",
       "      <td>Hernández</td>\n",
       "      <td>53</td>\n",
       "      <td>F</td>\n",
       "      <td>B</td>\n",
       "      <td>4</td>\n",
       "      <td>214687</td>\n",
       "      <td>98295</td>\n",
       "      <td>Colectomia</td>\n",
       "      <td>2019-09-09 00:00:00.000</td>\n",
       "      <td>201</td>\n",
       "      <td>Vesicula biliar de 10 x 4 x 3 cm, serosa ver...</td>\n",
       "      <td>Colesistitis crónica litíasica</td>\n",
       "      <td>17340</td>\n",
       "      <td>2019-09-23 13:24:22.117</td>\n",
       "    </tr>\n",
       "    <tr>\n",
       "      <th>2</th>\n",
       "      <td>4</td>\n",
       "      <td>5908</td>\n",
       "      <td>547430</td>\n",
       "      <td>Lilianni</td>\n",
       "      <td>Morales</td>\n",
       "      <td>Sánchez</td>\n",
       "      <td>27</td>\n",
       "      <td>F</td>\n",
       "      <td>B</td>\n",
       "      <td>1</td>\n",
       "      <td>475189</td>\n",
       "      <td>2099</td>\n",
       "      <td>Descartar lesion intrapiterial de alto grado</td>\n",
       "      <td>2019-09-09 00:00:00.000</td>\n",
       "      <td>803</td>\n",
       "      <td>3 PONCHES DE TEJIDO PARDO CLARO DE O.5CM    ...</td>\n",
       "      <td>NIC I FOCAL ENDOCERVICITIS CRONICA MICROPOLI...</td>\n",
       "      <td>17340</td>\n",
       "      <td>2019-09-23 12:39:16.960</td>\n",
       "    </tr>\n",
       "    <tr>\n",
       "      <th>3</th>\n",
       "      <td>5</td>\n",
       "      <td>5909</td>\n",
       "      <td>110484</td>\n",
       "      <td>Ofelia</td>\n",
       "      <td>Pérez</td>\n",
       "      <td>Villazón</td>\n",
       "      <td>80</td>\n",
       "      <td>F</td>\n",
       "      <td>B</td>\n",
       "      <td>1</td>\n",
       "      <td>199934</td>\n",
       "      <td>143217</td>\n",
       "      <td>carepi</td>\n",
       "      <td>2019-09-09 00:00:00.000</td>\n",
       "      <td>211</td>\n",
       "      <td>FRAGMENTO DE TEJIDO ,BLANCO IRREGULAR DE 5*2...</td>\n",
       "      <td>CARCINOMA EPIDERMOIDE VARIANTE VERRUGOSA ,...</td>\n",
       "      <td>17340</td>\n",
       "      <td>2019-10-03 14:16:59.257</td>\n",
       "    </tr>\n",
       "    <tr>\n",
       "      <th>4</th>\n",
       "      <td>6</td>\n",
       "      <td>5910</td>\n",
       "      <td>202329</td>\n",
       "      <td>Yamila M</td>\n",
       "      <td>Terry</td>\n",
       "      <td>Cantero</td>\n",
       "      <td>40</td>\n",
       "      <td>F</td>\n",
       "      <td>M</td>\n",
       "      <td>4</td>\n",
       "      <td>322918</td>\n",
       "      <td>181776</td>\n",
       "      <td>Miomas uterinos</td>\n",
       "      <td>2019-09-19 00:00:00.000</td>\n",
       "      <td>803</td>\n",
       "      <td>UTERO DE 19X14X10CM SEROSA PARDA CLARA IRREG...</td>\n",
       "      <td>LEIOMIOMAS UTERINOS ADENOMIOSIS ENDOMETRIO L...</td>\n",
       "      <td>5726</td>\n",
       "      <td>2019-10-18 08:00:58.353</td>\n",
       "    </tr>\n",
       "  </tbody>\n",
       "</table>\n",
       "</div>"
      ],
      "text/plain": [
       "   IdBuiopsia  Numero      HC      Nombre Apellido1   Apellido  Edad Sexo  \\\n",
       "0           2    5904  876741       Sonia  Dorticós   Gonzales    58    F   \n",
       "1           3    5907  392967  Olga Lidia    Acosta  Hernández    53    F   \n",
       "2           4    5908  547430    Lilianni   Morales    Sánchez    27    F   \n",
       "3           5    5909  110484      Ofelia     Pérez   Villazón    80    F   \n",
       "4           6    5910  202329    Yamila M     Terry    Cantero    40    F   \n",
       "\n",
       "  Raza  IdTipoBiopsia  IdPaciente  IdMedico  \\\n",
       "0    M              4      596631    181776   \n",
       "1    B              4      214687     98295   \n",
       "2    B              1      475189      2099   \n",
       "3    B              1      199934    143217   \n",
       "4    M              4      322918    181776   \n",
       "\n",
       "                                DiagnosticoMedico           FechaRealizado  \\\n",
       "0       Colectomia Izquierda y derecha de ovarios  2019-09-09 00:00:00.000   \n",
       "1                                     Colectomia   2019-09-09 00:00:00.000   \n",
       "2    Descartar lesion intrapiterial de alto grado  2019-09-09 00:00:00.000   \n",
       "3                                         carepi   2019-09-09 00:00:00.000   \n",
       "4                                 Miomas uterinos  2019-09-19 00:00:00.000   \n",
       "\n",
       "   IdEspecialidad                                 DescripcionBiopsia  \\\n",
       "0             803    ROTULADO COMO QUISTE DE OVARIO IZQUIERDO Y C...   \n",
       "1             201    Vesicula biliar de 10 x 4 x 3 cm, serosa ver...   \n",
       "2             803    3 PONCHES DE TEJIDO PARDO CLARO DE O.5CM    ...   \n",
       "3             211    FRAGMENTO DE TEJIDO ,BLANCO IRREGULAR DE 5*2...   \n",
       "4             803    UTERO DE 19X14X10CM SEROSA PARDA CLARA IRREG...   \n",
       "\n",
       "                                         Unnamed: 16  IdUsuario  \\\n",
       "0  Aqui la descripción MicroTERATOMA QUISTICO MAD...       5726   \n",
       "1                     Colesistitis crónica litíasica      17340   \n",
       "2    NIC I FOCAL ENDOCERVICITIS CRONICA MICROPOLI...      17340   \n",
       "3      CARCINOMA EPIDERMOIDE VARIANTE VERRUGOSA ,...      17340   \n",
       "4    LEIOMIOMAS UTERINOS ADENOMIOSIS ENDOMETRIO L...       5726   \n",
       "\n",
       "             FechaRegistro  \n",
       "0  2019-10-04 14:25:34.747  \n",
       "1  2019-09-23 13:24:22.117  \n",
       "2  2019-09-23 12:39:16.960  \n",
       "3  2019-10-03 14:16:59.257  \n",
       "4  2019-10-18 08:00:58.353  "
      ]
     },
     "execution_count": 6,
     "metadata": {},
     "output_type": "execute_result"
    }
   ],
   "source": [
    "df_biopsias.head()"
   ]
  },
  {
   "cell_type": "code",
   "execution_count": 7,
   "id": "86caae7c",
   "metadata": {},
   "outputs": [],
   "source": [
    "#.describe() muestras las medidas de tendencia central de un conjunto de datos numéricos"
   ]
  },
  {
   "cell_type": "code",
   "execution_count": 8,
   "id": "b34445ef",
   "metadata": {},
   "outputs": [
    {
     "data": {
      "text/html": [
       "<div>\n",
       "<style scoped>\n",
       "    .dataframe tbody tr th:only-of-type {\n",
       "        vertical-align: middle;\n",
       "    }\n",
       "\n",
       "    .dataframe tbody tr th {\n",
       "        vertical-align: top;\n",
       "    }\n",
       "\n",
       "    .dataframe thead th {\n",
       "        text-align: right;\n",
       "    }\n",
       "</style>\n",
       "<table border=\"1\" class=\"dataframe\">\n",
       "  <thead>\n",
       "    <tr style=\"text-align: right;\">\n",
       "      <th></th>\n",
       "      <th>IdBuiopsia</th>\n",
       "      <th>Numero</th>\n",
       "      <th>HC</th>\n",
       "      <th>Edad</th>\n",
       "      <th>IdTipoBiopsia</th>\n",
       "      <th>IdPaciente</th>\n",
       "      <th>IdMedico</th>\n",
       "      <th>IdEspecialidad</th>\n",
       "      <th>IdUsuario</th>\n",
       "    </tr>\n",
       "  </thead>\n",
       "  <tbody>\n",
       "    <tr>\n",
       "      <th>count</th>\n",
       "      <td>18569.000000</td>\n",
       "      <td>18569.00000</td>\n",
       "      <td>1.856900e+04</td>\n",
       "      <td>18569.000000</td>\n",
       "      <td>18569.000000</td>\n",
       "      <td>18569.000000</td>\n",
       "      <td>1.856900e+04</td>\n",
       "      <td>18569.000000</td>\n",
       "      <td>18569.000000</td>\n",
       "    </tr>\n",
       "    <tr>\n",
       "      <th>mean</th>\n",
       "      <td>9317.384135</td>\n",
       "      <td>3948.04696</td>\n",
       "      <td>4.849208e+05</td>\n",
       "      <td>51.930583</td>\n",
       "      <td>2.958371</td>\n",
       "      <td>380635.753783</td>\n",
       "      <td>8.247289e+05</td>\n",
       "      <td>354.801659</td>\n",
       "      <td>9133.791911</td>\n",
       "    </tr>\n",
       "    <tr>\n",
       "      <th>std</th>\n",
       "      <td>5376.044373</td>\n",
       "      <td>9951.83325</td>\n",
       "      <td>2.957444e+05</td>\n",
       "      <td>18.455814</td>\n",
       "      <td>1.415561</td>\n",
       "      <td>188807.577709</td>\n",
       "      <td>3.703413e+06</td>\n",
       "      <td>290.873704</td>\n",
       "      <td>5349.427033</td>\n",
       "    </tr>\n",
       "    <tr>\n",
       "      <th>min</th>\n",
       "      <td>2.000000</td>\n",
       "      <td>1.00000</td>\n",
       "      <td>2.300000e+01</td>\n",
       "      <td>1.000000</td>\n",
       "      <td>1.000000</td>\n",
       "      <td>37.000000</td>\n",
       "      <td>1.493000e+03</td>\n",
       "      <td>101.000000</td>\n",
       "      <td>1.000000</td>\n",
       "    </tr>\n",
       "    <tr>\n",
       "      <th>25%</th>\n",
       "      <td>4661.000000</td>\n",
       "      <td>1566.00000</td>\n",
       "      <td>2.408600e+05</td>\n",
       "      <td>37.000000</td>\n",
       "      <td>1.000000</td>\n",
       "      <td>227672.000000</td>\n",
       "      <td>6.500800e+04</td>\n",
       "      <td>201.000000</td>\n",
       "      <td>5726.000000</td>\n",
       "    </tr>\n",
       "    <tr>\n",
       "      <th>50%</th>\n",
       "      <td>9321.000000</td>\n",
       "      <td>3132.00000</td>\n",
       "      <td>4.367380e+05</td>\n",
       "      <td>53.000000</td>\n",
       "      <td>4.000000</td>\n",
       "      <td>412868.000000</td>\n",
       "      <td>9.269600e+04</td>\n",
       "      <td>203.000000</td>\n",
       "      <td>5726.000000</td>\n",
       "    </tr>\n",
       "    <tr>\n",
       "      <th>75%</th>\n",
       "      <td>13971.000000</td>\n",
       "      <td>5165.00000</td>\n",
       "      <td>8.260390e+05</td>\n",
       "      <td>66.000000</td>\n",
       "      <td>4.000000</td>\n",
       "      <td>554263.000000</td>\n",
       "      <td>1.430360e+05</td>\n",
       "      <td>803.000000</td>\n",
       "      <td>17340.000000</td>\n",
       "    </tr>\n",
       "    <tr>\n",
       "      <th>max</th>\n",
       "      <td>18625.000000</td>\n",
       "      <td>375896.00000</td>\n",
       "      <td>2.366925e+06</td>\n",
       "      <td>100.000000</td>\n",
       "      <td>5.000000</td>\n",
       "      <td>628534.000000</td>\n",
       "      <td>2.100349e+07</td>\n",
       "      <td>2003.000000</td>\n",
       "      <td>19454.000000</td>\n",
       "    </tr>\n",
       "  </tbody>\n",
       "</table>\n",
       "</div>"
      ],
      "text/plain": [
       "         IdBuiopsia        Numero            HC          Edad  IdTipoBiopsia  \\\n",
       "count  18569.000000   18569.00000  1.856900e+04  18569.000000   18569.000000   \n",
       "mean    9317.384135    3948.04696  4.849208e+05     51.930583       2.958371   \n",
       "std     5376.044373    9951.83325  2.957444e+05     18.455814       1.415561   \n",
       "min        2.000000       1.00000  2.300000e+01      1.000000       1.000000   \n",
       "25%     4661.000000    1566.00000  2.408600e+05     37.000000       1.000000   \n",
       "50%     9321.000000    3132.00000  4.367380e+05     53.000000       4.000000   \n",
       "75%    13971.000000    5165.00000  8.260390e+05     66.000000       4.000000   \n",
       "max    18625.000000  375896.00000  2.366925e+06    100.000000       5.000000   \n",
       "\n",
       "          IdPaciente      IdMedico  IdEspecialidad     IdUsuario  \n",
       "count   18569.000000  1.856900e+04    18569.000000  18569.000000  \n",
       "mean   380635.753783  8.247289e+05      354.801659   9133.791911  \n",
       "std    188807.577709  3.703413e+06      290.873704   5349.427033  \n",
       "min        37.000000  1.493000e+03      101.000000      1.000000  \n",
       "25%    227672.000000  6.500800e+04      201.000000   5726.000000  \n",
       "50%    412868.000000  9.269600e+04      203.000000   5726.000000  \n",
       "75%    554263.000000  1.430360e+05      803.000000  17340.000000  \n",
       "max    628534.000000  2.100349e+07     2003.000000  19454.000000  "
      ]
     },
     "execution_count": 8,
     "metadata": {},
     "output_type": "execute_result"
    }
   ],
   "source": [
    "df_biopsias.describe()"
   ]
  },
  {
   "cell_type": "code",
   "execution_count": 9,
   "id": "24ad996d",
   "metadata": {},
   "outputs": [],
   "source": [
    "##Como hay columnas que tienen códigos. python los interpreta con valores numéricos y aplica describe a todas las columnas."
   ]
  },
  {
   "cell_type": "code",
   "execution_count": 10,
   "id": "d135c56a",
   "metadata": {},
   "outputs": [],
   "source": [
    "##Por tanto hay que hacer una selección, para eso se crea un DataFrame, un subconjunto de todo el universo\n",
    "##Se seleccionan las columnas que realmente tengan un valor numérico\n",
    "## La función a utilizar es:\n",
    "## .DataFrame(conjunto[[\"columna1\",\"columna2\",...\"columnaN\"]])"
   ]
  },
  {
   "cell_type": "code",
   "execution_count": 11,
   "id": "56375e40",
   "metadata": {},
   "outputs": [],
   "source": [
    "df_seleccion=pd.DataFrame(df_biopsias[[\"Sexo\",\"Edad\",\"Raza\",\"DiagnosticoMedico\"]])"
   ]
  },
  {
   "cell_type": "code",
   "execution_count": 12,
   "id": "7ec23421",
   "metadata": {},
   "outputs": [],
   "source": [
    "##Si no se especifa el .head() se muestran los 5 primeros y los 5 ultimos"
   ]
  },
  {
   "cell_type": "code",
   "execution_count": 13,
   "id": "dff1aba7",
   "metadata": {},
   "outputs": [
    {
     "data": {
      "text/html": [
       "<div>\n",
       "<style scoped>\n",
       "    .dataframe tbody tr th:only-of-type {\n",
       "        vertical-align: middle;\n",
       "    }\n",
       "\n",
       "    .dataframe tbody tr th {\n",
       "        vertical-align: top;\n",
       "    }\n",
       "\n",
       "    .dataframe thead th {\n",
       "        text-align: right;\n",
       "    }\n",
       "</style>\n",
       "<table border=\"1\" class=\"dataframe\">\n",
       "  <thead>\n",
       "    <tr style=\"text-align: right;\">\n",
       "      <th></th>\n",
       "      <th>Sexo</th>\n",
       "      <th>Edad</th>\n",
       "      <th>Raza</th>\n",
       "      <th>DiagnosticoMedico</th>\n",
       "    </tr>\n",
       "  </thead>\n",
       "  <tbody>\n",
       "    <tr>\n",
       "      <th>0</th>\n",
       "      <td>F</td>\n",
       "      <td>58</td>\n",
       "      <td>M</td>\n",
       "      <td>Colectomia Izquierda y derecha de ovarios</td>\n",
       "    </tr>\n",
       "    <tr>\n",
       "      <th>1</th>\n",
       "      <td>F</td>\n",
       "      <td>53</td>\n",
       "      <td>B</td>\n",
       "      <td>Colectomia</td>\n",
       "    </tr>\n",
       "    <tr>\n",
       "      <th>2</th>\n",
       "      <td>F</td>\n",
       "      <td>27</td>\n",
       "      <td>B</td>\n",
       "      <td>Descartar lesion intrapiterial de alto grado</td>\n",
       "    </tr>\n",
       "    <tr>\n",
       "      <th>3</th>\n",
       "      <td>F</td>\n",
       "      <td>80</td>\n",
       "      <td>B</td>\n",
       "      <td>carepi</td>\n",
       "    </tr>\n",
       "    <tr>\n",
       "      <th>4</th>\n",
       "      <td>F</td>\n",
       "      <td>40</td>\n",
       "      <td>M</td>\n",
       "      <td>Miomas uterinos</td>\n",
       "    </tr>\n",
       "    <tr>\n",
       "      <th>...</th>\n",
       "      <td>...</td>\n",
       "      <td>...</td>\n",
       "      <td>...</td>\n",
       "      <td>...</td>\n",
       "    </tr>\n",
       "    <tr>\n",
       "      <th>18564</th>\n",
       "      <td>F</td>\n",
       "      <td>60</td>\n",
       "      <td>B</td>\n",
       "      <td>NEVUS MELANOCITICO</td>\n",
       "    </tr>\n",
       "    <tr>\n",
       "      <th>18565</th>\n",
       "      <td>M</td>\n",
       "      <td>86</td>\n",
       "      <td>B</td>\n",
       "      <td>CARCINOMA BASAL ULCERADO</td>\n",
       "    </tr>\n",
       "    <tr>\n",
       "      <th>18566</th>\n",
       "      <td>F</td>\n",
       "      <td>55</td>\n",
       "      <td>B</td>\n",
       "      <td>SINDROME DE SWEETH</td>\n",
       "    </tr>\n",
       "    <tr>\n",
       "      <th>18567</th>\n",
       "      <td>M</td>\n",
       "      <td>96</td>\n",
       "      <td>B</td>\n",
       "      <td>CARCINOMA BASAL ULCERADO</td>\n",
       "    </tr>\n",
       "    <tr>\n",
       "      <th>18568</th>\n",
       "      <td>F</td>\n",
       "      <td>84</td>\n",
       "      <td>B</td>\n",
       "      <td>NODULO DE MAMA DERECHA</td>\n",
       "    </tr>\n",
       "  </tbody>\n",
       "</table>\n",
       "<p>18569 rows × 4 columns</p>\n",
       "</div>"
      ],
      "text/plain": [
       "      Sexo  Edad Raza                               DiagnosticoMedico\n",
       "0        F    58    M       Colectomia Izquierda y derecha de ovarios\n",
       "1        F    53    B                                     Colectomia \n",
       "2        F    27    B    Descartar lesion intrapiterial de alto grado\n",
       "3        F    80    B                                         carepi \n",
       "4        F    40    M                                 Miomas uterinos\n",
       "...    ...   ...  ...                                             ...\n",
       "18564    F    60    B                             NEVUS MELANOCITICO \n",
       "18565    M    86    B                       CARCINOMA BASAL ULCERADO \n",
       "18566    F    55    B                              SINDROME DE SWEETH\n",
       "18567    M    96    B                     CARCINOMA BASAL ULCERADO   \n",
       "18568    F    84    B                        NODULO DE MAMA DERECHA  \n",
       "\n",
       "[18569 rows x 4 columns]"
      ]
     },
     "execution_count": 13,
     "metadata": {},
     "output_type": "execute_result"
    }
   ],
   "source": [
    "df_seleccion"
   ]
  },
  {
   "cell_type": "code",
   "execution_count": 14,
   "id": "35b36bf9",
   "metadata": {},
   "outputs": [],
   "source": [
    "##Se aplica al DataFrame .describe()"
   ]
  },
  {
   "cell_type": "code",
   "execution_count": 15,
   "id": "1599096d",
   "metadata": {},
   "outputs": [
    {
     "data": {
      "text/html": [
       "<div>\n",
       "<style scoped>\n",
       "    .dataframe tbody tr th:only-of-type {\n",
       "        vertical-align: middle;\n",
       "    }\n",
       "\n",
       "    .dataframe tbody tr th {\n",
       "        vertical-align: top;\n",
       "    }\n",
       "\n",
       "    .dataframe thead th {\n",
       "        text-align: right;\n",
       "    }\n",
       "</style>\n",
       "<table border=\"1\" class=\"dataframe\">\n",
       "  <thead>\n",
       "    <tr style=\"text-align: right;\">\n",
       "      <th></th>\n",
       "      <th>Edad</th>\n",
       "    </tr>\n",
       "  </thead>\n",
       "  <tbody>\n",
       "    <tr>\n",
       "      <th>count</th>\n",
       "      <td>18569.000000</td>\n",
       "    </tr>\n",
       "    <tr>\n",
       "      <th>mean</th>\n",
       "      <td>51.930583</td>\n",
       "    </tr>\n",
       "    <tr>\n",
       "      <th>std</th>\n",
       "      <td>18.455814</td>\n",
       "    </tr>\n",
       "    <tr>\n",
       "      <th>min</th>\n",
       "      <td>1.000000</td>\n",
       "    </tr>\n",
       "    <tr>\n",
       "      <th>25%</th>\n",
       "      <td>37.000000</td>\n",
       "    </tr>\n",
       "    <tr>\n",
       "      <th>50%</th>\n",
       "      <td>53.000000</td>\n",
       "    </tr>\n",
       "    <tr>\n",
       "      <th>75%</th>\n",
       "      <td>66.000000</td>\n",
       "    </tr>\n",
       "    <tr>\n",
       "      <th>max</th>\n",
       "      <td>100.000000</td>\n",
       "    </tr>\n",
       "  </tbody>\n",
       "</table>\n",
       "</div>"
      ],
      "text/plain": [
       "               Edad\n",
       "count  18569.000000\n",
       "mean      51.930583\n",
       "std       18.455814\n",
       "min        1.000000\n",
       "25%       37.000000\n",
       "50%       53.000000\n",
       "75%       66.000000\n",
       "max      100.000000"
      ]
     },
     "execution_count": 15,
     "metadata": {},
     "output_type": "execute_result"
    }
   ],
   "source": [
    "df_seleccion.describe()"
   ]
  },
  {
   "cell_type": "code",
   "execution_count": 16,
   "id": "2539507e",
   "metadata": {},
   "outputs": [],
   "source": [
    "##Cuál es el diagnóstico que más se repite, utilizando la Moda (.mode())"
   ]
  },
  {
   "cell_type": "code",
   "execution_count": 17,
   "id": "1d7ac92a",
   "metadata": {},
   "outputs": [
    {
     "data": {
      "text/plain": [
       "0    APENDICE CECAL\n",
       "Name: DiagnosticoMedico, dtype: object"
      ]
     },
     "execution_count": 17,
     "metadata": {},
     "output_type": "execute_result"
    }
   ],
   "source": [
    "df_seleccion[\"DiagnosticoMedico\"].mode()"
   ]
  },
  {
   "cell_type": "code",
   "execution_count": 18,
   "id": "028bc2f5",
   "metadata": {},
   "outputs": [],
   "source": [
    "## Para agrupar por valor se utiliza .groupby(\"Campo\").size() y size calcula la cantidad de cada campo"
   ]
  },
  {
   "cell_type": "code",
   "execution_count": 19,
   "id": "0d4c4325",
   "metadata": {},
   "outputs": [
    {
     "name": "stdout",
     "output_type": "stream",
     "text": [
      "Sexo\n",
      "F    12075\n",
      "M     6494\n",
      "dtype: int64\n"
     ]
    }
   ],
   "source": [
    "df_sexo=df_seleccion.groupby(\"Sexo\").size()\n",
    "print(df_sexo)"
   ]
  },
  {
   "cell_type": "code",
   "execution_count": 20,
   "id": "5d09b25d",
   "metadata": {},
   "outputs": [],
   "source": [
    "##Se tiene que las razas están codificadas, para sustituir el código por la descripción se utiliza\n",
    "##Un diccionario y luego se reemplaza esos valores en los código correspondientes"
   ]
  },
  {
   "cell_type": "code",
   "execution_count": 21,
   "id": "3ce4b263",
   "metadata": {},
   "outputs": [],
   "source": [
    "#Se crea el diccionario de razas\n",
    "nom_raza = {'M':'Mestiza', 'B':'Blanca', 'N':'Negra','A':'Amarilla'}"
   ]
  },
  {
   "cell_type": "code",
   "execution_count": 22,
   "id": "77bf5561-4a41-4fbc-b7a4-e0402be69864",
   "metadata": {},
   "outputs": [
    {
     "name": "stdout",
     "output_type": "stream",
     "text": [
      "      Sexo  Edad     Raza                               DiagnosticoMedico\n",
      "0        F    58  Mestiza       Colectomia Izquierda y derecha de ovarios\n",
      "1        F    53   Blanca                                     Colectomia \n",
      "2        F    27   Blanca    Descartar lesion intrapiterial de alto grado\n",
      "3        F    80   Blanca                                         carepi \n",
      "4        F    40  Mestiza                                 Miomas uterinos\n",
      "...    ...   ...      ...                                             ...\n",
      "18564    F    60   Blanca                             NEVUS MELANOCITICO \n",
      "18565    M    86   Blanca                       CARCINOMA BASAL ULCERADO \n",
      "18566    F    55   Blanca                              SINDROME DE SWEETH\n",
      "18567    M    96   Blanca                     CARCINOMA BASAL ULCERADO   \n",
      "18568    F    84   Blanca                        NODULO DE MAMA DERECHA  \n",
      "\n",
      "[18569 rows x 4 columns]\n"
     ]
    }
   ],
   "source": [
    "#Se hace la sustitución\n",
    "df_seleccion['Raza'] = df_seleccion['Raza'].replace(nom_raza)\n",
    "print(df_seleccion)"
   ]
  },
  {
   "cell_type": "code",
   "execution_count": 23,
   "id": "678a829b",
   "metadata": {},
   "outputs": [],
   "source": [
    "##Para hacer una tabla de frecuencias\n",
    "##Se aplica al DataFrame['Campo'].value_counts()\n",
    "## cuenta por cada fila la ocurrencia del campo"
   ]
  },
  {
   "cell_type": "code",
   "execution_count": 24,
   "id": "ba703e17",
   "metadata": {},
   "outputs": [
    {
     "name": "stdout",
     "output_type": "stream",
     "text": [
      "APENDICE CECAL                                                                680\n",
      "VESICULA BILIAR                                                               340\n",
      "ENDOMETRIO                                                                    211\n",
      "CONO X ASA                                                                    163\n",
      "CARCINOMA BASAL                                                               124\n",
      "                                                                             ... \n",
      "   VERRUGA ALA NASAL IZQ                                                        1\n",
      "   ID- NEOPLASIA INTRAPITELIAR ENDOMETRIO ALTO GRADO     PIEZA- ENDOMETRIO      1\n",
      "   ID- H.T     GRANULOMA ANULAR                                                 1\n",
      "   ID- PALADAR DURO                                                             1\n",
      "  NODULO DE MAMA DERECHA                                                        1\n",
      "Name: DiagnosticoMedico, Length: 11072, dtype: int64\n"
     ]
    }
   ],
   "source": [
    "frecuencias_Diagnostico = df_seleccion['DiagnosticoMedico'].value_counts()\n",
    "print(frecuencias_Diagnostico)"
   ]
  },
  {
   "cell_type": "code",
   "execution_count": 25,
   "id": "96d87d66-96dd-47c7-b192-91066820633d",
   "metadata": {},
   "outputs": [
    {
     "name": "stdout",
     "output_type": "stream",
     "text": [
      "Blanca      16000\n",
      "Mestiza      1413\n",
      "Negra        1060\n",
      "Amarilla       96\n",
      "Name: Raza, dtype: int64\n"
     ]
    }
   ],
   "source": [
    "#frecuencias_razas = df_tabla['Raza'].value_counts()\n",
    "frecuencias_razas = df_seleccion['Raza'].value_counts()\n",
    "print(frecuencias_razas)"
   ]
  },
  {
   "cell_type": "markdown",
   "id": "0c96d48f",
   "metadata": {},
   "source": [
    "'''\n",
    "#Tabla cruzada cantidad Raza/Sexo\n",
    "'''"
   ]
  },
  {
   "cell_type": "code",
   "execution_count": 26,
   "id": "37509e6f",
   "metadata": {},
   "outputs": [
    {
     "name": "stdout",
     "output_type": "stream",
     "text": [
      "Sexo          F     M\n",
      "Raza                 \n",
      "Amarilla     69    27\n",
      "Blanca    10286  5714\n",
      "Mestiza    1025   388\n",
      "Negra       695   365\n"
     ]
    }
   ],
   "source": [
    "df_tabla_Cantidad = pd.pivot_table(df_seleccion, values='Edad', index='Raza', columns='Sexo', aggfunc='count')\n",
    "print(df_tabla_Cantidad)"
   ]
  },
  {
   "cell_type": "markdown",
   "id": "407916d0-2692-4236-b21d-67be6a45346a",
   "metadata": {},
   "source": [
    "#**Una tabla cruzada con la media**"
   ]
  },
  {
   "cell_type": "code",
   "execution_count": 27,
   "id": "8e81c64d-6a9f-4365-b1a1-cca5dd0a993e",
   "metadata": {},
   "outputs": [
    {
     "name": "stdout",
     "output_type": "stream",
     "text": [
      "Sexo              F          M\n",
      "Raza                          \n",
      "Amarilla  43.739130  51.000000\n",
      "Blanca    49.381295  58.539727\n",
      "Mestiza   43.241951  51.698454\n",
      "Negra     47.030216  55.901370\n"
     ]
    }
   ],
   "source": [
    "#datos = {'producto': ['A', 'B', 'C', 'A', 'B', 'C'],\n",
    "##         'mes': ['enero', 'enero', 'enero', 'febrero', 'febrero', 'febrero'],\n",
    "#         'ventas': [100, 200, 150, 150, 250, 200]}\n",
    "#df = pd.DataFrame(datos)\n",
    "\n",
    "# Hacemos la tabla de referencia cruzada\n",
    "df_tabla_Media = pd.pivot_table(df_seleccion, values='Edad', index='Raza', columns='Sexo', aggfunc='mean')\n",
    "\n",
    "# Imprimimos la tabla de referencia cruzada\n",
    "print(df_tabla_Media)"
   ]
  },
  {
   "cell_type": "markdown",
   "id": "033fb26a-9bc2-4f4c-bc7e-bd5ea955681d",
   "metadata": {},
   "source": [
    "**Tabla cruzada con la mediana**\n",
    "La función está en Numpy, por lo que hay que importarla"
   ]
  },
  {
   "cell_type": "code",
   "execution_count": 28,
   "id": "f7a46639-fd1a-4dcb-a8ae-45c724f94773",
   "metadata": {},
   "outputs": [
    {
     "name": "stdout",
     "output_type": "stream",
     "text": [
      "Sexo       F   M\n",
      "Raza            \n",
      "Amarilla  41  60\n",
      "Blanca    50  60\n",
      "Mestiza   42  53\n",
      "Negra     47  59\n"
     ]
    }
   ],
   "source": [
    "df_tabla_Mediana = pd.pivot_table(df_seleccion, values='Edad', index='Raza', columns='Sexo', aggfunc=np.median)\n",
    "print(df_tabla_Mediana)"
   ]
  },
  {
   "cell_type": "markdown",
   "id": "a4f8ffa9",
   "metadata": {},
   "source": [
    "###Tabla cruzada con la Varianza"
   ]
  },
  {
   "cell_type": "code",
   "execution_count": 29,
   "id": "2cebce5b",
   "metadata": {},
   "outputs": [
    {
     "name": "stdout",
     "output_type": "stream",
     "text": [
      "Sexo               F           M\n",
      "Raza                            \n",
      "Amarilla  439.313299  272.846154\n",
      "Blanca    328.711187  315.152719\n",
      "Mestiza   256.566402  366.180153\n",
      "Negra     226.233956  340.572663\n"
     ]
    }
   ],
   "source": [
    "df_tabla_Varianza = pd.pivot_table(df_seleccion, values='Edad', index='Raza', columns='Sexo', aggfunc=np.var)\n",
    "print(df_tabla_Varianza)"
   ]
  },
  {
   "cell_type": "markdown",
   "id": "4fbffbf1-8339-4326-8578-9bf7d2bd873b",
   "metadata": {},
   "source": [
    "**Tabla cruzada**\n",
    "Con la Desviación"
   ]
  },
  {
   "cell_type": "code",
   "execution_count": 30,
   "id": "8068dc08-f97d-4aa2-9db0-7afbedf5b80d",
   "metadata": {},
   "outputs": [
    {
     "name": "stdout",
     "output_type": "stream",
     "text": [
      "Sexo              F          M\n",
      "Raza                          \n",
      "Amarilla  20.959802  16.518055\n",
      "Blanca    18.130394  17.752541\n",
      "Mestiza   16.017690  19.135834\n",
      "Negra     15.041076  18.454611\n"
     ]
    }
   ],
   "source": [
    "df_tabla_Desviacion = pd.pivot_table(df_seleccion, values='Edad', index='Raza', columns='Sexo', aggfunc=np.std)\n",
    "print(df_tabla_Desviacion)"
   ]
  },
  {
   "cell_type": "code",
   "execution_count": 31,
   "id": "32a0aa93",
   "metadata": {},
   "outputs": [
    {
     "name": "stdout",
     "output_type": "stream",
     "text": [
      "Sexo       F   M\n",
      "Raza            \n",
      "Amarilla  23  62\n",
      "Blanca    48  58\n",
      "Mestiza   35  58\n",
      "Negra     36  70\n"
     ]
    },
    {
     "name": "stderr",
     "output_type": "stream",
     "text": [
      "/tmp/ipykernel_615525/2149731988.py:6: FutureWarning: Unlike other reduction functions (e.g. `skew`, `kurtosis`), the default behavior of `mode` typically preserves the axis it acts along. In SciPy 1.11.0, this behavior will change: the default value of `keepdims` will become False, the `axis` over which the statistic is taken will be eliminated, and the value None will no longer be accepted. Set `keepdims` to True or False to avoid this warning.\n",
      "  moda = mode(x)[0]\n"
     ]
    }
   ],
   "source": [
    "#import pandas as pd\n",
    "from scipy.stats import mode\n",
    "\n",
    "# Definir una función de agregación personalizada para la moda\n",
    "def moda_personalizada(x):\n",
    "    moda = mode(x)[0]\n",
    "    if isinstance(moda, np.ndarray):\n",
    "        return list(moda)\n",
    "    else:\n",
    "        return [moda]\n",
    "\n",
    "#Crear un DataFrame de ejemplo\n",
    "#datos = {'producto': ['A', 'B', 'C', 'A', 'B', 'C'],\n",
    "#         'mes': ['Enero', 'Enero', 'Enero', 'Febrero', 'Febrero', 'Febrero'],\n",
    "#         'ventas': [100, 120, 80, 90, 110, 70]}\n",
    "#df = pd.DataFrame(datos)\n",
    "\n",
    "# Calcular la moda utilizando la función de agregación personalizada\n",
    "tabla_pivote_moda = pd.pivot_table(df_seleccion, values='Edad', index='Raza', columns='Sexo', aggfunc=moda_personalizada)\n",
    "\n",
    "# Seleccionar la primera moda de la lista\n",
    "tabla_pivote_moda = tabla_pivote_moda.applymap(lambda x: x[0])\n",
    "\n",
    "print(tabla_pivote_moda)"
   ]
  },
  {
   "cell_type": "code",
   "execution_count": 32,
   "id": "be48844b",
   "metadata": {},
   "outputs": [],
   "source": [
    "import matplotlib.pyplot as plt\n",
    "%matplotlib inline"
   ]
  },
  {
   "cell_type": "code",
   "execution_count": 33,
   "id": "98b4661a",
   "metadata": {},
   "outputs": [
    {
     "data": {
      "text/plain": [
       "Text(0, 0.5, 'Media')"
      ]
     },
     "execution_count": 33,
     "metadata": {},
     "output_type": "execute_result"
    },
    {
     "data": {
      "image/png": "[encoded data removed]",
      "text/plain": [
       "<Figure size 1000x2000 with 1 Axes>"
      ]
     },
     "metadata": {},
     "output_type": "display_data"
    }
   ],
   "source": [
    "df_tabla_Media.plot(kind = 'bar',              width=0.8,              subplots=False,              figsize=(10,20))\n",
    "plt.title('Media de Edad por Raza y Sexo')\n",
    "#plt.xlabel('Eje X')\n",
    "plt.ylabel('Media')"
   ]
  },
  {
   "cell_type": "code",
   "execution_count": 34,
   "id": "2dd01624-53f8-4c9b-b516-48d9f274b7a2",
   "metadata": {},
   "outputs": [
    {
     "data": {
      "text/plain": [
       "Text(0, 0.5, 'Mediana')"
      ]
     },
     "execution_count": 34,
     "metadata": {},
     "output_type": "execute_result"
    },
    {
     "data": {
      "image/png": "[encoded data removed]",
      "text/plain": [
       "<Figure size 1000x2000 with 1 Axes>"
      ]
     },
     "metadata": {},
     "output_type": "display_data"
    }
   ],
   "source": [
    "df_tabla_Mediana.plot(kind = 'bar',              width=0.8,              subplots=False,              figsize=(10,20))\n",
    "plt.title('Mediana de Edad por Raza y Sexo')\n",
    "#plt.xlabel('Eje X')\n",
    "plt.ylabel('Mediana')"
   ]
  },
  {
   "cell_type": "code",
   "execution_count": null,
   "id": "6bc1c595-2408-4c98-921d-d1f20293b0f1",
   "metadata": {},
   "outputs": [
    {
     "data": {
      "text/plain": [
       "Text(0, 0.5, 'Desviación')"
      ]
     },
     "execution_count": 39,
     "metadata": {},
     "output_type": "execute_result"
    },
    {
     "data": {
      "image/png": "[encoded data removed]",
      "text/plain": [
       "<Figure size 1000x2000 with 1 Axes>"
      ]
     },
     "metadata": {},
     "output_type": "display_data"
    }
   ],
   "source": [
    "df_tabla_Desviacion.plot(kind = 'bar',              width=0.8,              subplots=False,              figsize=(10,20))\n",
    "plt.title('Desviación de Edad por Raza y Sexo')\n",
    "#plt.xlabel('Eje X')\n",
    "plt.ylabel('Desviación')"
   ]
  }
 ],
 "metadata": {
  "kernelspec": {
   "display_name": "Python 3.9.13 ('base')",
   "language": "python",
   "name": "python3"
  },
  "language_info": {
   "codemirror_mode": {
    "name": "ipython",
    "version": 3
   },
   "file_extension": ".py",
   "mimetype": "text/x-python",
   "name": "python",
   "nbconvert_exporter": "python",
   "pygments_lexer": "ipython3",
   "version": "3.9.13"
  },
  "vscode": {
   "interpreter": {
    "hash": "efe00025c560aead19293e1637941b09453624d6ace6ea54e47b419efe79e1f9"
   }
  }
 },
 "nbformat": 4,
 "nbformat_minor": 5
}
